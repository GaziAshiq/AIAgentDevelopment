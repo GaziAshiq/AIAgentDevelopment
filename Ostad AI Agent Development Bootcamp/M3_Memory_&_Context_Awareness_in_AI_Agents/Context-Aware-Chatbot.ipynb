{
 "cells": [
  {
   "metadata": {},
   "cell_type": "markdown",
   "source": "1. Imports & Setup",
   "id": "8561b73b71b16beb"
  },
  {
   "cell_type": "code",
   "id": "initial_id",
   "metadata": {
    "collapsed": true,
    "ExecuteTime": {
     "end_time": "2025-07-31T14:00:10.375508Z",
     "start_time": "2025-07-31T14:00:10.372990Z"
    }
   },
   "source": [
    "import requests\n",
    "import uuid\n",
    "from langchain.document_loaders import PyMuPDFLoader\n",
    "from langchain.text_splitter import RecursiveCharacterTextSplitter\n",
    "from langchain.embeddings import OllamaEmbeddings\n",
    "from langchain.vectorstores import Chroma\n",
    "from langchain.chat_models import ChatOllama\n",
    "from langchain.chains import create_retrieval_chain\n",
    "from langchain.chains.combine_documents import create_stuff_documents_chain\n",
    "from langchain_core.prompts import ChatPromptTemplate, MessagesPlaceholder\n",
    "from langchain_core.runnables import RunnableWithMessageHistory\n",
    "from langchain_core.chat_history import InMemoryChatMessageHistory\n",
    "import os"
   ],
   "outputs": [],
   "execution_count": 8
  },
  {
   "metadata": {
    "ExecuteTime": {
     "end_time": "2025-07-31T14:00:10.395260Z",
     "start_time": "2025-07-31T14:00:10.393314Z"
    }
   },
   "cell_type": "code",
   "source": [
    "# Download PDF (keep your existing code)\n",
    "pdf_url = \"https://assets.openstax.org/oscms-prodcms/media/documents/Introduction_to_Python_Programming_-_WEB.pdf\"\n",
    "pdf_path = \"sample.pdf\"\n",
    "if not os.path.exists(pdf_path):\n",
    "    response = requests.get(pdf_url)\n",
    "    with open(pdf_path, 'wb') as f:\n",
    "        f.write(response.content)"
   ],
   "id": "aaf6725c737feef0",
   "outputs": [],
   "execution_count": 9
  },
  {
   "metadata": {},
   "cell_type": "markdown",
   "source": "2. Long-term Memory (PDF Processing)",
   "id": "b29123f7b064f3dc"
  },
  {
   "metadata": {
    "ExecuteTime": {
     "end_time": "2025-07-31T14:00:10.754815Z",
     "start_time": "2025-07-31T14:00:10.415260Z"
    }
   },
   "cell_type": "code",
   "source": [
    "loader = PyMuPDFLoader(pdf_path)\n",
    "docs = loader.load()\n",
    "splitter = RecursiveCharacterTextSplitter(chunk_size=1000, chunk_overlap=200)\n",
    "chunks = splitter.split_documents(docs)"
   ],
   "id": "20990a3392708087",
   "outputs": [],
   "execution_count": 10
  },
  {
   "metadata": {
    "ExecuteTime": {
     "end_time": "2025-07-31T14:00:40.164172Z",
     "start_time": "2025-07-31T14:00:10.763094Z"
    }
   },
   "cell_type": "code",
   "source": [
    "# 3. 🧠 Embeddings + Chroma\n",
    "embeddings = OllamaEmbeddings(model=\"nomic-embed-text\")\n",
    "vectorstore = Chroma.from_documents(chunks, embeddings)"
   ],
   "id": "ab96131e5a07babd",
   "outputs": [],
   "execution_count": 11
  },
  {
   "metadata": {},
   "cell_type": "markdown",
   "source": "3. Retrieval System",
   "id": "39624e1f32cd5d11"
  },
  {
   "metadata": {
    "ExecuteTime": {
     "end_time": "2025-07-31T14:00:40.179119Z",
     "start_time": "2025-07-31T14:00:40.176829Z"
    }
   },
   "cell_type": "code",
   "source": [
    "# Context-aware chatbot setup\n",
    "llm = ChatOllama(model=\"gemma3:12b\")\n",
    "\n",
    "# Create retriever\n",
    "retriever = vectorstore.as_retriever(search_kwargs={\"k\": 3})\n",
    "\n",
    "# 5. Context-Aware Prompt <---------------\n",
    "# Prompt template with conversation history\n",
    "prompt = ChatPromptTemplate.from_messages([\n",
    "    (\"system\", \"Answer questions based on the context: {context}. Consider previous conversation.\"),\n",
    "    MessagesPlaceholder(variable_name=\"chat_history\"),\n",
    "    (\"human\", \"{input}\")\n",
    "])\n",
    "\n",
    "# Create chains\n",
    "document_chain = create_stuff_documents_chain(llm, prompt)\n",
    "retrieval_chain = create_retrieval_chain(retriever, document_chain)"
   ],
   "id": "c931e6dfb27e0997",
   "outputs": [],
   "execution_count": 12
  },
  {
   "metadata": {},
   "cell_type": "markdown",
   "source": "4. Short-term Memory (Conversation Context)",
   "id": "3a464f2fd8d4c99c"
  },
  {
   "metadata": {
    "ExecuteTime": {
     "end_time": "2025-07-31T14:00:40.227005Z",
     "start_time": "2025-07-31T14:00:40.225112Z"
    }
   },
   "cell_type": "code",
   "source": [
    "# Session store for conversation history\n",
    "session_store = {}\n",
    "\n",
    "def get_session_history(session_id: str):\n",
    "    if session_id not in session_store:\n",
    "        session_store[session_id] = InMemoryChatMessageHistory()\n",
    "    return session_store[session_id]\n",
    "\n",
    "# Context-aware chain\n",
    "context_aware_chain = RunnableWithMessageHistory(\n",
    "    retrieval_chain,\n",
    "    get_session_history,\n",
    "    input_messages_key=\"input\",\n",
    "    history_messages_key=\"chat_history\",\n",
    "    output_messages_key=\"answer\"\n",
    ")"
   ],
   "id": "80c76d6d65eba7fc",
   "outputs": [],
   "execution_count": 13
  },
  {
   "metadata": {
    "ExecuteTime": {
     "end_time": "2025-07-31T14:01:28.180012Z",
     "start_time": "2025-07-31T14:00:40.248600Z"
    }
   },
   "cell_type": "code",
   "source": [
    "# Test the context-aware chatbot\n",
    "session_id = str(uuid.uuid4())\n",
    "\n",
    "def chat(message):\n",
    "    config = {\"configurable\": {\"session_id\": session_id}}\n",
    "    response = context_aware_chain.invoke({\"input\": message}, config=config)\n",
    "    return response[\"answer\"]\n",
    "\n",
    "# Test with context awareness\n",
    "print(\"=== Context-Aware Chatbot Test ===\")\n",
    "\n",
    "# First question\n",
    "q1 = \"What is Python programming about?\"\n",
    "a1 = chat(q1)\n",
    "print(f\"Q1: {q1}\")\n",
    "print(f\"A1: {a1[:200]}...\\n\")\n",
    "\n",
    "# Follow-up question (tests short-term memory)\n",
    "q2 = \"Can you explain that in simpler terms?\"\n",
    "a2 = chat(q2)\n",
    "print(f\"Q2: {q2}\")\n",
    "print(f\"A2: {a2[:200]}...\\n\")\n",
    "\n",
    "# Another follow-up\n",
    "q3 = \"What are its main benefits?\"\n",
    "a3 = chat(q3)\n",
    "print(f\"Q3: {q3}\")\n",
    "print(f\"A3: {a3[:200]}...\")"
   ],
   "id": "288aca88db21cbb",
   "outputs": [
    {
     "name": "stdout",
     "output_type": "stream",
     "text": [
      "=== Context-Aware Chatbot Test ===\n",
      "Q1: What is Python programming about?\n",
      "A1: According to the text, Python programming is about:\n",
      "\n",
      "*   **Input and output:** Getting information into and displaying information out of the program.\n",
      "*   **Assigning variables:** Storing data in name...\n",
      "\n",
      "Q2: Can you explain that in simpler terms?\n",
      "A2: Okay, let's break it down simply:\n",
      "\n",
      "Python programming is basically about teaching a computer how to do things for you. The text highlights that it's used for:\n",
      "\n",
      "*   **Getting information in and showing...\n",
      "\n",
      "Q3: What are its main benefits?\n",
      "A3: According to the text, the main benefits of using functions in Python programming are:\n",
      "\n",
      "*   **Modularity:** Functions help organize your code by grouping related statements together.\n",
      "*   **Reusability...\n"
     ]
    }
   ],
   "execution_count": 14
  },
  {
   "metadata": {
    "ExecuteTime": {
     "end_time": "2025-07-31T14:01:28.205667Z",
     "start_time": "2025-07-31T14:01:28.204129Z"
    }
   },
   "cell_type": "code",
   "source": "",
   "id": "6266d0fcf921239e",
   "outputs": [],
   "execution_count": null
  }
 ],
 "metadata": {
  "kernelspec": {
   "display_name": "Python 3",
   "language": "python",
   "name": "python3"
  },
  "language_info": {
   "codemirror_mode": {
    "name": "ipython",
    "version": 2
   },
   "file_extension": ".py",
   "mimetype": "text/x-python",
   "name": "python",
   "nbconvert_exporter": "python",
   "pygments_lexer": "ipython2",
   "version": "2.7.6"
  }
 },
 "nbformat": 4,
 "nbformat_minor": 5
}
