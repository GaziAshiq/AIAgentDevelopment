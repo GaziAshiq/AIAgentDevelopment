{
 "cells": [
  {
   "cell_type": "code",
   "id": "initial_id",
   "metadata": {
    "collapsed": true,
    "ExecuteTime": {
     "end_time": "2025-04-07T14:20:05.373576Z",
     "start_time": "2025-04-07T14:20:05.367708Z"
    }
   },
   "source": [
    "import os\n",
    "from dotenv import load_dotenv\n",
    "load_dotenv()"
   ],
   "outputs": [
    {
     "data": {
      "text/plain": [
       "True"
      ]
     },
     "execution_count": 52,
     "metadata": {},
     "output_type": "execute_result"
    }
   ],
   "execution_count": 52
  },
  {
   "metadata": {
    "ExecuteTime": {
     "end_time": "2025-04-07T14:20:05.394140Z",
     "start_time": "2025-04-07T14:20:05.389849Z"
    }
   },
   "cell_type": "code",
   "source": [
    "gemini_api_key = os.getenv(\"GEMINI_API_KEY\")\n",
    "if gemini_api_key is None:\n",
    "    raise ValueError(\"GEMINI_API_KEY environment variable not set.\")"
   ],
   "id": "f4e59aec3c155427",
   "outputs": [],
   "execution_count": 53
  },
  {
   "metadata": {
    "ExecuteTime": {
     "end_time": "2025-04-07T14:20:05.417235Z",
     "start_time": "2025-04-07T14:20:05.413346Z"
    }
   },
   "cell_type": "code",
   "source": [
    "from langchain_google_genai import ChatGoogleGenerativeAI\n",
    "from langchain.prompts import PromptTemplate\n",
    "from langchain.chains import LLMChain"
   ],
   "id": "888b7989b1fe6adb",
   "outputs": [],
   "execution_count": 54
  },
  {
   "metadata": {
    "ExecuteTime": {
     "end_time": "2025-04-07T14:20:05.438100Z",
     "start_time": "2025-04-07T14:20:05.432164Z"
    }
   },
   "cell_type": "code",
   "source": [
    "faq_data = [\n",
    "    {\n",
    "        \"question\": \"What is the capital of France?\",\n",
    "        \"answer\": \"The capital of France is Paris.\"\n",
    "    },\n",
    "    {\n",
    "        \"question\": \"What is the largest planet in our solar system?\",\n",
    "        \"answer\": \"The largest planet in our solar system is Jupiter.\"\n",
    "    },\n",
    "    {\n",
    "        \"question\": \"Who wrote 'To Kill a Mockingbird'?\",\n",
    "        \"answer\": \"'To Kill a Mockingbird' was written by Harper Lee.\"\n",
    "    },\n",
    "    {\n",
    "        \"question\": \"What is the boiling point of water?\",\n",
    "        \"answer\": \"The boiling point of water is 100 degrees Celsius at sea level.\"\n",
    "    },\n",
    "    {\n",
    "        \"question\": \"What is the speed of light?\",\n",
    "        \"answer\": \"The speed of light is approximately 299,792 kilometers per second.\"\n",
    "    }\n",
    "]"
   ],
   "id": "12370d9cf8b3b823",
   "outputs": [],
   "execution_count": 55
  },
  {
   "metadata": {
    "ExecuteTime": {
     "end_time": "2025-04-07T14:20:05.460924Z",
     "start_time": "2025-04-07T14:20:05.454895Z"
    }
   },
   "cell_type": "code",
   "source": "chat_model = ChatGoogleGenerativeAI(model=\"gemini-2.0-flash\", temperature=1.0, api_key=gemini_api_key)",
   "id": "d9a3a692d288a99e",
   "outputs": [],
   "execution_count": 56
  },
  {
   "metadata": {
    "ExecuteTime": {
     "end_time": "2025-04-07T14:20:05.471303Z",
     "start_time": "2025-04-07T14:20:05.466267Z"
    }
   },
   "cell_type": "code",
   "source": [
    "faq_template = PromptTemplate(\n",
    "    input_variables=[\"question\", \"faq_data\"],\n",
    "    template=\"You are an FAQ bot. Answer the question based on the following data:\\n{faq_data}\\n\\nQuestion: {question}\\nAnswer:\"\n",
    ")"
   ],
   "id": "6bf29f051eea0e81",
   "outputs": [],
   "execution_count": 57
  },
  {
   "metadata": {
    "ExecuteTime": {
     "end_time": "2025-04-07T14:20:05.484074Z",
     "start_time": "2025-04-07T14:20:05.480702Z"
    }
   },
   "cell_type": "code",
   "source": [
    "faq_chain = LLMChain(\n",
    "    llm=chat_model,\n",
    "    prompt=faq_template,\n",
    "    verbose=True\n",
    ")"
   ],
   "id": "75c46d5dc1f90b3f",
   "outputs": [],
   "execution_count": 58
  },
  {
   "metadata": {
    "ExecuteTime": {
     "end_time": "2025-04-07T14:20:05.509306Z",
     "start_time": "2025-04-07T14:20:05.504804Z"
    }
   },
   "cell_type": "code",
   "source": [
    "def chatbot():\n",
    "    print(\"Welcome to the FAQ Bot! Type 'exit' to quit.\")\n",
    "    while True:\n",
    "        user_input = input(\"You: \")\n",
    "        if user_input.lower() == \"exit\":\n",
    "            break\n",
    "        response = faq_chain.run(question=user_input, faq_data=faq_data)\n",
    "        print(f\"Bot: {response}\")"
   ],
   "id": "4613919fa4d1ac84",
   "outputs": [],
   "execution_count": 59
  },
  {
   "metadata": {
    "ExecuteTime": {
     "end_time": "2025-04-07T14:20:47.776983Z",
     "start_time": "2025-04-07T14:20:05.513829Z"
    }
   },
   "cell_type": "code",
   "source": "chatbot()",
   "id": "e75748f416de37e3",
   "outputs": [
    {
     "name": "stdout",
     "output_type": "stream",
     "text": [
      "Welcome to the FAQ Bot! Type 'exit' to quit.\n",
      "\n",
      "\n",
      "\u001B[1m> Entering new LLMChain chain...\u001B[0m\n",
      "Prompt after formatting:\n",
      "\u001B[32;1m\u001B[1;3mYou are an FAQ bot. Answer the question based on the following data:\n",
      "[{'question': 'What is the capital of France?', 'answer': 'The capital of France is Paris.'}, {'question': 'What is the largest planet in our solar system?', 'answer': 'The largest planet in our solar system is Jupiter.'}, {'question': \"Who wrote 'To Kill a Mockingbird'?\", 'answer': \"'To Kill a Mockingbird' was written by Harper Lee.\"}, {'question': 'What is the boiling point of water?', 'answer': 'The boiling point of water is 100 degrees Celsius at sea level.'}, {'question': 'What is the speed of light?', 'answer': 'The speed of light is approximately 299,792 kilometers per second.'}]\n",
      "\n",
      "Question: france capital?\n",
      "Answer:\u001B[0m\n",
      "\n",
      "\u001B[1m> Finished chain.\u001B[0m\n",
      "Bot: The capital of France is Paris.\n",
      "\n",
      "\n",
      "\u001B[1m> Entering new LLMChain chain...\u001B[0m\n",
      "Prompt after formatting:\n",
      "\u001B[32;1m\u001B[1;3mYou are an FAQ bot. Answer the question based on the following data:\n",
      "[{'question': 'What is the capital of France?', 'answer': 'The capital of France is Paris.'}, {'question': 'What is the largest planet in our solar system?', 'answer': 'The largest planet in our solar system is Jupiter.'}, {'question': \"Who wrote 'To Kill a Mockingbird'?\", 'answer': \"'To Kill a Mockingbird' was written by Harper Lee.\"}, {'question': 'What is the boiling point of water?', 'answer': 'The boiling point of water is 100 degrees Celsius at sea level.'}, {'question': 'What is the speed of light?', 'answer': 'The speed of light is approximately 299,792 kilometers per second.'}]\n",
      "\n",
      "Question: what solar system?\n",
      "Answer:\u001B[0m\n",
      "\n",
      "\u001B[1m> Finished chain.\u001B[0m\n",
      "Bot: The largest planet in our solar system is Jupiter.\n"
     ]
    }
   ],
   "execution_count": 60
  },
  {
   "metadata": {
    "ExecuteTime": {
     "end_time": "2025-04-07T14:20:47.796637Z",
     "start_time": "2025-04-07T14:20:47.793786Z"
    }
   },
   "cell_type": "code",
   "source": "",
   "id": "ffa83dd7abb82081",
   "outputs": [],
   "execution_count": null
  }
 ],
 "metadata": {
  "kernelspec": {
   "display_name": "Python 3",
   "language": "python",
   "name": "python3"
  },
  "language_info": {
   "codemirror_mode": {
    "name": "ipython",
    "version": 2
   },
   "file_extension": ".py",
   "mimetype": "text/x-python",
   "name": "python",
   "nbconvert_exporter": "python",
   "pygments_lexer": "ipython2",
   "version": "2.7.6"
  }
 },
 "nbformat": 4,
 "nbformat_minor": 5
}
