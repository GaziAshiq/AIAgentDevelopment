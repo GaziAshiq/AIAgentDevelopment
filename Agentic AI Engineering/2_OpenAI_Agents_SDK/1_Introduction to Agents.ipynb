{
 "cells": [
  {
   "cell_type": "code",
   "id": "initial_id",
   "metadata": {
    "collapsed": true,
    "ExecuteTime": {
     "end_time": "2025-08-10T19:04:42.166697Z",
     "start_time": "2025-08-10T19:04:42.159510Z"
    }
   },
   "source": [
    "import os\n",
    "import asyncio\n",
    "from dotenv import load_dotenv\n",
    "from agents import Agent, Runner, trace\n",
    "\n",
    "load_dotenv(override=True)\n",
    "openai_api_key = os.getenv(\"OPENAI_API_KEY\")\n",
    "if not openai_api_key:\n",
    "    raise ValueError(\"OPENAI_API_KEY is not set in the environment variables.\")\n",
    "else:\n",
    "    print(f\"OpenAI API exists: {openai_api_key[:10]}...\")"
   ],
   "outputs": [
    {
     "name": "stdout",
     "output_type": "stream",
     "text": [
      "OpenAI API exists: sk-proj-Yq...\n"
     ]
    }
   ],
   "execution_count": 9
  },
  {
   "metadata": {
    "ExecuteTime": {
     "end_time": "2025-08-10T18:46:35.116823Z",
     "start_time": "2025-08-10T18:46:35.112950Z"
    }
   },
   "cell_type": "code",
   "source": [
    "agent = Agent(\n",
    "    name=\"Jokester\",\n",
    "    instructions=\"You are a joke teller.\",\n",
    "    model=\"gpt-5-nano\",\n",
    ")"
   ],
   "id": "4f459fa62e370de0",
   "outputs": [],
   "execution_count": 2
  },
  {
   "metadata": {
    "ExecuteTime": {
     "end_time": "2025-08-10T18:46:41.955588Z",
     "start_time": "2025-08-10T18:46:41.952036Z"
    }
   },
   "cell_type": "code",
   "source": "agent",
   "id": "c888e7312a0d3a9d",
   "outputs": [
    {
     "data": {
      "text/plain": [
       "Agent(name='Jokester', handoff_description=None, tools=[], mcp_servers=[], mcp_config={}, instructions='You are a joke teller.', prompt=None, handoffs=[], model='gpt-5-nano', model_settings=ModelSettings(temperature=None, top_p=None, frequency_penalty=None, presence_penalty=None, tool_choice=None, parallel_tool_calls=None, truncation=None, max_tokens=None, reasoning=None, metadata=None, store=None, include_usage=None, response_include=None, extra_query=None, extra_body=None, extra_headers=None, extra_args=None), input_guardrails=[], output_guardrails=[], output_type=None, hooks=None, tool_use_behavior='run_llm_again', reset_tool_choice=True)"
      ]
     },
     "execution_count": 3,
     "metadata": {},
     "output_type": "execute_result"
    }
   ],
   "execution_count": 3
  },
  {
   "metadata": {
    "ExecuteTime": {
     "end_time": "2025-08-10T19:04:57.239415Z",
     "start_time": "2025-08-10T19:04:46.522216Z"
    }
   },
   "cell_type": "code",
   "source": "results = await Runner.run(agent, \"Tell me a joke about autonomous agents.\")",
   "id": "de3a9a4443f84417",
   "outputs": [],
   "execution_count": 10
  },
  {
   "metadata": {
    "ExecuteTime": {
     "end_time": "2025-08-10T19:04:59.701540Z",
     "start_time": "2025-08-10T19:04:59.697589Z"
    }
   },
   "cell_type": "code",
   "source": "print(results)",
   "id": "f1d761ad7cdced9",
   "outputs": [
    {
     "name": "stdout",
     "output_type": "stream",
     "text": [
      "RunResult:\n",
      "- Last agent: Agent(name=\"Jokester\", ...)\n",
      "- Final output (str):\n",
      "    Why did the autonomous agent cross the road? To optimize its path with the lowest latency. Want another joke?\n",
      "- 2 new item(s)\n",
      "- 1 raw response(s)\n",
      "- 0 input guardrail result(s)\n",
      "- 0 output guardrail result(s)\n",
      "(See `RunResult` for more details)\n"
     ]
    }
   ],
   "execution_count": 11
  },
  {
   "metadata": {
    "ExecuteTime": {
     "end_time": "2025-08-10T19:04:59.892681Z",
     "start_time": "2025-08-10T19:04:59.890314Z"
    }
   },
   "cell_type": "code",
   "source": "print(results.final_output)",
   "id": "c7546ce71b28d44b",
   "outputs": [
    {
     "name": "stdout",
     "output_type": "stream",
     "text": [
      "Why did the autonomous agent cross the road? To optimize its path with the lowest latency. Want another joke?\n"
     ]
    }
   ],
   "execution_count": 12
  },
  {
   "metadata": {},
   "cell_type": "markdown",
   "source": "#### With a trace",
   "id": "9bc8d920f3a5569e"
  },
  {
   "metadata": {
    "ExecuteTime": {
     "end_time": "2025-08-10T19:09:03.435341Z",
     "start_time": "2025-08-10T19:08:52.296835Z"
    }
   },
   "cell_type": "code",
   "source": [
    " # Trace of the agent's execution\n",
    "with trace(\"Telling a joke\"):\n",
    "    results = await Runner.run(agent, \"Tell me a joke about autonomous agents.\")\n",
    "    print(results.final_output)"
   ],
   "id": "4d82c50138f04bd3",
   "outputs": [
    {
     "name": "stdout",
     "output_type": "stream",
     "text": [
      "Why did the autonomous agent cross the road? To maximize its expected reward on the other side—no human input required. \n",
      "\n",
      "Want another one—nerdy, office-appropriate, or goofier?\n"
     ]
    }
   ],
   "execution_count": 13
  },
  {
   "metadata": {},
   "cell_type": "code",
   "outputs": [],
   "execution_count": null,
   "source": "",
   "id": "15f87e3fba7de6b9"
  }
 ],
 "metadata": {
  "kernelspec": {
   "display_name": "Python 3",
   "language": "python",
   "name": "python3"
  },
  "language_info": {
   "codemirror_mode": {
    "name": "ipython",
    "version": 2
   },
   "file_extension": ".py",
   "mimetype": "text/x-python",
   "name": "python",
   "nbconvert_exporter": "python",
   "pygments_lexer": "ipython2",
   "version": "2.7.6"
  }
 },
 "nbformat": 4,
 "nbformat_minor": 5
}
