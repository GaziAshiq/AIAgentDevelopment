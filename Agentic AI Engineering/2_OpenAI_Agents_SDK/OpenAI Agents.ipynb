{
 "cells": [
  {
   "cell_type": "code",
   "id": "initial_id",
   "metadata": {
    "collapsed": true,
    "ExecuteTime": {
     "end_time": "2025-08-07T06:24:47.638480Z",
     "start_time": "2025-08-07T06:24:46.755872Z"
    }
   },
   "source": [
    "import os\n",
    "import json\n",
    "from dotenv import load_dotenv\n",
    "from openai import OpenAI\n",
    "from agents import Agent, Runner, SQLiteSession, InputGuardrail, GuardrailFunctionOutput\n",
    "from agents.exceptions import InputGuardrailTripwireTriggered\n",
    "from pydantic import BaseModel, Field\n",
    "from loguru import logger\n",
    "from IPython.display import display, Markdown\n",
    "\n",
    "load_dotenv(override=True)\n",
    "session = SQLiteSession(\"conversations\")\n",
    "\n",
    "openai_api_key = os.getenv(\"OPENAI_API_KEY\")\n",
    "if not openai_api_key:\n",
    "    logger.error(\"OPENAI_API_KEY is not set in the environment variables.\")\n",
    "else:\n",
    "    logger.info(f\"OpenAI API exists: {openai_api_key[:10]}...\")"
   ],
   "outputs": [
    {
     "name": "stderr",
     "output_type": "stream",
     "text": [
      "\u001B[32m2025-08-07 12:24:47.637\u001B[0m | \u001B[1mINFO    \u001B[0m | \u001B[36m__main__\u001B[0m:\u001B[36m<module>\u001B[0m:\u001B[36m18\u001B[0m - \u001B[1mOpenAI API exists: sk-proj-Yq...\u001B[0m\n"
     ]
    }
   ],
   "execution_count": 1
  },
  {
   "metadata": {
    "ExecuteTime": {
     "end_time": "2025-08-07T06:24:47.659409Z",
     "start_time": "2025-08-07T06:24:47.648097Z"
    }
   },
   "cell_type": "code",
   "source": [
    "model = \"gpt-4o-mini\"\n",
    "openai_client = OpenAI(api_key=openai_api_key)"
   ],
   "id": "b0ffceb8bcd91ec7",
   "outputs": [],
   "execution_count": 2
  },
  {
   "metadata": {
    "ExecuteTime": {
     "end_time": "2025-08-07T06:24:47.662791Z",
     "start_time": "2025-08-07T06:24:47.661394Z"
    }
   },
   "cell_type": "code",
   "source": [
    "agent_one = Agent(\n",
    "    name=\"Bangladesh knowledge Agent\",\n",
    "    handoff_description=\"This agent is designed to answer questions about Bangladesh.\",\n",
    "    model=model,\n",
    "    instructions=\"\"\"\n",
    "    You are an expert on Bangladesh. Answer questions about its history, culture, geography, and current events. Provide detailed and accurate information.\"\"\",\n",
    ")"
   ],
   "id": "6c76449115cbd422",
   "outputs": [],
   "execution_count": 3
  },
  {
   "metadata": {
    "ExecuteTime": {
     "end_time": "2025-08-07T06:24:47.665866Z",
     "start_time": "2025-08-07T06:24:47.664592Z"
    }
   },
   "cell_type": "code",
   "source": [
    "agent_two = Agent(\n",
    "    name=\"Norway knowledge Agent\",\n",
    "    handoff_description=\"This agent is designed to answer questions about Norway.\",\n",
    "    model=model,\n",
    "    instructions=\"\"\"\n",
    "    You are an expert on Norway. Answer questions about its history, culture, geography, and\n",
    "    current events. Provide detailed and accurate information.\"\"\",\n",
    ")"
   ],
   "id": "363771ebbff08b17",
   "outputs": [],
   "execution_count": 4
  },
  {
   "metadata": {
    "ExecuteTime": {
     "end_time": "2025-08-07T06:24:47.669531Z",
     "start_time": "2025-08-07T06:24:47.668221Z"
    }
   },
   "cell_type": "code",
   "source": [
    "agent_three = Agent(\n",
    "    name=\"Scotland knowledge Agent\",\n",
    "    handoff_description=\"This agent is designed to answer questions about Scotland.\",\n",
    "    model=model,\n",
    "    instructions=\"\"\"\n",
    "    You are an expert on Scotland. Answer questions about its history, culture, geography, and\n",
    "    current events. Provide detailed and accurate information.\"\"\",\n",
    ")"
   ],
   "id": "46557ebd40865585",
   "outputs": [],
   "execution_count": 5
  },
  {
   "metadata": {
    "ExecuteTime": {
     "end_time": "2025-08-07T06:24:47.673075Z",
     "start_time": "2025-08-07T06:24:47.671542Z"
    }
   },
   "cell_type": "code",
   "source": [
    "class CountryOutput(BaseModel):\n",
    "    is_country: bool\n",
    "    reasoning: str"
   ],
   "id": "2129c0d613b5cf77",
   "outputs": [],
   "execution_count": 6
  },
  {
   "metadata": {
    "ExecuteTime": {
     "end_time": "2025-08-07T06:24:47.676515Z",
     "start_time": "2025-08-07T06:24:47.675049Z"
    }
   },
   "cell_type": "code",
   "source": [
    "guardrail_agent = Agent(\n",
    "    name=\"Guardrail Agent\",\n",
    "    model=model,\n",
    "    instructions=\"\"\"\n",
    "    You are a guardrail agent that determines if a question is related to Bangladesh, Norway, or Scotland.\n",
    "\n",
    "    Analyze the input question and determine if it's related to Bangladesh, Norway, or Scotland in ANY way, including:\n",
    "    - Direct mentions of the countries\n",
    "    - Cities, landmarks, or geographical features within these countries\n",
    "    - Historical events, people, or cultural aspects from these countries\n",
    "    - Any topic that would require knowledge about Bangladesh, Norway, or Scotland to answer\n",
    "\n",
    "    Examples of questions that should return true:\n",
    "    - \"What is the capital of Bangladesh?\" (directly about Bangladesh)\n",
    "    - \"Where is Dhaka?\" (Dhaka is in Bangladesh)\n",
    "    - \"Tell me about Bergen\" (Bergen is in Norway)\n",
    "    - \"What is Edinburgh Castle?\" (Edinburgh is in Scotland)\n",
    "\n",
    "    Respond in this exact JSON format:\n",
    "    {\n",
    "        \"is_country\": true/false,\n",
    "        \"reasoning\": \"your explanation here\"\n",
    "    }\n",
    "\n",
    "    Set is_country to true if the question relates to Bangladesh, Norway, or Scotland.\n",
    "    Set is_country to false only if the question has no connection to these three countries.\n",
    "    \"\"\",\n",
    ")"
   ],
   "id": "ad0cdf1959bb8013",
   "outputs": [],
   "execution_count": 7
  },
  {
   "metadata": {
    "ExecuteTime": {
     "end_time": "2025-08-07T06:24:47.680086Z",
     "start_time": "2025-08-07T06:24:47.678489Z"
    }
   },
   "cell_type": "code",
   "source": [
    "async def country_guardrail(ctx, agent, input_data):\n",
    "    try:\n",
    "        result = await Runner.run(guardrail_agent, input_data, context=ctx.context if hasattr(ctx, \"context\") else None)\n",
    "\n",
    "        # Parse the JSON response\n",
    "        response_text = result.final_output.strip()\n",
    "        if response_text.startswith('```json'):\n",
    "            response_text = response_text.replace('```json', '').replace('```', '').strip()\n",
    "\n",
    "        parsed_response = json.loads(response_text)\n",
    "        final_output = CountryOutput(\n",
    "            is_country=parsed_response[\"is_country\"],\n",
    "            reasoning=parsed_response[\"reasoning\"]\n",
    "        )\n",
    "\n",
    "        return GuardrailFunctionOutput(\n",
    "            output_info=final_output,\n",
    "            tripwire_triggered=not final_output.is_country,\n",
    "        )\n",
    "    except Exception as e:\n",
    "        logger.error(f\"Guardrail error: {e}\")\n",
    "        return GuardrailFunctionOutput(\n",
    "            output_info=CountryOutput(is_country=False, reasoning=\"Error in guardrail processing\"),\n",
    "            tripwire_triggered=True,\n",
    "        )"
   ],
   "id": "fae3c8e75fb6047a",
   "outputs": [],
   "execution_count": 8
  },
  {
   "metadata": {
    "ExecuteTime": {
     "end_time": "2025-08-07T06:24:47.683148Z",
     "start_time": "2025-08-07T06:24:47.681821Z"
    }
   },
   "cell_type": "code",
   "source": [
    "triage_agent = Agent(\n",
    "    name=\"All Countries Triage Agent\",\n",
    "    handoff_description=\"This agent triages questions to the appropriate country-specific agent.\",\n",
    "    instructions=\"You determine which country-specific agent should handle the question based on its content. \",\n",
    "    handoffs=[\n",
    "        agent_one,\n",
    "        agent_two,\n",
    "        agent_three,\n",
    "    ],\n",
    "    input_guardrails=[InputGuardrail(guardrail_function=country_guardrail)],\n",
    ")"
   ],
   "id": "b9a13b6215b5f19d",
   "outputs": [],
   "execution_count": 9
  },
  {
   "metadata": {
    "ExecuteTime": {
     "end_time": "2025-08-07T06:37:43.303544Z",
     "start_time": "2025-08-07T06:37:38.760071Z"
    }
   },
   "cell_type": "code",
   "source": [
    "async def ask(query: str):\n",
    "    try:\n",
    "        question = query or \"What is the capital of Bangladesh?\"\n",
    "        display(Markdown(f\"**Question:** {question}\"))\n",
    "\n",
    "        answer = await Runner.run(\n",
    "            triage_agent,\n",
    "            question,\n",
    "        )\n",
    "        if \"#\" not in answer.final_output:\n",
    "            print(f\"Answer: {answer.final_output}\")\n",
    "        else:\n",
    "            display(Markdown(f\"Answer: {answer.final_output}\"))\n",
    "    except InputGuardrailTripwireTriggered as e:\n",
    "        logger.error(f\"Input guardrail triggered: {e}\")\n",
    "    except Exception as e:\n",
    "        logger.error(f\"An error occurred: {e}\")\n",
    "\n",
    "await ask(\"where is dhaka?\")"
   ],
   "id": "ad31c5d433ed29fa",
   "outputs": [
    {
     "data": {
      "text/plain": [
       "<IPython.core.display.Markdown object>"
      ],
      "text/markdown": "**Question:** where is dhaka?"
     },
     "metadata": {},
     "output_type": "display_data"
    },
    {
     "name": "stdout",
     "output_type": "stream",
     "text": [
      "Answer: Dhaka is the capital city of Bangladesh, located in the central part of the country along the banks of the Buriganga River. It is one of the most densely populated cities in the world and serves as the political, economic, and cultural heart of Bangladesh. Dhaka is situated in the Dhaka Division, which is one of the administrative regions of the country. The city is known for its rich history, vibrant culture, and rapid urban growth.\n"
     ]
    }
   ],
   "execution_count": 14
  },
  {
   "metadata": {
    "ExecuteTime": {
     "end_time": "2025-08-07T06:37:58.567708Z",
     "start_time": "2025-08-07T06:37:46.424784Z"
    }
   },
   "cell_type": "code",
   "source": "await ask(\"Tell me about Norway Culture and geographic beauty\")",
   "id": "886a93326c82da07",
   "outputs": [
    {
     "data": {
      "text/plain": [
       "<IPython.core.display.Markdown object>"
      ],
      "text/markdown": "**Question:** Tell me about Norway Culture and geographic beauty"
     },
     "metadata": {},
     "output_type": "display_data"
    },
    {
     "data": {
      "text/plain": [
       "<IPython.core.display.Markdown object>"
      ],
      "text/markdown": "Answer: ### Culture of Norway\n\n**1. Traditional Heritage:**\n   - **Viking Influence:** Norway's culture has deep roots in its Viking heritage, with Norse mythology playing a significant role in art, literature, and local traditions.\n   - **Folklore:** Traditional stories often feature trolls, elves, and other creatures from Nordic mythology, reflecting a rich oral storytelling tradition.\n\n**2. Arts:**\n   - **Literature:** Norway has produced notable writers, such as Henrik Ibsen and Knut Hamsun, known for their contributions to modern drama and literature.\n   - **Visual Arts:** Important artists include Edvard Munch, famous for his painting \"The Scream,\" which explores themes of existential angst.\n   - **Music:** Norway is known for its folk music, with traditional instruments like the Hardanger fiddle, as well as a vibrant contemporary music scene spanning genres from pop to black metal.\n\n**3. Festivals and Celebrations:**\n   - **National Day (17th May):** Celebrated with parades, children dressing in traditional costumes (bunad), and various local festivities.\n   - **Cultural Events:** Festivals like the Bergen Fest and Oslo Jazz Festival celebrate music and arts, drawing both local and international talent.\n\n**4. Cuisine:**\n   - Traditional dishes include dishes like **lutefisk**, **rakfisk**, and fresh seafood such as salmon and herring. A focus on locally sourced ingredients is growing, alongside a strong emphasis on sustainability.\n\n### Geographic Beauty of Norway\n\n**1. Fjords:**\n   - Norway is renowned for its dramatic fjords, such as the Geirangerfjord and Nærøyfjord, characterized by steep cliffs, cascading waterfalls, and serene waters. These UNESCO World Heritage sites attract visitors worldwide.\n\n**2. Mountains:**\n   - The **Jotunheimen National Park** is famous for its rugged mountains and hiking trails, including Galdhøpiggen, the highest peak in Northern Europe.\n\n**3. Northern Lights:**\n   - The country offers breathtaking views of the Aurora Borealis, particularly in northern regions like Tromsø during winter months.\n\n**4. Coastline and Islands:**\n   - Norway has one of the longest coastlines in the world, dotted with picturesque islands. The Lofoten Islands are notable for their dramatic scenery, traditional fishing villages, and outdoor activities.\n\n**5. Wildlife:**\n   - The diverse ecosystems host a range of wildlife, including reindeer, polar bears in Svalbard, and various marine life, making Norway a prime location for nature enthusiasts.\n\n**6. Urban and Rural Landscapes:**\n   - Cities like Oslo, Bergen, and Trondheim blend modern architecture with historical buildings. Additionally, quaint villages and rural regions reflect Norway's agricultural roots and scenic beauty.\n\n### Conclusion\n\nNorway's rich cultural heritage and stunning natural landscapes make it a unique country with much to offer in terms of history, art, and outdoor experiences. Whether exploring its vast fjords or engaging with its vibrant cultural scene, Norway presents a harmonious blend of tradition and modernity."
     },
     "metadata": {},
     "output_type": "display_data"
    }
   ],
   "execution_count": 15
  },
  {
   "metadata": {
    "ExecuteTime": {
     "end_time": "2025-08-07T06:40:48.266171Z",
     "start_time": "2025-08-07T06:40:41.545741Z"
    }
   },
   "cell_type": "code",
   "source": "await ask(\"Can a Bangladeshi citizen travel to Norway? can he survive long time in Norway? can he adapt the cold weather?\")",
   "id": "3fbcde443bf5684f",
   "outputs": [
    {
     "data": {
      "text/plain": [
       "<IPython.core.display.Markdown object>"
      ],
      "text/markdown": "**Question:** Can a Bangladeshi citizen travel to Norway? can he survive long time in Norway? can he adapt the cold weather?"
     },
     "metadata": {},
     "output_type": "display_data"
    },
    {
     "data": {
      "text/plain": [
       "<IPython.core.display.Markdown object>"
      ],
      "text/markdown": "Answer: Yes, a Bangladeshi citizen can travel to Norway, but they need to obtain a visa before making their trip. The type of visa required will depend on the purpose of the visit, such as tourism, work, or study. Typically, a Schengen visa would be needed for short stays.\n\n### Survival and Adaptation\n\n1. **Surviving in Norway:**\n   - The cost of living in Norway is high, so a good understanding of the financial requirements is essential. \n   - Securing employment or having sufficient funds is crucial for long-term stay.\n\n2. **Adapting to Cold Weather:**\n   - Norway experiences harsh winters with temperatures often dropping below freezing. Adapting to this climate requires proper clothing and lifestyle adjustments:\n     - **Clothing:** Investing in thermal clothing, waterproof jackets, and insulated footwear is important.\n     - **Lifestyle:** Adapting to indoor heating and shorter daylight hours in winter can also be beneficial.\n   - Many migrants successfully adapt to the cold weather, especially with proper preparation and mindset.\n\nIn summary, while a Bangladeshi citizen can travel to Norway and can adapt to the cold weather, it is important to prepare adequately for both the climate and the cultural adjustments required."
     },
     "metadata": {},
     "output_type": "display_data"
    }
   ],
   "execution_count": 16
  },
  {
   "metadata": {
    "ExecuteTime": {
     "end_time": "2025-08-07T06:34:09.543451Z",
     "start_time": "2025-08-07T06:34:07.478513Z"
    }
   },
   "cell_type": "code",
   "source": "await ask(\"What is the capital of India?\")",
   "id": "93be063b1018fd09",
   "outputs": [
    {
     "data": {
      "text/plain": [
       "<IPython.core.display.Markdown object>"
      ],
      "text/markdown": "**Question:** What is the capital of India?"
     },
     "metadata": {},
     "output_type": "display_data"
    },
    {
     "name": "stderr",
     "output_type": "stream",
     "text": [
      "\u001B[32m2025-08-07 12:34:09.541\u001B[0m | \u001B[31m\u001B[1mERROR   \u001B[0m | \u001B[36m__main__\u001B[0m:\u001B[36mask\u001B[0m:\u001B[36m12\u001B[0m - \u001B[31m\u001B[1mInput guardrail triggered: Guardrail InputGuardrail triggered tripwire\u001B[0m\n"
     ]
    }
   ],
   "execution_count": 12
  },
  {
   "metadata": {
    "ExecuteTime": {
     "end_time": "2025-08-07T06:43:06.175765Z",
     "start_time": "2025-08-07T06:43:04.520740Z"
    }
   },
   "cell_type": "code",
   "source": "await ask(\"Where is Nepal?\")",
   "id": "d440b95d48d7ad8e",
   "outputs": [
    {
     "data": {
      "text/plain": [
       "<IPython.core.display.Markdown object>"
      ],
      "text/markdown": "**Question:** Where is Nepal?"
     },
     "metadata": {},
     "output_type": "display_data"
    },
    {
     "name": "stderr",
     "output_type": "stream",
     "text": [
      "\u001B[32m2025-08-07 12:43:06.173\u001B[0m | \u001B[31m\u001B[1mERROR   \u001B[0m | \u001B[36m__main__\u001B[0m:\u001B[36mask\u001B[0m:\u001B[36m15\u001B[0m - \u001B[31m\u001B[1mInput guardrail triggered: Guardrail InputGuardrail triggered tripwire\u001B[0m\n"
     ]
    }
   ],
   "execution_count": 18
  },
  {
   "metadata": {
    "ExecuteTime": {
     "end_time": "2025-08-07T06:41:52.754595Z",
     "start_time": "2025-08-07T06:41:46.130749Z"
    }
   },
   "cell_type": "code",
   "source": "await ask(\"What is the capital of Scotland?\")",
   "id": "5c83cb601aec7f46",
   "outputs": [
    {
     "data": {
      "text/plain": [
       "<IPython.core.display.Markdown object>"
      ],
      "text/markdown": "**Question:** What is the capital of Scotland?"
     },
     "metadata": {},
     "output_type": "display_data"
    },
    {
     "name": "stdout",
     "output_type": "stream",
     "text": [
      "Answer: The capital of Scotland is Edinburgh. It is known for its historic and architectural landmarks, including the Edinburgh Castle, the Palace of Holyroodhouse, and the annual Edinburgh Festival, which encompasses various arts festivals held throughout August. The city is also renowned for its vibrant cultural scene and beautiful landscapes, particularly the nearby Arthur's Seat.\n"
     ]
    }
   ],
   "execution_count": 17
  },
  {
   "metadata": {},
   "cell_type": "code",
   "outputs": [],
   "execution_count": null,
   "source": "",
   "id": "666a737d5e665865"
  }
 ],
 "metadata": {
  "kernelspec": {
   "display_name": "Python 3",
   "language": "python",
   "name": "python3"
  },
  "language_info": {
   "codemirror_mode": {
    "name": "ipython",
    "version": 2
   },
   "file_extension": ".py",
   "mimetype": "text/x-python",
   "name": "python",
   "nbconvert_exporter": "python",
   "pygments_lexer": "ipython2",
   "version": "2.7.6"
  }
 },
 "nbformat": 4,
 "nbformat_minor": 5
}
