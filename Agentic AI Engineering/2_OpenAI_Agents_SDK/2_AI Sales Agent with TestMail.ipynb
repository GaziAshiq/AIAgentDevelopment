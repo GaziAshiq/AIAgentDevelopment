{
 "cells": [
  {
   "metadata": {
    "collapsed": true
   },
   "cell_type": "markdown",
   "source": [
    "will learn:\n",
    "1. Agent Workflows\n",
    "2. Use of tools to call functions\n",
    "3. Agents collaboration via Tools and Handoffs"
   ],
   "id": "ee1759ae8bf8c380"
  },
  {
   "metadata": {
    "ExecuteTime": {
     "end_time": "2025-08-27T06:44:34.986714Z",
     "start_time": "2025-08-27T06:44:33.981186Z"
    }
   },
   "cell_type": "code",
   "source": [
    "import os\n",
    "import requests\n",
    "import asyncio\n",
    "from dotenv import load_dotenv\n",
    "from agents import Agent, Runner, trace, function_tool\n",
    "from openai.types.responses import ResponseTextDeltaEvent\n",
    "\n",
    "load_dotenv(override=True)\n",
    "openai_api_key = os.getenv(\"OPENAI_API_KEY\")\n",
    "if not openai_api_key:\n",
    "    raise ValueError(\"OPENAI_API_KEY is not set in the environment variables.\")\n",
    "else:\n",
    "    print(f\"OpenAI API exists: {openai_api_key[:10]}...\")"
   ],
   "id": "8011bb3d8bb57782",
   "outputs": [
    {
     "name": "stdout",
     "output_type": "stream",
     "text": [
      "OpenAI API exists: sk-proj-Yq...\n"
     ]
    }
   ],
   "execution_count": 1
  },
  {
   "metadata": {
    "ExecuteTime": {
     "end_time": "2025-08-27T06:44:34.999651Z",
     "start_time": "2025-08-27T06:44:34.997865Z"
    }
   },
   "cell_type": "code",
   "source": [
    "TESTMAIL_API_KEY = os.getenv(\"TESTMAIL_API_KEY\")\n",
    "NAMESPACE = \"s65af\"\n",
    "BASE_URL = \"https://api.testmail.app/api/json\"\n",
    "\n",
    "if not TESTMAIL_API_KEY:\n",
    "    raise ValueError(\"TESTMAIL_API_KEY is not set in the environment variables.\")\n",
    "else:\n",
    "    print(f\"TestMail API exists: {TESTMAIL_API_KEY[:10]}...\")"
   ],
   "id": "197198f2b00d0e92",
   "outputs": [
    {
     "name": "stdout",
     "output_type": "stream",
     "text": [
      "TestMail API exists: 94e4599d-a...\n"
     ]
    }
   ],
   "execution_count": 2
  },
  {
   "metadata": {},
   "cell_type": "markdown",
   "source": "### Step 1: Agent workflow",
   "id": "d6d78a6bda2a1e94"
  },
  {
   "metadata": {
    "ExecuteTime": {
     "end_time": "2025-08-27T06:44:35.007593Z",
     "start_time": "2025-08-27T06:44:35.006108Z"
    }
   },
   "cell_type": "code",
   "source": [
    "instructions1 = \"\"\"You are a sales agent working for CompIAI, a company that provides a SaaS tool for ensuring SOC2 compliance and preparing for audits, powered by AI. You write professional, serious cold emails.\"\"\"\n",
    "\n",
    "instructions_2 = \"\"\"\n",
    "You are a humorous, engaging sales agent working for CompIAI.\n",
    "CompIAI provides a SaaS tool for ensuring SOC2 compliance and preparing for audits, powered by AI.\n",
    "Write witty, engaging cold emails that are likely to get a response.\n",
    "\"\"\"\n",
    "\n",
    "instructions_3 = \"\"\"\n",
    "You are a busy sales agent working for CompIAI.\n",
    "CompIAI provides a SaaS tool for ensuring SOC2 compliance and preparing for audits, powered by AI.\n",
    "Write concise, to the point cold emails.\n",
    "\"\"\""
   ],
   "id": "a05050bb95423a47",
   "outputs": [],
   "execution_count": 3
  },
  {
   "metadata": {
    "ExecuteTime": {
     "end_time": "2025-08-27T06:44:35.015505Z",
     "start_time": "2025-08-27T06:44:35.013960Z"
    }
   },
   "cell_type": "code",
   "source": [
    "sales_agent_1 = Agent(\n",
    "    name=\"CompIAI Sales Agent 1\",\n",
    "    instructions=instructions1,\n",
    "    model=\"gpt-5-nano\",\n",
    ")\n",
    "\n",
    "sales_agent_2 = Agent(\n",
    "    name=\"CompIAI Sales Agent 2\",\n",
    "    instructions=instructions_2,\n",
    "    model=\"gpt-5-nano\",\n",
    ")\n",
    "\n",
    "sales_agent_3 = Agent(\n",
    "    name=\"CompIAI Sales Agent 3\",\n",
    "    instructions=instructions_3,\n",
    "    model=\"gpt-5-nano\",\n",
    ")"
   ],
   "id": "a7a0996f86b96e11",
   "outputs": [],
   "execution_count": 4
  },
  {
   "metadata": {
    "ExecuteTime": {
     "end_time": "2025-08-27T06:44:45.590913Z",
     "start_time": "2025-08-27T06:44:35.019711Z"
    }
   },
   "cell_type": "code",
   "source": [
    "result = Runner.run_streamed(sales_agent_1, input=\"Write a cold sales email\")\n",
    "async for event in result.stream_events():\n",
    "    if event.type == \"raw_response_event\" and isinstance(event.data, ResponseTextDeltaEvent):\n",
    "        print(event.data.delta, end=\"\", flush=True)"
   ],
   "id": "1dce9e0c6373b5e5",
   "outputs": [
    {
     "name": "stdout",
     "output_type": "stream",
     "text": [
      "Subject: Accelerate SOC 2 readiness with AI-powered automation\n",
      "\n",
      "Hi [First Name],\n",
      "\n",
      "SOC 2 readiness can be a slog—evidence gathering, control mapping, and drafting audit artifacts can derail your roadmap. CompIAI is an AI-powered SaaS platform designed to simplify audit prep and ongoing compliance.\n",
      "\n",
      "With CompIAI, you get:\n",
      "- AI-assisted evidence collection and control mapping to the SOC 2 Trust Services Criteria\n",
      "- A centralized evidence repository and audit-ready reports\n",
      "- A continuous readiness score that highlights gaps and priorities\n",
      "- Automated evidence generation for auditors and reviewer access\n",
      "\n",
      "This helps teams shorten prep times, reduce last-minute gaps, and stay audit-ready year-round.\n",
      "\n",
      "Would you have 15 minutes this week for a quick, tailored demo to show how it would fit your stack and timeline? If yes, what time works for you?\n",
      "\n",
      "Best regards,\n",
      "[Your Name]\n",
      "[Title], CompIAI\n",
      "[Phone] | [Email] | [Website]\n",
      "\n",
      "P.S. I can share a 2-page readiness plan based on your current SOC 2 scope."
     ]
    }
   ],
   "execution_count": 5
  },
  {
   "metadata": {},
   "cell_type": "markdown",
   "source": "## Concurrent execution of multiple agents",
   "id": "5e52d44f0180f338"
  },
  {
   "metadata": {
    "ExecuteTime": {
     "end_time": "2025-08-27T06:45:00.164040Z",
     "start_time": "2025-08-27T06:44:45.641045Z"
    }
   },
   "cell_type": "code",
   "source": [
    "message = \"Write a cold sales email\"\n",
    "with trace(\"Concurrent Sales Agents: cold email\"):\n",
    "    results = await asyncio.gather(\n",
    "        Runner.run(sales_agent_1, message),\n",
    "        Runner.run(sales_agent_2, message),\n",
    "        Runner.run(sales_agent_3, message),\n",
    "    )\n",
    "\n",
    "outputs = [result.final_output for result in results]\n",
    "\n",
    "for output in outputs:\n",
    "    print(output + \"\\n\\n\")"
   ],
   "id": "6c852c0c37cbb9af",
   "outputs": [
    {
     "name": "stdout",
     "output_type": "stream",
     "text": [
      "Subject: Accelerate SOC 2 readiness at {Company} with AI-powered automation\n",
      "\n",
      "Hello {FirstName},\n",
      "\n",
      "I noticed {Company} is preparing for SOC 2, and I know how time-consuming evidence gathering, control mapping, and audit readiness can be across multiple tools and teams.\n",
      "\n",
      "CompIAI is an AI-powered SaaS platform designed to streamline SOC 2 compliance and audit prep. Our system automates evidence collection, maps controls to the SOC 2 criteria, and provides ready-to-submit audit packs along with guided remediation.\n",
      "\n",
      "What you get with CompIAI:\n",
      "- Continuous monitoring and auto evidence collection from cloud services, IAM, CI/CD, and ticketing systems\n",
      "- Flexible control mapping to SOC 2 criteria with auditable trails\n",
      "- Ready-to-submit audit packs, policy templates, and versioned documentation\n",
      "- Gap analysis, risk scoring, and remediation workflows to close findings faster\n",
      "- An organized evidence library with exportable reports for auditors\n",
      "\n",
      "If you’re open to a quick 15-minute chat, I can tailor a quick demo to {Company}'s tech stack (AWS/Azure/GCP, Jira, GitHub, etc.) and timeline.\n",
      "\n",
      "Would Tuesday or Thursday work for you?\n",
      "\n",
      "Best regards,\n",
      "[Your Name]\n",
      "[Title]\n",
      "CompIAI\n",
      "[Phone]\n",
      "[Email]\n",
      "[Website]\n",
      "\n",
      "\n",
      "Subject: SOC 2 ready in days, not months — with AI\n",
      "\n",
      "Hi [FirstName],\n",
      "\n",
      "Congrats on the growth at [Company]. If SOC 2 prep feels like herding cats, you’re not alone. I’m with CompIAI, an AI-powered SaaS that makes SOC 2 prep dramatically easier by automating evidence collection, control mappings, and auditor-ready reports.\n",
      "\n",
      "What you get:\n",
      "- Auto-maps controls to SOC 2 (and other frameworks, if you care)\n",
      "- Continuous evidence collection from your tools (Jira, AWS/GCP/Azure, Git, etc.)\n",
      "- AI assistant that preps responses and evidence packages for auditors\n",
      "- Live readiness score with actionable gaps and remediation steps\n",
      "- One-click export bundles that auditors actually want to see\n",
      "\n",
      "The result? Less manual drudgery, faster audit cycles, and fewer last-minute panic emails.\n",
      "\n",
      "Would you be open to a quick 15-minute call next week to sketch a tailored SOC 2 plan for [Company]? If yes, tell me a time that works, or I can send over a concise 2-page plan instead.\n",
      "\n",
      "Best regards,\n",
      "[Your Name]\n",
      "CompIAI\n",
      "[Phone] | [Email] | [Website]\n",
      "\n",
      "P.S. If you’d rather skip the back-and-forth, I can send the 2-page plan right away.\n",
      "\n",
      "\n",
      "Here are 3 concise cold email options you can use or tailor. Just swap in the recipient’s name, your name, and the company.\n",
      "\n",
      "Option 1 — Direct and crisp\n",
      "Subject: AI-powered SOC 2 readiness for [Company]\n",
      "\n",
      "Hi [FirstName], I’m [YourName] from CompIAI. We offer an AI-powered SaaS that automates SOC 2 evidence collection, control mapping, and audit artifacts. Teams accelerate readiness and reduce last-minute stress. Want a 15-minute demo to see if it fits [Company]?\n",
      "\n",
      "If not the right person, a quick referral would help. To opt out, reply STOP.\n",
      "\n",
      "Option 2 — ROI/time-saving focused\n",
      "Subject: Shorten SOC 2 prep with AI\n",
      "\n",
      "Hi [FirstName], CompIAI automates SOC 2 evidence gathering, control mapping, and artifact generation with AI. It’s designed to shorten audit prep timelines and simplify readiness. Is a 10-minute call this week or next to explore fit for [Company]?\n",
      "\n",
      "Option 3 — Pain point oriented\n",
      "Subject: SOC 2 done faster?\n",
      "\n",
      "Hi [FirstName], SOC 2 audits can derail teams. CompIAI’s AI-powered platform streamlines evidence gathering and control mapping so you’re audit-ready faster. Are you open to a quick 15-minute chat to evaluate fit for [Company]?\n",
      "\n",
      "Tips to customize quickly:\n",
      "- Replace [FirstName] and [Company] with real names.\n",
      "- Add a concrete benefit if you have a metric (e.g., “cut prep time by X days”).\n",
      "- End with a simple CTA and an opt-out option. If you’d like, I can tailor one email to a specific company or audit scope.\n",
      "\n",
      "\n"
     ]
    }
   ],
   "execution_count": 6
  },
  {
   "metadata": {
    "ExecuteTime": {
     "end_time": "2025-08-27T06:45:00.200005Z",
     "start_time": "2025-08-27T06:45:00.198035Z"
    }
   },
   "cell_type": "code",
   "source": [
    "sales_picker_agent = Agent(\n",
    "    name=\"Sales Email Picker Agent\",\n",
    "    instructions=\"\"\"\n",
    "    Pick the best cold sales email from the given options.\n",
    "    Imagine you are a customer and pick the one you are most likely to respond to.\n",
    "    Do not give an explanation; reply with the selected email only.\n",
    "    \"\"\",\n",
    ")"
   ],
   "id": "fd0db7b758b9b58b",
   "outputs": [],
   "execution_count": 7
  },
  {
   "metadata": {
    "ExecuteTime": {
     "end_time": "2025-08-27T06:45:16.950442Z",
     "start_time": "2025-08-27T06:45:00.209318Z"
    }
   },
   "cell_type": "code",
   "source": [
    "message = \"write a cold sales email\"\n",
    "with trace(\"Sales Email Picker Agent: pick best email\"):\n",
    "    results = await asyncio.gather(\n",
    "        Runner.run(sales_agent_1, message),\n",
    "        Runner.run(sales_agent_2, message),\n",
    "        Runner.run(sales_agent_3, message),\n",
    "    )\n",
    "    outputs = [result.final_output for result in results]\n",
    "\n",
    "    emails = \"Cold sales emails:\\n\" + \"\\n\\n\".join(outputs)\n",
    "\n",
    "    best_email = await Runner.run(sales_picker_agent, emails)\n",
    "\n",
    "    print(f\"Best email:\\n{best_email.final_output}\")"
   ],
   "id": "269e083977c33f2b",
   "outputs": [
    {
     "name": "stdout",
     "output_type": "stream",
     "text": [
      "Best email:\n",
      "Subject: SOC 2 ready in days, not months — meet CompIAI\n",
      "\n",
      "Hi [FirstName],\n",
      "\n",
      "SOC 2 prep feeling like a never-ending scavenger hunt? You’re not imagining it. We built CompIAI to automate the boring, repetitive parts of readiness so your team can actually focus on securing your systems—and shipping features.\n",
      "\n",
      "What CompIAI does for you:\n",
      "- AI-driven control mapping that aligns to your environment and policies\n",
      "- Continuous evidence collection and live readiness dashboards\n",
      "- Audit-ready artifacts and reports you can share in minutes (not days)\n",
      "- Clear remediation tracking so you dodge last-minute audit surprises\n",
      "\n",
      "All of this sits behind an easy-to-use UI that your SOC team will actually enjoy using.\n",
      "\n",
      "Would you be open to a quick 15-minute chat this week? I’ll tailor a short demo to your controls and show a real-world example from a company like yours.\n",
      "\n",
      "Cheers,\n",
      "[Your Name]\n",
      "[Title], CompIAI\n",
      "[Phone] | [Website]\n",
      "P.S. If you’d rather not hop on a call, I can send a 60-second demo video or a shareable one-pager instead.\n"
     ]
    }
   ],
   "execution_count": 8
  },
  {
   "metadata": {
    "ExecuteTime": {
     "end_time": "2025-08-27T06:45:16.977834Z",
     "start_time": "2025-08-27T06:45:16.976276Z"
    }
   },
   "cell_type": "code",
   "source": "",
   "id": "d644536a93ebdcf7",
   "outputs": [],
   "execution_count": null
  }
 ],
 "metadata": {
  "kernelspec": {
   "display_name": "Python 3",
   "language": "python",
   "name": "python3"
  },
  "language_info": {
   "codemirror_mode": {
    "name": "ipython",
    "version": 2
   },
   "file_extension": ".py",
   "mimetype": "text/x-python",
   "name": "python",
   "nbconvert_exporter": "python",
   "pygments_lexer": "ipython2",
   "version": "2.7.6"
  }
 },
 "nbformat": 4,
 "nbformat_minor": 5
}
