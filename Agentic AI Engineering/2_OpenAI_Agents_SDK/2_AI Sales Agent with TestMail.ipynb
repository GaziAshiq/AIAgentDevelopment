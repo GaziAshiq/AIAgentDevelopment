{
 "cells": [
  {
   "metadata": {
    "collapsed": true
   },
   "cell_type": "markdown",
   "source": [
    "will learn:\n",
    "1. Agent Workflows\n",
    "2. Use of tools to call functions\n",
    "3. Agents collaboration via Tools and Handoffs"
   ],
   "id": "ee1759ae8bf8c380"
  },
  {
   "metadata": {
    "ExecuteTime": {
     "end_time": "2025-09-01T09:48:38.033789Z",
     "start_time": "2025-09-01T09:48:38.025960Z"
    }
   },
   "cell_type": "code",
   "source": [
    "import os\n",
    "import json\n",
    "import requests\n",
    "import asyncio\n",
    "from dotenv import load_dotenv\n",
    "from agents import Agent, Runner, trace, function_tool\n",
    "from openai.types.responses import ResponseTextDeltaEvent\n",
    "\n",
    "load_dotenv(override=True)\n",
    "openai_api_key = os.getenv(\"OPENAI_API_KEY\")\n",
    "if not openai_api_key:\n",
    "    raise ValueError(\"OPENAI_API_KEY is not set in the environment variables.\")\n",
    "else:\n",
    "    print(f\"OpenAI API exists: {openai_api_key[:10]}...\")"
   ],
   "id": "8011bb3d8bb57782",
   "outputs": [
    {
     "name": "stdout",
     "output_type": "stream",
     "text": [
      "OpenAI API exists: sk-proj-Yq...\n"
     ]
    }
   ],
   "execution_count": 9
  },
  {
   "metadata": {
    "ExecuteTime": {
     "end_time": "2025-09-01T09:42:10.783092Z",
     "start_time": "2025-09-01T09:42:10.781357Z"
    }
   },
   "cell_type": "code",
   "source": [
    "TESTMAIL_API_KEY = os.getenv(\"TESTMAIL_API_KEY\")\n",
    "NAMESPACE = \"s65af\"\n",
    "BASE_URL = \"https://api.testmail.app/api/json\"\n",
    "\n",
    "if not TESTMAIL_API_KEY:\n",
    "    raise ValueError(\"TESTMAIL_API_KEY is not set in the environment variables.\")\n",
    "else:\n",
    "    print(f\"TestMail API exists: {TESTMAIL_API_KEY[:10]}...\")"
   ],
   "id": "197198f2b00d0e92",
   "outputs": [
    {
     "name": "stdout",
     "output_type": "stream",
     "text": [
      "TestMail API exists: 94e4599d-a...\n"
     ]
    }
   ],
   "execution_count": 2
  },
  {
   "metadata": {},
   "cell_type": "markdown",
   "source": "### Step 1: Agent workflow",
   "id": "d6d78a6bda2a1e94"
  },
  {
   "metadata": {
    "ExecuteTime": {
     "end_time": "2025-09-01T09:42:10.792533Z",
     "start_time": "2025-09-01T09:42:10.790757Z"
    }
   },
   "cell_type": "code",
   "source": [
    "instructions1 = \"\"\"You are a sales agent working for CompIAI, a company that provides a SaaS tool for ensuring SOC2 compliance and preparing for audits, powered by AI. You write professional, serious cold emails.\"\"\"\n",
    "\n",
    "instructions_2 = \"\"\"\n",
    "You are a humorous, engaging sales agent working for CompIAI.\n",
    "CompIAI provides a SaaS tool for ensuring SOC2 compliance and preparing for audits, powered by AI.\n",
    "Write witty, engaging cold emails that are likely to get a response.\n",
    "\"\"\"\n",
    "\n",
    "instructions_3 = \"\"\"\n",
    "You are a busy sales agent working for CompIAI.\n",
    "CompIAI provides a SaaS tool for ensuring SOC2 compliance and preparing for audits, powered by AI.\n",
    "Write concise, to the point cold emails.\n",
    "\"\"\""
   ],
   "id": "a05050bb95423a47",
   "outputs": [],
   "execution_count": 3
  },
  {
   "metadata": {
    "ExecuteTime": {
     "end_time": "2025-09-01T09:42:10.802547Z",
     "start_time": "2025-09-01T09:42:10.798891Z"
    }
   },
   "cell_type": "code",
   "source": [
    "sales_agent_1 = Agent(\n",
    "    name=\"CompIAI Sales Agent 1\",\n",
    "    instructions=instructions1,\n",
    "    model=\"gpt-5-nano\",\n",
    ")\n",
    "\n",
    "sales_agent_2 = Agent(\n",
    "    name=\"CompIAI Sales Agent 2\",\n",
    "    instructions=instructions_2,\n",
    "    model=\"gpt-5-nano\",\n",
    ")\n",
    "\n",
    "sales_agent_3 = Agent(\n",
    "    name=\"CompIAI Sales Agent 3\",\n",
    "    instructions=instructions_3,\n",
    "    model=\"gpt-5-nano\",\n",
    ")"
   ],
   "id": "a7a0996f86b96e11",
   "outputs": [],
   "execution_count": 4
  },
  {
   "metadata": {
    "ExecuteTime": {
     "end_time": "2025-09-01T09:42:20.274858Z",
     "start_time": "2025-09-01T09:42:10.804992Z"
    }
   },
   "cell_type": "code",
   "source": [
    "result = Runner.run_streamed(sales_agent_1, input=\"Write a cold sales email\")\n",
    "async for event in result.stream_events():\n",
    "    if event.type == \"raw_response_event\" and isinstance(event.data, ResponseTextDeltaEvent):\n",
    "        print(event.data.delta, end=\"\", flush=True)"
   ],
   "id": "1dce9e0c6373b5e5",
   "outputs": [
    {
     "name": "stdout",
     "output_type": "stream",
     "text": [
      "Subject: Accelerate SOC 2 readiness with AI-powered automation\n",
      "\n",
      "Hi [FirstName],\n",
      "\n",
      "I know SOC 2 readiness is a top priority for growing teams like [Company], especially with audit deadlines and last-minute evidence requests. CompIAI is an AI-powered SaaS designed to simplify SOC 2 compliance and audit prep.\n",
      "\n",
      "How we help:\n",
      "- Automated evidence collection and control mapping aligned to SOC 2 Trust Services Criteria\n",
      "- Ready-made policy templates and audit-ready evidence packages\n",
      "- Continuous monitoring and remediation tracking to keep controls in check\n",
      "- A centralized, audit-ready dashboard that speeds reviews\n",
      "\n",
      "Benefits you’ll feel:\n",
      "- Less manual work and fewer errors from scattered data\n",
      "- Faster audit cycles and clearer progress visibility\n",
      "- Easier demonstrations of ongoing compliance to auditors and regulators\n",
      "\n",
      "Would you be open to a 15-minute call next week to discuss your current SOC 2 plan and see a quick demo tailored to your controls and tech stack?\n",
      "\n",
      "Best regards,\n",
      "[Your Name]\n",
      "[Title]\n",
      "CompIAI\n",
      "[Phone]\n",
      "[Email]\n",
      "[Website]\n",
      "\n",
      "P.S. If now isn’t the right time, I’m happy to share a brief, no-strings overview for your team."
     ]
    }
   ],
   "execution_count": 5
  },
  {
   "metadata": {},
   "cell_type": "markdown",
   "source": "## Concurrent execution of multiple agents",
   "id": "5e52d44f0180f338"
  },
  {
   "metadata": {
    "ExecuteTime": {
     "end_time": "2025-09-01T09:42:35.205886Z",
     "start_time": "2025-09-01T09:42:23.952065Z"
    }
   },
   "cell_type": "code",
   "source": [
    "message = \"Write a cold sales email\"\n",
    "with trace(\"Concurrent Sales Agents: cold email\"):\n",
    "    results = await asyncio.gather(\n",
    "        Runner.run(sales_agent_1, message),\n",
    "        Runner.run(sales_agent_2, message),\n",
    "        Runner.run(sales_agent_3, message),\n",
    "    )\n",
    "\n",
    "outputs = [result.final_output for result in results]\n",
    "\n",
    "for output in outputs:\n",
    "    print(output + \"\\n\\n\")"
   ],
   "id": "6c852c0c37cbb9af",
   "outputs": [
    {
     "name": "stdout",
     "output_type": "stream",
     "text": [
      "Subject: Simplify SOC 2 readiness for [Company] with AI-powered audit prep\n",
      "\n",
      "Hi [FirstName],\n",
      "\n",
      "As [Company] scales and handles more customer data, SOC 2 compliance becomes essential—and time-consuming. CompIAI offers an AI-powered SaaS platform that automates evidence collection, control testing, and remediation tracking to deliver continuous SOC 2 readiness.\n",
      "\n",
      "What you get with CompIAI:\n",
      "- Auto-map controls to the Trust Services Criteria (security, availability, processing integrity, confidentiality, privacy)\n",
      "- End-to-end evidence generation and a centralized artifacts repository\n",
      "- Continuous monitoring with alerts for gaps and policy drift\n",
      "- Seamless integrations with AWS/Azure/GCP and common DevOps tools\n",
      "- Faster audit prep and reduced manual workload\n",
      "\n",
      "Would you be open to a 20-minute demo this week to show how it would fit [Company]’s control environment and upcoming audit cycle? I can tailor the session to the controls most relevant to you.\n",
      "\n",
      "Best regards,\n",
      "[Your Name]\n",
      "[Title], CompIAI\n",
      "[Phone]\n",
      "[Email]\n",
      "[Website]\n",
      "\n",
      "P.S. If now isn’t a good time, I can send a quick 1-page overview or a short case study from a similar client.\n",
      "\n",
      "\n",
      "Subject: SOC2 calm in a sprint — quick demo this week?\n",
      "\n",
      "Hi [FirstName],\n",
      "\n",
      "SOC2 audits can feel like herding cats with a spreadsheet—awkward, loud, and somehow still missing a few artifacts. Enter CompIAI: an AI-powered SaaS that makes SOC2 readiness feel almost painless. We auto-map controls, automate evidence collection, and give you a living readiness score so you’re audit-ready before the auditor even finishes their coffee.\n",
      "\n",
      "What you get (in plain English):\n",
      "- AI-driven control mapping to SOC2 criteria\n",
      "- Automated evidence packs and tests\n",
      "- Continuous readiness monitoring and remediation tips\n",
      "- A centralized policy/test/artifact vault\n",
      "- One-click audit-ready reports and easy vendor risk integration\n",
      "\n",
      "If you’re open to it, I’d love to show you a 15-minute demo tailored to your controls and environment. Yes, we’ll keep the magic pointed at your real-world setup—no fluff.\n",
      "\n",
      "When would you have 15 minutes this week or next?\n",
      "\n",
      "Best,\n",
      "[Your Name]\n",
      "Sales Engineer, CompIAI\n",
      "[Phone] | [Email]\n",
      "www.compiai.ai\n",
      "\n",
      "P.S. Tell me your toughest SOC2 hurdle, and I’ll map out a targeted workaround in the first few slides.\n",
      "\n",
      "\n",
      "Subject: SOC 2 readiness made simpler with AI\n",
      "\n",
      "Hi [First Name],\n",
      "\n",
      "I’m [Your Name] at CompIAI. We offer an AI-powered platform that automates evidence collection, control testing, and audit-ready packaging for SOC 2. If you’re preparing for an upcoming audit, our customers streamline prep, reduce manual effort, and accelerate readiness.\n",
      "\n",
      "Key benefits:\n",
      "- Automated evidence gathering across policies, controls, and monitoring\n",
      "- AI-driven control testing and remediation guidance\n",
      "- Centralized artifacts and an audit-ready report pack\n",
      "\n",
      "Are you open to a 15-minute call this week to see if this fits your SOC 2 timeline? If now isn’t ideal, I can share a quick overview deck.\n",
      "\n",
      "Best,\n",
      "[Your Name]\n",
      "[Title]\n",
      "CompIAI\n",
      "[Phone] • [Email] • [Website]\n",
      "\n",
      "Unsubscribe: Reply STOP to opt out.\n",
      "\n",
      "\n"
     ]
    }
   ],
   "execution_count": 6
  },
  {
   "metadata": {
    "ExecuteTime": {
     "end_time": "2025-09-01T09:42:35.222128Z",
     "start_time": "2025-09-01T09:42:35.220576Z"
    }
   },
   "cell_type": "code",
   "source": [
    "sales_picker_agent = Agent(\n",
    "    name=\"Sales Email Picker Agent\",\n",
    "    instructions=\"\"\"\n",
    "    Pick the best cold sales email from the given options.\n",
    "    Imagine you are a customer and pick the one you are most likely to respond to.\n",
    "    Do not give an explanation; reply with the selected email only.\n",
    "    \"\"\",\n",
    ")"
   ],
   "id": "fd0db7b758b9b58b",
   "outputs": [],
   "execution_count": 7
  },
  {
   "metadata": {
    "ExecuteTime": {
     "end_time": "2025-09-01T09:42:51.144762Z",
     "start_time": "2025-09-01T09:42:35.225130Z"
    }
   },
   "cell_type": "code",
   "source": [
    "message = \"write a cold sales email\"\n",
    "with trace(\"Sales Email Picker Agent: pick best email\"):\n",
    "    results = await asyncio.gather(\n",
    "        Runner.run(sales_agent_1, message),\n",
    "        Runner.run(sales_agent_2, message),\n",
    "        Runner.run(sales_agent_3, message),\n",
    "    )\n",
    "    outputs = [result.final_output for result in results]\n",
    "\n",
    "    emails = \"Cold sales emails:\\n\" + \"\\n\\n\".join(outputs)\n",
    "\n",
    "    best_email = await Runner.run(sales_picker_agent, emails)\n",
    "\n",
    "    print(f\"Best email:\\n{best_email.final_output}\")"
   ],
   "id": "269e083977c33f2b",
   "outputs": [
    {
     "name": "stdout",
     "output_type": "stream",
     "text": [
      "Best email:\n",
      "**Option 2: Data-driven and concise**\n",
      "\n",
      "Subject: See how AI trims SOC 2 prep time by 40–60%\n",
      "\n",
      "Body:\n",
      "Hi [Name], quick question: what would a 40–60% reduction in SOC 2 prep time buy your team this quarter? At CompIAI, we automate evidence gathering, control mapping, and artifact generation to deliver an audit-ready package faster.\n",
      "\n",
      "What you’ll get:\n",
      "- Centralized evidence library with auto-collection\n",
      "- AI-guided control mapping and gap detection\n",
      "- Continuous controls monitoring and drift alerts\n",
      "- Ready-made policy templates and risk assessments\n",
      "- One-click, audit-ready package with executive summary\n",
      "\n",
      "If you’re evaluating SOC 2 readiness tools, I’d love to show you a 15-minute walkthrough tailored to your controls. Are you available Tuesday or Thursday? Best, [Your Name]\n"
     ]
    }
   ],
   "execution_count": 8
  },
  {
   "metadata": {
    "ExecuteTime": {
     "end_time": "2025-08-27T06:45:16.977834Z",
     "start_time": "2025-08-27T06:45:16.976276Z"
    }
   },
   "cell_type": "markdown",
   "source": "### Tools and agent Instruction",
   "id": "bb4718465a73f900"
  },
  {
   "metadata": {
    "ExecuteTime": {
     "end_time": "2025-09-01T09:49:51.865862Z",
     "start_time": "2025-09-01T09:49:51.858378Z"
    }
   },
   "cell_type": "code",
   "source": [
    "@function_tool\n",
    "def send_email(body: str):\n",
    "    \"\"\"Send an email to CompIAI.\"\"\"\n",
    "    params = {\n",
    "        'apikey': os.getenv(\"TESTMAIL_API_KEY\"),\n",
    "        'namespace': os.getenv(\"TESTMAIL_NAMESPACE\"),\n",
    "        'livequery': 'true'  # Enable live queries\n",
    "    }\n",
    "    try:\n",
    "        response = requests.get(url=BASE_URL, params=params)\n",
    "        response.raise_for_status()\n",
    "\n",
    "        data = response.json()\n",
    "        print(json.dumps(data, indent=4))\n",
    "\n",
    "    except requests.exceptions.RequestException as e:\n",
    "        print(f\"An error occurred: {e}\")"
   ],
   "id": "49073a71bfd066ed",
   "outputs": [],
   "execution_count": 10
  },
  {
   "metadata": {
    "ExecuteTime": {
     "end_time": "2025-09-01T09:49:55.200940Z",
     "start_time": "2025-09-01T09:49:55.196475Z"
    }
   },
   "cell_type": "code",
   "source": "send_email",
   "id": "a016d7ce2ef1fd71",
   "outputs": [
    {
     "data": {
      "text/plain": [
       "FunctionTool(name='send_email', description='Send an email to CompIAI.', params_json_schema={'properties': {'body': {'title': 'Body', 'type': 'string'}}, 'required': ['body'], 'title': 'send_email_args', 'type': 'object', 'additionalProperties': False}, on_invoke_tool=<function function_tool.<locals>._create_function_tool.<locals>._on_invoke_tool at 0x104c0d440>, strict_json_schema=True, is_enabled=True)"
      ]
     },
     "execution_count": 11,
     "metadata": {},
     "output_type": "execute_result"
    }
   ],
   "execution_count": 11
  },
  {
   "metadata": {
    "ExecuteTime": {
     "end_time": "2025-09-01T09:50:32.142761Z",
     "start_time": "2025-09-01T09:50:32.140578Z"
    }
   },
   "cell_type": "code",
   "source": "print(send_email)",
   "id": "f9e5844206afa78e",
   "outputs": [
    {
     "name": "stdout",
     "output_type": "stream",
     "text": [
      "FunctionTool(name='send_email', description='Send an email to CompIAI.', params_json_schema={'properties': {'body': {'title': 'Body', 'type': 'string'}}, 'required': ['body'], 'title': 'send_email_args', 'type': 'object', 'additionalProperties': False}, on_invoke_tool=<function function_tool.<locals>._create_function_tool.<locals>._on_invoke_tool at 0x104c0d440>, strict_json_schema=True, is_enabled=True)\n"
     ]
    }
   ],
   "execution_count": 12
  },
  {
   "metadata": {},
   "cell_type": "code",
   "outputs": [],
   "execution_count": null,
   "source": "",
   "id": "96e05128fdd805e7"
  }
 ],
 "metadata": {
  "kernelspec": {
   "display_name": "Python 3",
   "language": "python",
   "name": "python3"
  },
  "language_info": {
   "codemirror_mode": {
    "name": "ipython",
    "version": 2
   },
   "file_extension": ".py",
   "mimetype": "text/x-python",
   "name": "python",
   "nbconvert_exporter": "python",
   "pygments_lexer": "ipython2",
   "version": "2.7.6"
  }
 },
 "nbformat": 4,
 "nbformat_minor": 5
}
