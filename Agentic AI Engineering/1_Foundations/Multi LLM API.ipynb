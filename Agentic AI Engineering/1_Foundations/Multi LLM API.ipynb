{
 "cells": [
  {
   "cell_type": "code",
   "id": "initial_id",
   "metadata": {
    "collapsed": true,
    "ExecuteTime": {
     "end_time": "2025-08-08T17:14:26.176391Z",
     "start_time": "2025-08-08T17:14:26.169727Z"
    }
   },
   "source": [
    "import os, json\n",
    "from dotenv import load_dotenv\n",
    "from openai import OpenAI\n",
    "from google import genai\n",
    "from google.genai import types\n",
    "from xai_sdk import Client\n",
    "from xai_sdk.chat import user, system\n",
    "from anthropic import Anthropic\n",
    "from loguru import logger\n",
    "from IPython.display import display, Markdown\n",
    "\n",
    "load_dotenv(override=True)"
   ],
   "outputs": [
    {
     "data": {
      "text/plain": [
       "True"
      ]
     },
     "execution_count": 20,
     "metadata": {},
     "output_type": "execute_result"
    }
   ],
   "execution_count": 20
  },
  {
   "metadata": {
    "ExecuteTime": {
     "end_time": "2025-08-08T17:05:35.082669Z",
     "start_time": "2025-08-08T17:05:35.079848Z"
    }
   },
   "cell_type": "code",
   "source": [
    "OPENAI_API_KEY = os.getenv(\"OPENAI_API_KEY\")\n",
    "XAI_API_KEY = os.getenv(\"XAI_API_KEY\")\n",
    "ANTHROPIC_API_KEY = os.getenv(\"ANTHROPIC_API_KEY\")\n",
    "DEEPSEEK_API_KEY = os.getenv(\"DEEPSEEK_API_KEY\")\n",
    "GOOGLE_API_KEY = os.getenv(\"GOOGLE_API_KEY\")\n",
    "\n",
    "if OPENAI_API_KEY:\n",
    "    logger.info(f\"OpenAI API key is set to {OPENAI_API_KEY[:4]}...{OPENAI_API_KEY[-4:]}\")\n",
    "if XAI_API_KEY:\n",
    "    logger.info(f\"XAI API key is set to {XAI_API_KEY[:4]}...{XAI_API_KEY[-4:]}\")\n",
    "if ANTHROPIC_API_KEY:\n",
    "    logger.info(f\"Anthropic API key is set to {ANTHROPIC_API_KEY[:4]}...{ANTHROPIC_API_KEY[-4:]}\")\n",
    "if DEEPSEEK_API_KEY:\n",
    "    logger.info(f\"DeepSeek API key is set to {DEEPSEEK_API_KEY[:4]}...{DEEPSEEK_API_KEY[-4:]}\")\n",
    "if GOOGLE_API_KEY:\n",
    "    logger.info(f\"Google API key is set to {GOOGLE_API_KEY[:4]}...{GOOGLE_API_KEY[-4:]}\")"
   ],
   "id": "84d8d0ca95305431",
   "outputs": [
    {
     "name": "stderr",
     "output_type": "stream",
     "text": [
      "\u001B[32m2025-08-08 23:05:35.080\u001B[0m | \u001B[1mINFO    \u001B[0m | \u001B[36m__main__\u001B[0m:\u001B[36m<module>\u001B[0m:\u001B[36m8\u001B[0m - \u001B[1mOpenAI API key is set to sk-p...i9cA\u001B[0m\n",
      "\u001B[32m2025-08-08 23:05:35.081\u001B[0m | \u001B[1mINFO    \u001B[0m | \u001B[36m__main__\u001B[0m:\u001B[36m<module>\u001B[0m:\u001B[36m10\u001B[0m - \u001B[1mXAI API key is set to xai-...DhCl\u001B[0m\n",
      "\u001B[32m2025-08-08 23:05:35.081\u001B[0m | \u001B[1mINFO    \u001B[0m | \u001B[36m__main__\u001B[0m:\u001B[36m<module>\u001B[0m:\u001B[36m12\u001B[0m - \u001B[1mAnthropic API key is set to sk-a...fgAA\u001B[0m\n",
      "\u001B[32m2025-08-08 23:05:35.081\u001B[0m | \u001B[1mINFO    \u001B[0m | \u001B[36m__main__\u001B[0m:\u001B[36m<module>\u001B[0m:\u001B[36m14\u001B[0m - \u001B[1mDeepSeek API key is set to sk-9...775f\u001B[0m\n",
      "\u001B[32m2025-08-08 23:05:35.081\u001B[0m | \u001B[1mINFO    \u001B[0m | \u001B[36m__main__\u001B[0m:\u001B[36m<module>\u001B[0m:\u001B[36m16\u001B[0m - \u001B[1mGoogle API key is set to AIza...Su5Q\u001B[0m\n"
     ]
    }
   ],
   "execution_count": 2
  },
  {
   "metadata": {
    "ExecuteTime": {
     "end_time": "2025-08-08T17:05:35.091913Z",
     "start_time": "2025-08-08T17:05:35.090585Z"
    }
   },
   "cell_type": "code",
   "source": [
    "request = \"What is the meaning of life, the universe, and everything?\"\n",
    "request += \" Please answer in a concise and clear manner.\"\n",
    "messages = [\n",
    "    {\"role\": \"user\", \"content\": request}\n",
    "]"
   ],
   "id": "cf65b64c28898922",
   "outputs": [],
   "execution_count": 3
  },
  {
   "metadata": {
    "ExecuteTime": {
     "end_time": "2025-08-08T17:05:35.099569Z",
     "start_time": "2025-08-08T17:05:35.097815Z"
    }
   },
   "cell_type": "code",
   "source": "messages",
   "id": "c4f21de1d409d17b",
   "outputs": [
    {
     "data": {
      "text/plain": [
       "[{'role': 'user',\n",
       "  'content': 'What is the meaning of life, the universe, and everything? Please answer in a concise and clear manner.'}]"
      ]
     },
     "execution_count": 4,
     "metadata": {},
     "output_type": "execute_result"
    }
   ],
   "execution_count": 4
  },
  {
   "metadata": {
    "ExecuteTime": {
     "end_time": "2025-08-08T17:05:35.103009Z",
     "start_time": "2025-08-08T17:05:35.101743Z"
    }
   },
   "cell_type": "code",
   "source": [
    "competitors = []\n",
    "answers = []\n",
    "messages = [\n",
    "    {\"role\": \"user\", \"content\": request}\n",
    "]"
   ],
   "id": "e2c2673b2c4dd0fe",
   "outputs": [],
   "execution_count": 5
  },
  {
   "metadata": {
    "ExecuteTime": {
     "end_time": "2025-08-08T17:05:37.609375Z",
     "start_time": "2025-08-08T17:05:35.108706Z"
    }
   },
   "cell_type": "code",
   "source": [
    "openai_client = OpenAI()\n",
    "response = openai_client.chat.completions.create(\n",
    "    model=\"gpt-4o-mini\",\n",
    "    messages=messages\n",
    ")\n",
    "display(Markdown(f\"### OpenAI Response:\\n{response.choices[0].message.content}\"))\n",
    "competitors.append(\"OpenAI\")\n",
    "answers.append(response.choices[0].message.content)"
   ],
   "id": "430939f8b6757a58",
   "outputs": [
    {
     "data": {
      "text/plain": [
       "<IPython.core.display.Markdown object>"
      ],
      "text/markdown": "### OpenAI Response:\nThe meaning of life, the universe, and everything is famously humorously summarized as \"42,\" originating from Douglas Adams' science fiction series \"The Hitchhiker's Guide to the Galaxy.\" In a broader philosophical context, it suggests that the search for meaning is complex and subjective, with each individual finding their own purpose through experiences, relationships, and personal beliefs."
     },
     "metadata": {},
     "output_type": "display_data"
    }
   ],
   "execution_count": 6
  },
  {
   "metadata": {
    "ExecuteTime": {
     "end_time": "2025-08-08T17:05:40.146883Z",
     "start_time": "2025-08-08T17:05:37.684179Z"
    }
   },
   "cell_type": "code",
   "source": [
    "claude_client = Anthropic(api_key=ANTHROPIC_API_KEY)\n",
    "response = claude_client.messages.create(\n",
    "    model='claude-3-5-haiku-latest',\n",
    "    messages=messages,\n",
    "    max_tokens=1000,\n",
    ")\n",
    "display(Markdown(f\"### Anthropic Response:\\n{response.content[0].text}\"))\n",
    "competitors.append(\"Anthropic\")\n",
    "answers.append(response.content[0].text)"
   ],
   "id": "f3055e8ad02e50d3",
   "outputs": [
    {
     "data": {
      "text/plain": [
       "<IPython.core.display.Markdown object>"
      ],
      "text/markdown": "### Anthropic Response:\nAccording to \"The Hitchhiker's Guide to the Galaxy\" by Douglas Adams, the answer is simply: 42. But in a more philosophical sense, the meaning of life is subjective and can vary based on individual perspectives, which might include personal growth, creating connections, pursuing happiness, or leaving a positive impact on the world."
     },
     "metadata": {},
     "output_type": "display_data"
    }
   ],
   "execution_count": 7
  },
  {
   "metadata": {
    "ExecuteTime": {
     "end_time": "2025-08-08T17:05:48.348909Z",
     "start_time": "2025-08-08T17:05:40.166668Z"
    }
   },
   "cell_type": "code",
   "source": [
    "google_client = genai.Client()\n",
    "\n",
    "response = google_client.models.generate_content(\n",
    "    model=\"gemini-2.5-pro\",\n",
    "    contents=messages[0]['content'],\n",
    "    config=types.GenerateContentConfig(\n",
    "        thinking_config=types.ThinkingConfig(thinking_budget=128) # Disables thinking\n",
    "    ),\n",
    ")\n",
    "display(Markdown(f\"### Google Gemini Response:\\n{response.text}\"))\n",
    "competitors.append(\"Google Gemini\")\n",
    "answers.append(response.text)"
   ],
   "id": "6dfda00410845ac0",
   "outputs": [
    {
     "data": {
      "text/plain": [
       "<IPython.core.display.Markdown object>"
      ],
      "text/markdown": "### Google Gemini Response:\nThis is one of humanity's deepest questions, and it has no single, universally accepted answer. However, we can explore it from a few key perspectives:\n\n**1. The Scientific Perspective:**\nFrom a purely scientific viewpoint, the universe and life don't have an inherent, pre-ordained meaning. Life is a result of complex chemical processes and evolution. The universe operates according to fundamental physical laws. In this sense, \"meaning\" is not a concept science can measure or discover.\n\n**2. The Philosophical & Personal Perspective:**\nThis is where most people find their answer. Meaning is not discovered, but *created*. It's what you choose to value and pursue. Common sources of meaning include:\n\n*   **Connection & Love:** Building relationships with family, friends, and community.\n*   **Purpose & Contribution:** Making a positive impact on the world, whether through your work, art, volunteering, or simply helping others.\n*   **Growth & Experience:** Learning, exploring, overcoming challenges, and appreciating the beauty and wonder of existence.\n*   **Happiness & Well-being:** Finding joy, peace, and contentment in the present moment.\n\n**3. The Cultural Reference:**\nIn Douglas Adams's classic science fiction series, *The Hitchhiker's Guide to the Galaxy*, a supercomputer is built to answer this exact question. After millions of years of calculation, it declares the answer is **42**. The problem, the computer then explains, is that no one knew the *ultimate question* to which 42 was the answer.\n\n---\n\n**In summary:** There is no single answer written in the stars. The meaning of life is the meaning you give it."
     },
     "metadata": {},
     "output_type": "display_data"
    }
   ],
   "execution_count": 8
  },
  {
   "metadata": {
    "ExecuteTime": {
     "end_time": "2025-08-08T17:05:59.910963Z",
     "start_time": "2025-08-08T17:05:48.391467Z"
    }
   },
   "cell_type": "code",
   "source": [
    "deepseek_client = OpenAI(api_key=DEEPSEEK_API_KEY, base_url=\"https://api.deepseek.com/v1\")\n",
    "response = deepseek_client.chat.completions.create(\n",
    "    model=\"deepseek-chat\",\n",
    "    messages=messages,\n",
    ")\n",
    "display(Markdown(f\"### DeepSeek Response:\\n{response.choices[0].message.content}\"))\n",
    "competitors.append(\"DeepSeek\")\n",
    "answers.append(response.choices[0].message.content)"
   ],
   "id": "149ab504d995b315",
   "outputs": [
    {
     "data": {
      "text/plain": [
       "<IPython.core.display.Markdown object>"
      ],
      "text/markdown": "### DeepSeek Response:\nThe meaning of life, the universe, and everything is famously answered as **\"42\"** in Douglas Adams' *The Hitchhiker's Guide to the Galaxy*—a humorous take on the futility of seeking a single, grand answer.  \n\nPhilosophically, the meaning is subjective: it’s shaped by personal purpose, curiosity, and the pursuit of understanding or connection. Science explores *how* the universe exists, while philosophy and spirituality explore *why*.  \n\nIn short: **There’s no universal answer—create your own meaning.**"
     },
     "metadata": {},
     "output_type": "display_data"
    }
   ],
   "execution_count": 9
  },
  {
   "metadata": {
    "ExecuteTime": {
     "end_time": "2025-08-08T17:06:04.519244Z",
     "start_time": "2025-08-08T17:05:59.935222Z"
    }
   },
   "cell_type": "code",
   "source": [
    "xai_client = Client(\n",
    "    api_key=os.getenv(\"XAI_API_KEY\"),\n",
    "    timeout=3600,\n",
    ")\n",
    "\n",
    "chat = xai_client.chat.create(model=\"grok-3-mini\")\n",
    "chat.append(system(\"You are Grok, a highly intelligent, helpful AI assistant.\"))\n",
    "chat.append(user(messages[0]['content']))\n",
    "\n",
    "response = chat.sample()\n",
    "display(Markdown(f\"### XAI Grok Response:\\n{response.content}\"))\n",
    "competitors.append(\"XAI Grok\")\n",
    "answers.append(response.content)"
   ],
   "id": "80869bda2e5801f1",
   "outputs": [
    {
     "data": {
      "text/plain": [
       "<IPython.core.display.Markdown object>"
      ],
      "text/markdown": "### XAI Grok Response:\nAh, the ultimate question! As per Douglas Adams' \"The Hitchhiker's Guide to the Galaxy,\" the meaning of life, the universe, and everything is simply **42**. Of course, it's a humorous nod to the idea that some questions might be more profound than their answers suggest. What do you think? 😊"
     },
     "metadata": {},
     "output_type": "display_data"
    }
   ],
   "execution_count": 10
  },
  {
   "metadata": {
    "ExecuteTime": {
     "end_time": "2025-08-08T17:06:11.325216Z",
     "start_time": "2025-08-08T17:06:04.543321Z"
    }
   },
   "cell_type": "code",
   "source": [
    "ollama_client = OpenAI(base_url=\"http://localhost:11434/v1\", api_key=\"ollama\")\n",
    "response = ollama_client.chat.completions.create(\n",
    "    model=\"gemma3:12b\",\n",
    "    messages=messages\n",
    ")\n",
    "display(Markdown(f\"### Ollama Gemma3 Response:\\n{response.choices[0].message.content}\"))\n",
    "competitors.append(\"Ollama Gemma3\")\n",
    "answers.append(response.choices[0].message.content)"
   ],
   "id": "92cd17dd490bf127",
   "outputs": [
    {
     "data": {
      "text/plain": [
       "<IPython.core.display.Markdown object>"
      ],
      "text/markdown": "### Ollama Gemma3 Response:\nAccording to Douglas Adams' *The Hitchhiker's Guide to the Galaxy*, the answer is **42**.\n\nHowever, the joke is that nobody knows *what the question is*. The number itself is meaningless without context.\n\n\n\nEssentially, the book suggests the search for a definitive meaning is itself the meaning."
     },
     "metadata": {},
     "output_type": "display_data"
    }
   ],
   "execution_count": 11
  },
  {
   "metadata": {
    "ExecuteTime": {
     "end_time": "2025-08-08T17:06:11.340217Z",
     "start_time": "2025-08-08T17:06:11.338315Z"
    }
   },
   "cell_type": "code",
   "source": [
    "print(competitors)\n",
    "print(answers)"
   ],
   "id": "b5594ff16b8b4f2e",
   "outputs": [
    {
     "name": "stdout",
     "output_type": "stream",
     "text": [
      "['OpenAI', 'Anthropic', 'Google Gemini', 'DeepSeek', 'XAI Grok', 'Ollama Gemma3']\n",
      "['The meaning of life, the universe, and everything is famously humorously summarized as \"42,\" originating from Douglas Adams\\' science fiction series \"The Hitchhiker\\'s Guide to the Galaxy.\" In a broader philosophical context, it suggests that the search for meaning is complex and subjective, with each individual finding their own purpose through experiences, relationships, and personal beliefs.', 'According to \"The Hitchhiker\\'s Guide to the Galaxy\" by Douglas Adams, the answer is simply: 42. But in a more philosophical sense, the meaning of life is subjective and can vary based on individual perspectives, which might include personal growth, creating connections, pursuing happiness, or leaving a positive impact on the world.', 'This is one of humanity\\'s deepest questions, and it has no single, universally accepted answer. However, we can explore it from a few key perspectives:\\n\\n**1. The Scientific Perspective:**\\nFrom a purely scientific viewpoint, the universe and life don\\'t have an inherent, pre-ordained meaning. Life is a result of complex chemical processes and evolution. The universe operates according to fundamental physical laws. In this sense, \"meaning\" is not a concept science can measure or discover.\\n\\n**2. The Philosophical & Personal Perspective:**\\nThis is where most people find their answer. Meaning is not discovered, but *created*. It\\'s what you choose to value and pursue. Common sources of meaning include:\\n\\n*   **Connection & Love:** Building relationships with family, friends, and community.\\n*   **Purpose & Contribution:** Making a positive impact on the world, whether through your work, art, volunteering, or simply helping others.\\n*   **Growth & Experience:** Learning, exploring, overcoming challenges, and appreciating the beauty and wonder of existence.\\n*   **Happiness & Well-being:** Finding joy, peace, and contentment in the present moment.\\n\\n**3. The Cultural Reference:**\\nIn Douglas Adams\\'s classic science fiction series, *The Hitchhiker\\'s Guide to the Galaxy*, a supercomputer is built to answer this exact question. After millions of years of calculation, it declares the answer is **42**. The problem, the computer then explains, is that no one knew the *ultimate question* to which 42 was the answer.\\n\\n---\\n\\n**In summary:** There is no single answer written in the stars. The meaning of life is the meaning you give it.', 'The meaning of life, the universe, and everything is famously answered as **\"42\"** in Douglas Adams\\' *The Hitchhiker\\'s Guide to the Galaxy*—a humorous take on the futility of seeking a single, grand answer.  \\n\\nPhilosophically, the meaning is subjective: it’s shaped by personal purpose, curiosity, and the pursuit of understanding or connection. Science explores *how* the universe exists, while philosophy and spirituality explore *why*.  \\n\\nIn short: **There’s no universal answer—create your own meaning.**', 'Ah, the ultimate question! As per Douglas Adams\\' \"The Hitchhiker\\'s Guide to the Galaxy,\" the meaning of life, the universe, and everything is simply **42**. Of course, it\\'s a humorous nod to the idea that some questions might be more profound than their answers suggest. What do you think? 😊', \"According to Douglas Adams' *The Hitchhiker's Guide to the Galaxy*, the answer is **42**.\\n\\nHowever, the joke is that nobody knows *what the question is*. The number itself is meaningless without context.\\n\\n\\n\\nEssentially, the book suggests the search for a definitive meaning is itself the meaning.\"]\n"
     ]
    }
   ],
   "execution_count": 12
  },
  {
   "metadata": {
    "ExecuteTime": {
     "end_time": "2025-08-08T17:06:11.350213Z",
     "start_time": "2025-08-08T17:06:11.347414Z"
    }
   },
   "cell_type": "code",
   "source": [
    "together = \"\"\n",
    "for competitor, answer in zip(competitors, answers):\n",
    "    together += f\"### {competitor} Response:\\n{answer}\\n\\n\"\n",
    "display(Markdown(together))"
   ],
   "id": "1e5a6e2eb21d26b4",
   "outputs": [
    {
     "data": {
      "text/plain": [
       "<IPython.core.display.Markdown object>"
      ],
      "text/markdown": "### OpenAI Response:\nThe meaning of life, the universe, and everything is famously humorously summarized as \"42,\" originating from Douglas Adams' science fiction series \"The Hitchhiker's Guide to the Galaxy.\" In a broader philosophical context, it suggests that the search for meaning is complex and subjective, with each individual finding their own purpose through experiences, relationships, and personal beliefs.\n\n### Anthropic Response:\nAccording to \"The Hitchhiker's Guide to the Galaxy\" by Douglas Adams, the answer is simply: 42. But in a more philosophical sense, the meaning of life is subjective and can vary based on individual perspectives, which might include personal growth, creating connections, pursuing happiness, or leaving a positive impact on the world.\n\n### Google Gemini Response:\nThis is one of humanity's deepest questions, and it has no single, universally accepted answer. However, we can explore it from a few key perspectives:\n\n**1. The Scientific Perspective:**\nFrom a purely scientific viewpoint, the universe and life don't have an inherent, pre-ordained meaning. Life is a result of complex chemical processes and evolution. The universe operates according to fundamental physical laws. In this sense, \"meaning\" is not a concept science can measure or discover.\n\n**2. The Philosophical & Personal Perspective:**\nThis is where most people find their answer. Meaning is not discovered, but *created*. It's what you choose to value and pursue. Common sources of meaning include:\n\n*   **Connection & Love:** Building relationships with family, friends, and community.\n*   **Purpose & Contribution:** Making a positive impact on the world, whether through your work, art, volunteering, or simply helping others.\n*   **Growth & Experience:** Learning, exploring, overcoming challenges, and appreciating the beauty and wonder of existence.\n*   **Happiness & Well-being:** Finding joy, peace, and contentment in the present moment.\n\n**3. The Cultural Reference:**\nIn Douglas Adams's classic science fiction series, *The Hitchhiker's Guide to the Galaxy*, a supercomputer is built to answer this exact question. After millions of years of calculation, it declares the answer is **42**. The problem, the computer then explains, is that no one knew the *ultimate question* to which 42 was the answer.\n\n---\n\n**In summary:** There is no single answer written in the stars. The meaning of life is the meaning you give it.\n\n### DeepSeek Response:\nThe meaning of life, the universe, and everything is famously answered as **\"42\"** in Douglas Adams' *The Hitchhiker's Guide to the Galaxy*—a humorous take on the futility of seeking a single, grand answer.  \n\nPhilosophically, the meaning is subjective: it’s shaped by personal purpose, curiosity, and the pursuit of understanding or connection. Science explores *how* the universe exists, while philosophy and spirituality explore *why*.  \n\nIn short: **There’s no universal answer—create your own meaning.**\n\n### XAI Grok Response:\nAh, the ultimate question! As per Douglas Adams' \"The Hitchhiker's Guide to the Galaxy,\" the meaning of life, the universe, and everything is simply **42**. Of course, it's a humorous nod to the idea that some questions might be more profound than their answers suggest. What do you think? 😊\n\n### Ollama Gemma3 Response:\nAccording to Douglas Adams' *The Hitchhiker's Guide to the Galaxy*, the answer is **42**.\n\nHowever, the joke is that nobody knows *what the question is*. The number itself is meaningless without context.\n\n\n\nEssentially, the book suggests the search for a definitive meaning is itself the meaning.\n\n"
     },
     "metadata": {},
     "output_type": "display_data"
    }
   ],
   "execution_count": 13
  },
  {
   "metadata": {
    "ExecuteTime": {
     "end_time": "2025-08-08T17:09:59.670454Z",
     "start_time": "2025-08-08T17:09:59.667756Z"
    }
   },
   "cell_type": "code",
   "source": [
    "judge = f\"\"\"You are a judge a competition between {len(competitors)} competitors.\n",
    "Each model have given this question: {messages[0]['content']}.\n",
    "Your task is to evaluate the responses and rank them from best to worst.\n",
    "\n",
    "Here are the responses from each competitor:\n",
    "{together}\n",
    "\n",
    "You will return a JSON object with the following structure:\n",
    "```json\n",
    "{{\n",
    "    \"rankings\": [\n",
    "        {{\"competitor\": \"OpenAI\", \"score\": 0}},\n",
    "        {{\"competitor\": \"Anthropic\", \"score\": 0}},\n",
    "        {{\"competitor\": \"Google Gemini\", \"score\": 0}},\n",
    "        {{\"competitor\": \"DeepSeek\", \"score\": 0}},\n",
    "        {{\"competitor\": \"XAI Grok\", \"score\": 0}},\n",
    "        {{\"competitor\": \"Ollama Gemma3\", \"score\": 0}}\n",
    "    ],\n",
    "    \"explanation\": \"Your explanation of the rankings.\"\n",
    "\"\"\""
   ],
   "id": "447a2c4f41d753e7",
   "outputs": [],
   "execution_count": 15
  },
  {
   "metadata": {
    "ExecuteTime": {
     "end_time": "2025-08-08T17:11:09.738257Z",
     "start_time": "2025-08-08T17:11:09.734863Z"
    }
   },
   "cell_type": "code",
   "source": [
    "judge_messages = [\n",
    "    {\"role\": \"user\", \"content\": judge}\n",
    "]"
   ],
   "id": "6b0e221a427b9f8d",
   "outputs": [],
   "execution_count": 17
  },
  {
   "metadata": {},
   "cell_type": "code",
   "source": [
    "response = openai_client.chat.completions.create(\n",
    "    model=\"gpt-5-mini\",\n",
    "    messages=judge_messages\n",
    ")"
   ],
   "id": "c9e1c0d2d78e3187",
   "outputs": [],
   "execution_count": null
  },
  {
   "metadata": {
    "ExecuteTime": {
     "end_time": "2025-08-08T17:16:00.474472Z",
     "start_time": "2025-08-08T17:16:00.469731Z"
    }
   },
   "cell_type": "code",
   "source": [
    "result = json.loads(response.choices[0].message.content)\n",
    "ranks = result['rankings']\n",
    "explanation = result['explanation']\n",
    "\n",
    "for index, result in enumerate(ranks):\n",
    "    print(f\"{index + 1}. {result['competitor']} - Score: {result['score']}\")\n",
    "print(f\"\\nExplanation: {explanation}\")"
   ],
   "id": "3d2bafb25a85faa3",
   "outputs": [
    {
     "name": "stdout",
     "output_type": "stream",
     "text": [
      "1. Anthropic - Score: 6\n",
      "2. OpenAI - Score: 5\n",
      "3. DeepSeek - Score: 4\n",
      "4. Ollama Gemma3 - Score: 3\n",
      "5. Google Gemini - Score: 2\n",
      "6. XAI Grok - Score: 1\n",
      "\n",
      "Explanation: Ranking criteria: adherence to the request for a concise and clear answer, accuracy (notes the cultural reference to '42'), and useful philosophical context. 1) Anthropic (6): Very concise, names '42' and gives a clear, short philosophical alternative—best balance of brevity and substance. 2) OpenAI (5): Nearly as good; clear and slightly more elaborative while remaining concise. 3) DeepSeek (4): Concise and clear, good summary and direct conclusion to 'create your own meaning.' 4) Ollama Gemma3 (3): Very brief and clear, adds a thoughtful point that the search can be the meaning; slightly more terse than higher-ranked entries. 5) Google Gemini (2): Thorough and clear but much longer and more detailed than requested (less concise). 6) XAI Grok (1): Extremely brief and casual; mentions '42' but offers minimal philosophical context and a conversational tone that weakens its appropriateness for a judged concise answer.\n"
     ]
    }
   ],
   "execution_count": 22
  },
  {
   "metadata": {},
   "cell_type": "code",
   "outputs": [],
   "execution_count": null,
   "source": "",
   "id": "cf46fb7667975e76"
  }
 ],
 "metadata": {
  "kernelspec": {
   "display_name": "Python 3",
   "language": "python",
   "name": "python3"
  },
  "language_info": {
   "codemirror_mode": {
    "name": "ipython",
    "version": 2
   },
   "file_extension": ".py",
   "mimetype": "text/x-python",
   "name": "python",
   "nbconvert_exporter": "python",
   "pygments_lexer": "ipython2",
   "version": "2.7.6"
  }
 },
 "nbformat": 4,
 "nbformat_minor": 5
}
