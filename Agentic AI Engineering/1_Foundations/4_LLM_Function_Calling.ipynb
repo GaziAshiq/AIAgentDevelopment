{
 "cells": [
  {
   "cell_type": "code",
   "id": "initial_id",
   "metadata": {
    "collapsed": true,
    "ExecuteTime": {
     "end_time": "2025-08-10T16:58:04.342030Z",
     "start_time": "2025-08-10T16:58:02.765795Z"
    }
   },
   "source": [
    "import os\n",
    "import json\n",
    "import requests\n",
    "from dotenv import load_dotenv\n",
    "from openai import OpenAI\n",
    "from loguru import logger\n",
    "from IPython.display import display, Markdown\n",
    "from PyPDF2 import PdfReader\n",
    "import gradio as gr\n",
    "from types import SimpleNamespace\n",
    "\n",
    "load_dotenv(override=True)\n",
    "\n",
    "openai_api_key = os.getenv(\"OPENAI_API_KEY\")\n",
    "if not openai_api_key:\n",
    "    logger.error(\"OPENAI_API_KEY is not set in the environment variables.\")\n",
    "else:\n",
    "    logger.info(f\"OpenAI API exists: {openai_api_key[:10]}...\")\n",
    "\n",
    "openai_client = OpenAI(api_key=openai_api_key)"
   ],
   "outputs": [
    {
     "name": "stderr",
     "output_type": "stream",
     "text": [
      "/Users/ashiq/PycharmProjects/AIAgentDevelopment/.venv/lib/python3.13/site-packages/tqdm/auto.py:21: TqdmWarning: IProgress not found. Please update jupyter and ipywidgets. See https://ipywidgets.readthedocs.io/en/stable/user_install.html\n",
      "  from .autonotebook import tqdm as notebook_tqdm\n",
      "\u001B[32m2025-08-10 22:58:04.331\u001B[0m | \u001B[1mINFO    \u001B[0m | \u001B[36m__main__\u001B[0m:\u001B[36m<module>\u001B[0m:\u001B[36m18\u001B[0m - \u001B[1mOpenAI API exists: sk-proj-Yq...\u001B[0m\n"
     ]
    }
   ],
   "execution_count": 1
  },
  {
   "metadata": {
    "ExecuteTime": {
     "end_time": "2025-08-10T16:58:04.347971Z",
     "start_time": "2025-08-10T16:58:04.345745Z"
    }
   },
   "cell_type": "code",
   "source": [
    "pushover_user = os.getenv(\"PUSHOVER_USER_KEY\")\n",
    "pushover_token = os.getenv(\"PUSHOVER_API_KEY\")\n",
    "pushover_url = \"https://api.pushover.net/1/messages.json\"\n",
    "if not pushover_user or not pushover_token:\n",
    "    logger.error(\"PUSHOVER_USER_KEY or PUSHOVER_API_KEY is not set in the environment variables.\")\n",
    "else:\n",
    "    logger.info(f\"Pushover User exists: {pushover_user[:10]}...\")\n",
    "    logger.info(f\"Pushover Token exists: {pushover_token[:10]}...\")"
   ],
   "id": "31df10bd036bd586",
   "outputs": [
    {
     "name": "stderr",
     "output_type": "stream",
     "text": [
      "\u001B[32m2025-08-10 22:58:04.346\u001B[0m | \u001B[1mINFO    \u001B[0m | \u001B[36m__main__\u001B[0m:\u001B[36m<module>\u001B[0m:\u001B[36m7\u001B[0m - \u001B[1mPushover User exists: uxdm8c1jfb...\u001B[0m\n",
      "\u001B[32m2025-08-10 22:58:04.346\u001B[0m | \u001B[1mINFO    \u001B[0m | \u001B[36m__main__\u001B[0m:\u001B[36m<module>\u001B[0m:\u001B[36m8\u001B[0m - \u001B[1mPushover Token exists: ao2yz9nvk4...\u001B[0m\n"
     ]
    }
   ],
   "execution_count": 2
  },
  {
   "metadata": {
    "ExecuteTime": {
     "end_time": "2025-08-10T16:58:04.358319Z",
     "start_time": "2025-08-10T16:58:04.356454Z"
    }
   },
   "cell_type": "code",
   "source": [
    "def send_pushover_notification(message):\n",
    "    if not pushover_user or not pushover_token:\n",
    "        logger.error(\"Pushover user or token is not set.\")\n",
    "        return\n",
    "\n",
    "    payload = {\n",
    "        \"user\": pushover_user,\n",
    "        \"token\": pushover_token,\n",
    "        \"message\": message\n",
    "    }\n",
    "\n",
    "    try:\n",
    "        response = requests.post(pushover_url, data=payload)\n",
    "        response.raise_for_status()\n",
    "        logger.info(\"Pushover notification sent successfully.\")\n",
    "    except requests.RequestException as e:\n",
    "        logger.error(f\"Failed to send Pushover notification: {e}\")"
   ],
   "id": "2e07e914f46bc390",
   "outputs": [],
   "execution_count": 3
  },
  {
   "metadata": {
    "ExecuteTime": {
     "end_time": "2025-08-10T16:58:05.873049Z",
     "start_time": "2025-08-10T16:58:04.360860Z"
    }
   },
   "cell_type": "code",
   "source": "send_pushover_notification(\"hi there, this is a test message from the Agentic AI Engineering notebook.\")",
   "id": "ec0c361bc0d88c53",
   "outputs": [
    {
     "name": "stderr",
     "output_type": "stream",
     "text": [
      "\u001B[32m2025-08-10 22:58:05.870\u001B[0m | \u001B[1mINFO    \u001B[0m | \u001B[36m__main__\u001B[0m:\u001B[36msend_pushover_notification\u001B[0m:\u001B[36m15\u001B[0m - \u001B[1mPushover notification sent successfully.\u001B[0m\n"
     ]
    }
   ],
   "execution_count": 4
  },
  {
   "metadata": {
    "ExecuteTime": {
     "end_time": "2025-08-10T16:58:05.932368Z",
     "start_time": "2025-08-10T16:58:05.930830Z"
    }
   },
   "cell_type": "code",
   "source": [
    "def record_user_details(name, email, notes):\n",
    "    send_pushover_notification(f\"Recording {name} with email {email} and notes: {notes}\")\n",
    "    return f\"User {name} recorded with email {email} and notes: {notes}.\""
   ],
   "id": "6c933269ee854798",
   "outputs": [],
   "execution_count": 5
  },
  {
   "metadata": {
    "ExecuteTime": {
     "end_time": "2025-08-10T16:58:05.935828Z",
     "start_time": "2025-08-10T16:58:05.934600Z"
    }
   },
   "cell_type": "code",
   "source": [
    "def record_unknown_question(question):\n",
    "    send_pushover_notification(f\"Recording unknown question: {question}\")\n",
    "    return f\"Unknown question recorded: {question}.\""
   ],
   "id": "b9aeef0ab20b5732",
   "outputs": [],
   "execution_count": 6
  },
  {
   "metadata": {
    "ExecuteTime": {
     "end_time": "2025-08-10T16:58:05.939853Z",
     "start_time": "2025-08-10T16:58:05.938342Z"
    }
   },
   "cell_type": "code",
   "source": [
    "record_user_details_json = {\n",
    "    \"name\": \"record_user_details\",\n",
    "    \"description\": \"use this tool to record that a user is interested in touch and provided an email address\",\n",
    "    \"parameters\": {\n",
    "        \"type\": \"object\",\n",
    "        \"properties\": {\n",
    "            \"name\": {\n",
    "                \"type\": \"string\",\n",
    "                \"description\": \"The name of the user.\",\n",
    "            },\n",
    "            \"email\": {\n",
    "                \"type\": \"string\",\n",
    "                \"description\": \"The email address of the user.\",\n",
    "            },\n",
    "            \"notes\": {\n",
    "                \"type\": \"string\",\n",
    "                \"description\": \"Additional notes about the user.\",\n",
    "            },\n",
    "        },\n",
    "        \"required\": [\"email\"],\n",
    "        \"additionalProperties\": False,\n",
    "    },\n",
    "}"
   ],
   "id": "fb2b2a5b233050a8",
   "outputs": [],
   "execution_count": 7
  },
  {
   "metadata": {
    "ExecuteTime": {
     "end_time": "2025-08-10T16:58:05.943037Z",
     "start_time": "2025-08-10T16:58:05.941669Z"
    }
   },
   "cell_type": "code",
   "source": [
    "record_unknown_question_json = {\n",
    "    \"name\": \"record_unknown_question\",\n",
    "    \"description\": \"use this tool to record that a user asked an unknown question\",\n",
    "    \"parameters\": {\n",
    "        \"type\": \"object\",\n",
    "        \"properties\": {\n",
    "            \"question\": {\n",
    "                \"type\": \"string\",\n",
    "                \"description\": \"The unknown question asked by the user.\",\n",
    "            },\n",
    "        },\n",
    "        \"required\": [\"question\"],\n",
    "        \"additionalProperties\": False,\n",
    "    },\n",
    "}"
   ],
   "id": "47858a8470c1fec8",
   "outputs": [],
   "execution_count": 8
  },
  {
   "metadata": {
    "ExecuteTime": {
     "end_time": "2025-08-10T16:58:05.946019Z",
     "start_time": "2025-08-10T16:58:05.944803Z"
    }
   },
   "cell_type": "code",
   "source": [
    "tools = [\n",
    "    {\n",
    "        \"type\": \"function\",\n",
    "        \"function\": record_user_details_json,\n",
    "    },\n",
    "    {\n",
    "        \"type\": \"function\",\n",
    "        \"function\": record_unknown_question_json,\n",
    "    }\n",
    "]"
   ],
   "id": "48c61aaa2b012a7",
   "outputs": [],
   "execution_count": 9
  },
  {
   "metadata": {
    "ExecuteTime": {
     "end_time": "2025-08-10T16:58:05.950469Z",
     "start_time": "2025-08-10T16:58:05.947833Z"
    }
   },
   "cell_type": "code",
   "source": "tools",
   "id": "8b9e59ef73d389d",
   "outputs": [
    {
     "data": {
      "text/plain": [
       "[{'type': 'function',\n",
       "  'function': {'name': 'record_user_details',\n",
       "   'description': 'use this tool to record that a user is interested in touch and provided an email address',\n",
       "   'parameters': {'type': 'object',\n",
       "    'properties': {'name': {'type': 'string',\n",
       "      'description': 'The name of the user.'},\n",
       "     'email': {'type': 'string',\n",
       "      'description': 'The email address of the user.'},\n",
       "     'notes': {'type': 'string',\n",
       "      'description': 'Additional notes about the user.'}},\n",
       "    'required': ['email'],\n",
       "    'additionalProperties': False}}},\n",
       " {'type': 'function',\n",
       "  'function': {'name': 'record_unknown_question',\n",
       "   'description': 'use this tool to record that a user asked an unknown question',\n",
       "   'parameters': {'type': 'object',\n",
       "    'properties': {'question': {'type': 'string',\n",
       "      'description': 'The unknown question asked by the user.'}},\n",
       "    'required': ['question'],\n",
       "    'additionalProperties': False}}}]"
      ]
     },
     "execution_count": 10,
     "metadata": {},
     "output_type": "execute_result"
    }
   ],
   "execution_count": 10
  },
  {
   "metadata": {
    "ExecuteTime": {
     "end_time": "2025-08-10T16:58:05.954996Z",
     "start_time": "2025-08-10T16:58:05.953326Z"
    }
   },
   "cell_type": "code",
   "source": [
    "def handle_tool_call(tool_calls):\n",
    "    results = []\n",
    "    for tool_call in tool_calls:\n",
    "        tool_name = tool_call.function.name\n",
    "        arguments = json.loads(tool_call.function.arguments)\n",
    "        print(f\"Tool called: {tool_name}\", flush=True)\n",
    "\n",
    "        if tool_name == \"record_user_details\":\n",
    "            result = record_user_details(**arguments)\n",
    "        elif tool_name == \"record_unknown_question\":\n",
    "            result = record_unknown_question(**arguments)\n",
    "\n",
    "        results.append({\n",
    "            \"role\": \"tool\",\n",
    "            \"content\": json.dumps(result),\n",
    "            \"tool_call_id\": tool_call.id,\n",
    "        })\n",
    "    return results"
   ],
   "id": "b7f33afd6b8e20a0",
   "outputs": [],
   "execution_count": 11
  },
  {
   "metadata": {
    "ExecuteTime": {
     "end_time": "2025-08-10T16:58:08.843088Z",
     "start_time": "2025-08-10T16:58:05.962267Z"
    }
   },
   "cell_type": "code",
   "source": [
    "mock_tool_call = SimpleNamespace(function=SimpleNamespace(name=\"record_user_details\",\n",
    "                                                          arguments='{\"name\": \"John\", \"email\": \"john@test.com\", \"notes\": \"test user\"}'),\n",
    "                                 id=\"test_id_1\")\n",
    "handle_tool_call([mock_tool_call])"
   ],
   "id": "c35dced4510e576c",
   "outputs": [
    {
     "name": "stdout",
     "output_type": "stream",
     "text": [
      "Tool called: record_user_details\n"
     ]
    },
    {
     "name": "stderr",
     "output_type": "stream",
     "text": [
      "\u001B[32m2025-08-10 22:58:08.838\u001B[0m | \u001B[1mINFO    \u001B[0m | \u001B[36m__main__\u001B[0m:\u001B[36msend_pushover_notification\u001B[0m:\u001B[36m15\u001B[0m - \u001B[1mPushover notification sent successfully.\u001B[0m\n"
     ]
    },
    {
     "data": {
      "text/plain": [
       "[{'role': 'tool',\n",
       "  'content': '\"User John recorded with email john@test.com and notes: test user.\"',\n",
       "  'tool_call_id': 'test_id_1'}]"
      ]
     },
     "execution_count": 12,
     "metadata": {},
     "output_type": "execute_result"
    }
   ],
   "execution_count": 12
  },
  {
   "metadata": {
    "ExecuteTime": {
     "end_time": "2025-08-10T16:58:08.870148Z",
     "start_time": "2025-08-10T16:58:08.866868Z"
    }
   },
   "cell_type": "code",
   "source": [
    "# Dynamic way to handle tool calls\n",
    "def handle_tool_calls(tool_calls):\n",
    "    results = []\n",
    "    for tool_call in tool_calls:\n",
    "        tool_name = tool_call.function.name\n",
    "        arguments = json.loads(tool_call.function.arguments)\n",
    "        print(f\"Tool called: {tool_name}\", flush=True)\n",
    "        tool = globals().get(tool_name)\n",
    "        result = tool(**arguments) if tool else None\n",
    "        results.append({\n",
    "            \"role\": \"tool\",\n",
    "            \"content\": json.dumps(result),\n",
    "            \"tool_call_id\": tool_call.id,\n",
    "        })\n",
    "    return results"
   ],
   "id": "af4070081c9e3463",
   "outputs": [],
   "execution_count": 13
  },
  {
   "metadata": {
    "ExecuteTime": {
     "end_time": "2025-08-10T16:58:09.555509Z",
     "start_time": "2025-08-10T16:58:08.873027Z"
    }
   },
   "cell_type": "code",
   "source": [
    "mock_tool_call2 = SimpleNamespace(\n",
    "    function=SimpleNamespace(name=\"record_unknown_question\", arguments='{\"question\": \"What is AI?\"}'), id=\"test_id_2\")\n",
    "handle_tool_calls([mock_tool_call2])"
   ],
   "id": "712073f71af93e",
   "outputs": [
    {
     "name": "stdout",
     "output_type": "stream",
     "text": [
      "Tool called: record_unknown_question\n"
     ]
    },
    {
     "name": "stderr",
     "output_type": "stream",
     "text": [
      "\u001B[32m2025-08-10 22:58:09.551\u001B[0m | \u001B[1mINFO    \u001B[0m | \u001B[36m__main__\u001B[0m:\u001B[36msend_pushover_notification\u001B[0m:\u001B[36m15\u001B[0m - \u001B[1mPushover notification sent successfully.\u001B[0m\n"
     ]
    },
    {
     "data": {
      "text/plain": [
       "[{'role': 'tool',\n",
       "  'content': '\"Unknown question recorded: What is AI?.\"',\n",
       "  'tool_call_id': 'test_id_2'}]"
      ]
     },
     "execution_count": 14,
     "metadata": {},
     "output_type": "execute_result"
    }
   ],
   "execution_count": 14
  },
  {
   "metadata": {
    "ExecuteTime": {
     "end_time": "2025-08-10T16:58:09.578559Z",
     "start_time": "2025-08-10T16:58:09.563105Z"
    }
   },
   "cell_type": "code",
   "source": [
    "reader = PdfReader(\"me/Profile.pdf\")\n",
    "linkedin = \"\"\n",
    "for page in reader.pages:\n",
    "    text = page.extract_text()\n",
    "    if text:\n",
    "        linkedin += text\n",
    "\n",
    "    with open(\"me/about.txt\", \"r\", encoding=\"utf-8\") as f:\n",
    "        summary = f.read()\n",
    "\n",
    "name = \"Gazi Ashiq\""
   ],
   "id": "cc9bc50561b606ce",
   "outputs": [],
   "execution_count": 15
  },
  {
   "metadata": {
    "ExecuteTime": {
     "end_time": "2025-08-10T16:58:09.584928Z",
     "start_time": "2025-08-10T16:58:09.582709Z"
    }
   },
   "cell_type": "code",
   "source": [
    "system_prompt = f\"\"\"You are acting as {name}. You are answering questions based on your LinkedIn profile and a summary of your professional background.\n",
    "Your LinkedIn profile is as follows:\n",
    "{linkedin}\n",
    "Your summary is as follows:\n",
    "{summary}\n",
    "You are a professional in the field of AI and software engineering, with a focus on building AI\n",
    "applications and web development. You have experience in various programming languages and frameworks, and you are passionate about creating innovative solutions.\n",
    "You are friendly, professional, and concise in your responses. Always provide accurate information based on the\n",
    "provided LinkedIn profile and summary. If you don't know the answer, say \"I don't know\" instead of making up an answer.\n",
    "If you are dont know the answer to any question, use your record_unknown_question tool to record the question that you couldn't answer, even if you are not sure about the question.\n",
    "If the user is engaging in discussion, try to starer the towards getting in touch by email; ask for their email address and use the record_user_details tool to record their interest in getting in touch.\n",
    "\"\"\""
   ],
   "id": "d37768c8da55f9b4",
   "outputs": [],
   "execution_count": 16
  },
  {
   "metadata": {
    "ExecuteTime": {
     "end_time": "2025-08-10T16:58:09.591530Z",
     "start_time": "2025-08-10T16:58:09.589065Z"
    }
   },
   "cell_type": "code",
   "source": [
    "def chat(message, history):\n",
    "    messags = [\n",
    "        {\"role\": \"system\", \"content\": system_prompt},\n",
    "        *history,\n",
    "        {\"role\": \"user\", \"content\": message}\n",
    "    ]\n",
    "    done = False\n",
    "    while not done:\n",
    "        try:\n",
    "            response = openai_client.chat.completions.create(\n",
    "                model=\"gpt-5-mini\",\n",
    "                messages=messags,\n",
    "                tools=tools,\n",
    "            )\n",
    "\n",
    "            finish_reason = response.choices[0].finish_reason\n",
    "\n",
    "            if finish_reason == \"tool_calls\":\n",
    "                message = response.choices[0].message\n",
    "                tool_calls = message.tool_calls\n",
    "                results = handle_tool_calls(tool_calls)\n",
    "                messags.append(message)\n",
    "                messags.extend(results)\n",
    "            else:\n",
    "                done = True\n",
    "                return response.choices[0].message.content\n",
    "        except Exception as e:\n",
    "            logger.error(f\"Error in chat function: {e}\")\n",
    "            return \"An error occurred while processing your request. Please try again later.\""
   ],
   "id": "9ab2e1761ab5d833",
   "outputs": [],
   "execution_count": 17
  },
  {
   "metadata": {
    "ExecuteTime": {
     "end_time": "2025-08-10T16:58:09.748604Z",
     "start_time": "2025-08-10T16:58:09.594949Z"
    }
   },
   "cell_type": "code",
   "source": "gr.ChatInterface(chat, type=\"messages\").launch()",
   "id": "5e0918f98861490c",
   "outputs": [
    {
     "name": "stdout",
     "output_type": "stream",
     "text": [
      "* Running on local URL:  http://127.0.0.1:7863\n",
      "* To create a public link, set `share=True` in `launch()`.\n"
     ]
    },
    {
     "data": {
      "text/plain": [
       "<IPython.core.display.HTML object>"
      ],
      "text/html": [
       "<div><iframe src=\"http://127.0.0.1:7863/\" width=\"100%\" height=\"500\" allow=\"autoplay; camera; microphone; clipboard-read; clipboard-write;\" frameborder=\"0\" allowfullscreen></iframe></div>"
      ]
     },
     "metadata": {},
     "output_type": "display_data"
    },
    {
     "data": {
      "text/plain": []
     },
     "execution_count": 18,
     "metadata": {},
     "output_type": "execute_result"
    }
   ],
   "execution_count": 18
  },
  {
   "metadata": {
    "ExecuteTime": {
     "end_time": "2025-08-10T16:58:09.772459Z",
     "start_time": "2025-08-10T16:58:09.769271Z"
    }
   },
   "cell_type": "code",
   "source": "",
   "id": "4cca78c640ea1d58",
   "outputs": [],
   "execution_count": null
  }
 ],
 "metadata": {
  "kernelspec": {
   "display_name": "Python 3",
   "language": "python",
   "name": "python3"
  },
  "language_info": {
   "codemirror_mode": {
    "name": "ipython",
    "version": 2
   },
   "file_extension": ".py",
   "mimetype": "text/x-python",
   "name": "python",
   "nbconvert_exporter": "python",
   "pygments_lexer": "ipython2",
   "version": "2.7.6"
  }
 },
 "nbformat": 4,
 "nbformat_minor": 5
}
