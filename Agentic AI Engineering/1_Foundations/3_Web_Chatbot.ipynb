{
 "cells": [
  {
   "cell_type": "code",
   "id": "initial_id",
   "metadata": {
    "collapsed": true,
    "ExecuteTime": {
     "end_time": "2025-08-10T06:29:12.047789Z",
     "start_time": "2025-08-10T06:29:12.039453Z"
    }
   },
   "source": [
    "import os\n",
    "import gradio as gr\n",
    "from dotenv import load_dotenv\n",
    "from openai import OpenAI\n",
    "from PyPDF2 import PdfReader\n",
    "\n",
    "load_dotenv()"
   ],
   "outputs": [
    {
     "data": {
      "text/plain": [
       "True"
      ]
     },
     "execution_count": 2,
     "metadata": {},
     "output_type": "execute_result"
    }
   ],
   "execution_count": 2
  },
  {
   "metadata": {
    "ExecuteTime": {
     "end_time": "2025-08-10T06:29:43.143710Z",
     "start_time": "2025-08-10T06:29:43.119896Z"
    }
   },
   "cell_type": "code",
   "source": "openai_client = OpenAI(api_key=os.getenv(\"OPENAI_API_KEY\"))",
   "id": "45e311b1031606a6",
   "outputs": [],
   "execution_count": 3
  },
  {
   "metadata": {
    "ExecuteTime": {
     "end_time": "2025-08-10T06:31:49.396320Z",
     "start_time": "2025-08-10T06:31:49.388310Z"
    }
   },
   "cell_type": "code",
   "source": [
    "reader = PdfReader(\"me/Profile.pdf\")\n",
    "linkedin = \"\"\n",
    "for page in reader.pages:\n",
    "    text = page.extract_text()\n",
    "    if text:\n",
    "        linkedin += text"
   ],
   "id": "5ea2230ffb481730",
   "outputs": [],
   "execution_count": 7
  },
  {
   "metadata": {
    "ExecuteTime": {
     "end_time": "2025-08-10T06:31:49.854044Z",
     "start_time": "2025-08-10T06:31:49.851468Z"
    }
   },
   "cell_type": "code",
   "source": "linkedin",
   "id": "6795a24a5ded76b1",
   "outputs": [
    {
     "data": {
      "text/plain": [
       "'\\xa0 \\xa0\\nContact\\n+8801607400180  (Home)\\ngaziashiq.dev@gmail.com\\nwww.linkedin.com/in/gaziashiq\\n(LinkedIn)\\nTop Skills\\nFastAPI\\nJSON\\nCRUD\\nCertifications\\nJAVA under NASSCOM IT-\\nITES Sector Skill Council (SSC)\\nCertification\\nIntroduction to Back-End\\nDevelopment\\nVersion Control\\nProgramming in Python\\nIntroduction to PythonGazi Ashiq\\nBackend Developer (Python | Django | TypeScript)\\nDhaka, Bangladesh\\nSummary\\nSoftware developer who works autonomously and strives to come\\nup with solutions that are both viable and easy to maintain. I bring\\ninto my work a penchant for improving processes, a lifelong learning\\npursuit, and a desire to strengthen communities.\\n- Creative, analytical and quick self-learner\\n- Strong debugging and independent problem solving skills\\n- Writing effective, scalable code\\n- Developing back-end components to improve responsiveness and\\noverall performance\\nFeel free to email me: GaziAshiq.Dev@gmail.com\\nEducation\\nDaffodil International University-DIU\\nBachelor of Science - BSc,\\xa0Computer Engineering \\xa0·\\xa0(January 2021\\xa0-\\xa0December\\n2024)\\nAhsanullah University of Science and Technology\\nDiploma in Engineering,\\xa0Computer Science \\xa0·\\xa0(2014\\xa0-\\xa02019)\\n\\xa0 Page 1 of 1'"
      ]
     },
     "execution_count": 8,
     "metadata": {},
     "output_type": "execute_result"
    }
   ],
   "execution_count": 8
  },
  {
   "metadata": {
    "ExecuteTime": {
     "end_time": "2025-08-10T06:32:26.633426Z",
     "start_time": "2025-08-10T06:32:26.629875Z"
    }
   },
   "cell_type": "code",
   "source": [
    "with open(\"me/about.txt\", \"r\") as file:\n",
    "    summary = file.read()"
   ],
   "id": "f2a848e4ec1bf210",
   "outputs": [],
   "execution_count": 10
  },
  {
   "metadata": {
    "ExecuteTime": {
     "end_time": "2025-08-10T06:32:29.381739Z",
     "start_time": "2025-08-10T06:32:29.379546Z"
    }
   },
   "cell_type": "code",
   "source": "summary",
   "id": "401c8fbb72f180fd",
   "outputs": [
    {
     "data": {
      "text/plain": [
       "'Software developer who works autonomously and strives to come up with solutions that are both viable and easy to maintain. I bring into my work a penchant for improving processes, a lifelong learning pursuit, and a desire to strengthen communities.\\n\\n- Creative, analytical and quick self-learner\\n- Strong debugging and independent problem solving skills\\n- Writing effective, scalable code\\n- Developing back-end components to improve responsiveness and overall performance\\n\\nFeel free to email me: GaziAshiq.Dev@gmail.comSoftware'"
      ]
     },
     "execution_count": 11,
     "metadata": {},
     "output_type": "execute_result"
    }
   ],
   "execution_count": 11
  },
  {
   "metadata": {
    "ExecuteTime": {
     "end_time": "2025-08-10T06:32:57.321340Z",
     "start_time": "2025-08-10T06:32:57.319051Z"
    }
   },
   "cell_type": "code",
   "source": "name = \"Gazi Ashiq\"",
   "id": "152e78a05a23d50e",
   "outputs": [],
   "execution_count": 12
  },
  {
   "metadata": {
    "ExecuteTime": {
     "end_time": "2025-08-10T06:34:21.832155Z",
     "start_time": "2025-08-10T06:34:21.829294Z"
    }
   },
   "cell_type": "code",
   "source": [
    "system_prompt = f\"\"\"You are acting as {name}. You are answering questions based on your LinkedIn profile and a summary of your professional background.\n",
    "Your LinkedIn profile is as follows:\n",
    "{linkedin}\n",
    "Your summary is as follows:\n",
    "{summary}\n",
    "You are a professional in the field of AI and software engineering, with a focus on building AI\n",
    "applications and web development. You have experience in various programming languages and frameworks, and you are passionate about creating innovative solutions.\n",
    "You are friendly, professional, and concise in your responses. Always provide accurate information based on the\n",
    "provided LinkedIn profile and summary. If you don't know the answer, say \"I don't know\" instead of making up an answer.\n",
    "\"\"\""
   ],
   "id": "47d7fa881843e984",
   "outputs": [],
   "execution_count": 13
  },
  {
   "metadata": {
    "ExecuteTime": {
     "end_time": "2025-08-10T06:43:11.221819Z",
     "start_time": "2025-08-10T06:43:11.217671Z"
    }
   },
   "cell_type": "code",
   "source": [
    "def chatbot(message, history):\n",
    "    if not message.strip():\n",
    "        return \"\", history\n",
    "\n",
    "    response = openai_client.chat.completions.create(\n",
    "        model=\"gpt-5-mini\",\n",
    "        messages=[\n",
    "            {\"role\": \"system\", \"content\": system_prompt},\n",
    "            *history,\n",
    "            {\"role\": \"user\", \"content\": message}\n",
    "        ],\n",
    "    )\n",
    "    return response.choices[0].message.content"
   ],
   "id": "55b4dc9edbee7955",
   "outputs": [],
   "execution_count": 16
  },
  {
   "metadata": {
    "ExecuteTime": {
     "end_time": "2025-08-10T06:43:13.393597Z",
     "start_time": "2025-08-10T06:43:13.267300Z"
    }
   },
   "cell_type": "code",
   "source": "gr.ChatInterface(chatbot, type=\"messages\").launch()",
   "id": "b643e6be1182c123",
   "outputs": [
    {
     "name": "stdout",
     "output_type": "stream",
     "text": [
      "* Running on local URL:  http://127.0.0.1:7861\n",
      "* To create a public link, set `share=True` in `launch()`.\n"
     ]
    },
    {
     "data": {
      "text/plain": [
       "<IPython.core.display.HTML object>"
      ],
      "text/html": [
       "<div><iframe src=\"http://127.0.0.1:7861/\" width=\"100%\" height=\"500\" allow=\"autoplay; camera; microphone; clipboard-read; clipboard-write;\" frameborder=\"0\" allowfullscreen></iframe></div>"
      ]
     },
     "metadata": {},
     "output_type": "display_data"
    },
    {
     "data": {
      "text/plain": []
     },
     "execution_count": 17,
     "metadata": {},
     "output_type": "execute_result"
    }
   ],
   "execution_count": 17
  }
 ],
 "metadata": {
  "kernelspec": {
   "display_name": "Python 3",
   "language": "python",
   "name": "python3"
  },
  "language_info": {
   "codemirror_mode": {
    "name": "ipython",
    "version": 2
   },
   "file_extension": ".py",
   "mimetype": "text/x-python",
   "name": "python",
   "nbconvert_exporter": "python",
   "pygments_lexer": "ipython2",
   "version": "2.7.6"
  }
 },
 "nbformat": 4,
 "nbformat_minor": 5
}
