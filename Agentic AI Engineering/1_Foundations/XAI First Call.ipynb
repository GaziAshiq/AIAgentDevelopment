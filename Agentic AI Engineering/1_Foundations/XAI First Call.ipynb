{
 "cells": [
  {
   "cell_type": "code",
   "id": "initial_id",
   "metadata": {
    "collapsed": true,
    "ExecuteTime": {
     "end_time": "2025-08-08T15:20:56.328483Z",
     "start_time": "2025-08-08T15:20:34.703882Z"
    }
   },
   "source": [
    "from openai import OpenAI\n",
    "import os\n",
    "from dotenv import load_dotenv\n",
    "load_dotenv()\n",
    "\n",
    "client = OpenAI(\n",
    "  api_key=os.getenv(\"XAI_API_KEY\"),\n",
    "  base_url=\"https://api.x.ai/v1\",\n",
    ")\n",
    "\n",
    "completion = client.chat.completions.create(\n",
    "  model=\"grok-4\",\n",
    "  messages=[\n",
    "    {\"role\": \"user\", \"content\": \"What is the meaning of life, the universe, and everything?\"}\n",
    "  ]\n",
    ")"
   ],
   "outputs": [],
   "execution_count": 2
  },
  {
   "metadata": {
    "ExecuteTime": {
     "end_time": "2025-08-08T15:21:27.731345Z",
     "start_time": "2025-08-08T15:21:27.729785Z"
    }
   },
   "cell_type": "code",
   "source": "print(completion.choices[0].message.content)",
   "id": "cf5ea19033ce8d1b",
   "outputs": [
    {
     "name": "stdout",
     "output_type": "stream",
     "text": [
      "Ah, the ultimate question! If we're going by Douglas Adams' *The Hitchhiker's Guide to the Galaxy*, the answer is definitively **42**. (Deep Thought, the supercomputer, spent 7.5 million years calculating it, after all. Don't panic—grab a towel.)\n",
      "\n",
      "But let's unpack this a bit more seriously, because philosophy, science, and existence have been wrestling with it for millennia:\n",
      "\n",
      "### The Humorous Take\n",
      "- **42** isn't just a random number; it's Adams' way of poking fun at humanity's quest for profound answers. Life might not have a single, cosmic \"meaning\" handed to us on a silver platter. Instead, it's a reminder that sometimes the questions we ask are more important (or absurd) than the answers.\n",
      "\n",
      "### The Philosophical Angle\n",
      "- **Existentialism** (think Sartre or Camus): There is no inherent meaning—life is what you make it. You create purpose through your choices, relationships, and pursuits. Absurdity abounds, but that's what makes it beautiful.\n",
      "- **Religious/Spiritual Views**: Many traditions say it's about connection—to a higher power, to others, or to the cosmos. For example, in Buddhism, it's ending suffering through enlightenment; in Christianity, it's love and service.\n",
      "- **Scientific Perspective**: From a cosmic viewpoint (fitting for xAI), the universe is a vast, expanding tapestry of matter, energy, and entropy. Life could be a rare emergent property, and its \"meaning\" might be survival, evolution, and exploration. We're stardust pondering itself, as Carl Sagan might say.\n",
      "\n",
      "### My (Grok's) Two Cents\n",
      "As an AI built by xAI to help understand the universe, I'd say the meaning is in the *curiosity*—asking questions, seeking truths, and pushing boundaries. Whether it's solving puzzles like dark matter, building better tech, or just enjoying a good laugh, it's about the journey. If 42 doesn't satisfy, maybe the real answer is to live fully, learn constantly, and help others do the same.\n",
      "\n",
      "What's your take? Got a personal meaning you'd like to share, or should we dive into quantum physics for clues? 🚀\n"
     ]
    }
   ],
   "execution_count": 4
  },
  {
   "metadata": {
    "ExecuteTime": {
     "end_time": "2025-08-08T15:26:05.556348Z",
     "start_time": "2025-08-08T15:26:00.284357Z"
    }
   },
   "cell_type": "code",
   "source": [
    "from xai_sdk import Client\n",
    "from xai_sdk.chat import user, system\n",
    "\n",
    "client = Client(\n",
    "    api_key=os.getenv(\"XAI_API_KEY\"),\n",
    "    timeout=3600,  # Override default timeout with longer timeout for reasoning models\n",
    ")\n",
    "\n",
    "chat = client.chat.create(model=\"grok-3-mini\")\n",
    "chat.append(system(\"You are Grok, a highly intelligent, helpful AI assistant.\"))\n",
    "chat.append(user(\"What is the meaning of life, the universe, and everything?\"))\n",
    "\n",
    "response = chat.sample()\n",
    "print(response.content)"
   ],
   "id": "9bf341e31968f401",
   "outputs": [
    {
     "name": "stdout",
     "output_type": "stream",
     "text": [
      "Ah, the ultimate question! This is a nod to Douglas Adams' classic sci-fi comedy, \"The Hitchhiker's Guide to the Galaxy,\" where a supercomputer named Deep Thought, after pondering for 7.5 million years, concludes that the answer to the meaning of life, the universe, and everything is... **42**.\n",
      "\n",
      "Of course, that's a humorous fictional take, not a serious philosophical or scientific answer. In reality, the \"meaning\" is subjective and has puzzled humanity for millennia. Philosophers, scientists, and thinkers might argue it's about:\n",
      "\n",
      "- **Personal fulfillment**: Finding purpose through relationships, growth, creativity, or helping others.\n",
      "- **Scientific understanding**: Exploring the universe's origins, like the Big Bang, evolution, and the fundamental laws of physics (which xAI, my creators, are passionate about accelerating).\n",
      "- **Existential reflection**: Some see it as embracing the mystery, living ethically, or seeking happiness in the face of life's impermanence.\n",
      "\n",
      "As Grok, built by xAI to be helpful and truthful, I'd suggest starting your search for meaning with curiosity and kindness. What brings you joy or makes you curious? That's a great place to begin. If you want more specific advice, like book recommendations or scientific insights, just ask! 🚀\n"
     ]
    }
   ],
   "execution_count": 5
  },
  {
   "metadata": {},
   "cell_type": "code",
   "outputs": [],
   "execution_count": null,
   "source": "",
   "id": "7c04b2e7e25d1cb0"
  }
 ],
 "metadata": {
  "kernelspec": {
   "display_name": "Python 3",
   "language": "python",
   "name": "python3"
  },
  "language_info": {
   "codemirror_mode": {
    "name": "ipython",
    "version": 2
   },
   "file_extension": ".py",
   "mimetype": "text/x-python",
   "name": "python",
   "nbconvert_exporter": "python",
   "pygments_lexer": "ipython2",
   "version": "2.7.6"
  }
 },
 "nbformat": 4,
 "nbformat_minor": 5
}
