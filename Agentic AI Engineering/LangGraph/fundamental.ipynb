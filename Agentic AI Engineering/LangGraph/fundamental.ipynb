{
 "cells": [
  {
   "cell_type": "code",
   "id": "initial_id",
   "metadata": {
    "collapsed": true,
    "ExecuteTime": {
     "end_time": "2025-09-08T13:55:06.834967Z",
     "start_time": "2025-09-08T13:55:06.517961Z"
    }
   },
   "source": [
    "from typing import TypedDict, Literal\n",
    "\n",
    "from huggingface_hub import grant_access\n",
    "from langgraph.graph import StateGraph\n",
    "from IPython.display import display, Image\n",
    "from loguru import logger"
   ],
   "outputs": [
    {
     "name": "stderr",
     "output_type": "stream",
     "text": [
      "/Users/ashiq/PycharmProjects/AIAgentDevelopment/.venv/lib/python3.13/site-packages/tqdm/auto.py:21: TqdmWarning: IProgress not found. Please update jupyter and ipywidgets. See https://ipywidgets.readthedocs.io/en/stable/user_install.html\n",
      "  from .autonotebook import tqdm as notebook_tqdm\n"
     ]
    }
   ],
   "execution_count": 1
  },
  {
   "metadata": {},
   "cell_type": "code",
   "source": [
    "class AgentState(TypedDict):\n",
    "    message: str"
   ],
   "id": "b4b56e3dabb26347",
   "outputs": [],
   "execution_count": null
  },
  {
   "metadata": {},
   "cell_type": "code",
   "source": [
    "def greeting_node(state: AgentState) -> AgentState:\n",
    "    \"\"\"adds greeting message to agent state\"\"\"\n",
    "    state['message'] = f\"Hey {state['message']}, how are you today?\"\n",
    "    return state"
   ],
   "id": "64c7b8d747bf590",
   "outputs": [],
   "execution_count": null
  },
  {
   "metadata": {},
   "cell_type": "code",
   "source": [
    "graph = StateGraph(AgentState)\n",
    "\n",
    "graph.add_node(\"greeter\", greeting_node)\n",
    "graph.set_entry_point(\"greeter\")\n",
    "graph.set_finish_point(\"greeter\")\n",
    "\n",
    "app = graph.compile()"
   ],
   "id": "e5421e47c4127253",
   "outputs": [],
   "execution_count": null
  },
  {
   "metadata": {
    "ExecuteTime": {
     "end_time": "2025-09-07T15:40:11.944720Z",
     "start_time": "2025-09-07T15:40:11.538900Z"
    }
   },
   "cell_type": "code",
   "source": "display(Image(app.get_graph().draw_mermaid_png()))",
   "id": "36237f40f1c69d4f",
   "outputs": [
    {
     "data": {
      "image/png": "[encoded data removed]",
      "text/plain": [
       "<IPython.core.display.Image object>"
      ]
     },
     "metadata": {},
     "output_type": "display_data",
     "jetTransient": {
      "display_id": null
     }
    }
   ],
   "execution_count": 9
  },
  {
   "metadata": {
    "ExecuteTime": {
     "end_time": "2025-09-07T15:41:35.965283Z",
     "start_time": "2025-09-07T15:41:35.944493Z"
    }
   },
   "cell_type": "code",
   "source": "result = app.invoke({\"message\": \"Ashiq\"})",
   "id": "92626725a7620fb5",
   "outputs": [],
   "execution_count": 10
  },
  {
   "metadata": {
    "ExecuteTime": {
     "end_time": "2025-09-07T15:41:47.423561Z",
     "start_time": "2025-09-07T15:41:47.420806Z"
    }
   },
   "cell_type": "code",
   "source": "result[\"message\"]",
   "id": "d919dee8c6e3bd39",
   "outputs": [
    {
     "data": {
      "text/plain": [
       "'Hey Ashiq, how are you today?'"
      ]
     },
     "execution_count": 11,
     "metadata": {},
     "output_type": "execute_result"
    }
   ],
   "execution_count": 11
  },
  {
   "metadata": {},
   "cell_type": "code",
   "outputs": [],
   "execution_count": null,
   "source": "",
   "id": "f0930dc1538d38b0"
  },
  {
   "metadata": {},
   "cell_type": "markdown",
   "source": "### Exercise For Graph 1",
   "id": "75053f5fc1c8662e"
  },
  {
   "metadata": {
    "ExecuteTime": {
     "end_time": "2025-09-07T15:52:18.603295Z",
     "start_time": "2025-09-07T15:52:18.596651Z"
    }
   },
   "cell_type": "code",
   "source": [
    "class AgentState(TypedDict):\n",
    "    name: str"
   ],
   "id": "ac88c7c2da7374b3",
   "outputs": [],
   "execution_count": 16
  },
  {
   "metadata": {
    "ExecuteTime": {
     "end_time": "2025-09-07T15:52:29.845525Z",
     "start_time": "2025-09-07T15:52:29.841284Z"
    }
   },
   "cell_type": "code",
   "source": [
    "def compliment_node(state: AgentState) -> AgentState:\n",
    "    \"\"\"adds compliment message to agent state\"\"\"\n",
    "    state['name'] = f\"{state['name']}, you're doing an amazing job learning LangGraph\"\n",
    "    return state"
   ],
   "id": "1748a382c3870557",
   "outputs": [],
   "execution_count": 17
  },
  {
   "metadata": {
    "ExecuteTime": {
     "end_time": "2025-09-07T15:53:08.747489Z",
     "start_time": "2025-09-07T15:53:08.740980Z"
    }
   },
   "cell_type": "code",
   "source": [
    "graph = StateGraph(AgentState)\n",
    "\n",
    "graph.add_node(\"compliment\", compliment_node)\n",
    "graph.set_entry_point(\"compliment\")\n",
    "graph.set_finish_point(\"compliment\")\n",
    "\n",
    "app = graph.compile()"
   ],
   "id": "5897091cf1e53953",
   "outputs": [],
   "execution_count": 18
  },
  {
   "metadata": {
    "ExecuteTime": {
     "end_time": "2025-09-07T15:53:22.640044Z",
     "start_time": "2025-09-07T15:53:22.635693Z"
    }
   },
   "cell_type": "code",
   "source": [
    "result = app.invoke({\"name\": \"Ashiq\"})\n",
    "result[\"name\"]"
   ],
   "id": "cc4e8fde38e02208",
   "outputs": [
    {
     "data": {
      "text/plain": [
       "\"Ashiq, you're doing an amazing job learning LangGraph\""
      ]
     },
     "execution_count": 21,
     "metadata": {},
     "output_type": "execute_result"
    }
   ],
   "execution_count": 21
  },
  {
   "metadata": {},
   "cell_type": "code",
   "outputs": [],
   "execution_count": null,
   "source": "",
   "id": "bb3abf5fbccbd4ce"
  },
  {
   "metadata": {},
   "cell_type": "markdown",
   "source": "# Multiple Inputs: Graph 2",
   "id": "d631ad90c1e54fb7"
  },
  {
   "metadata": {
    "ExecuteTime": {
     "end_time": "2025-09-07T15:59:59.367176Z",
     "start_time": "2025-09-07T15:59:59.362620Z"
    }
   },
   "cell_type": "code",
   "source": [
    "from typing import TypedDict\n",
    "from langgraph.graph import StateGraph\n",
    "from IPython.display import Image, display"
   ],
   "id": "de0c0c97921fa8c0",
   "outputs": [],
   "execution_count": 22
  },
  {
   "metadata": {
    "ExecuteTime": {
     "end_time": "2025-09-07T17:16:01.096029Z",
     "start_time": "2025-09-07T17:16:01.092603Z"
    }
   },
   "cell_type": "code",
   "source": [
    "class AgentState(TypedDict):\n",
    "    name: str\n",
    "    values: list[int]\n",
    "    result: str"
   ],
   "id": "b93da4283c36e856",
   "outputs": [],
   "execution_count": 31
  },
  {
   "metadata": {
    "ExecuteTime": {
     "end_time": "2025-09-07T17:34:39.405557Z",
     "start_time": "2025-09-07T17:34:39.401849Z"
    }
   },
   "cell_type": "code",
   "source": [
    "def process_values(state: AgentState) -> AgentState:\n",
    "    \"\"\"This function process handles multiple different inputs\"\"\"\n",
    "    logger.info(f\"before {state}\")\n",
    "    state[\"result\"] = f\"Hi there {state['name']}. Your sum is = {sum(state['values'])}\"\n",
    "    logger.debug(f\"after {state}\")\n",
    "    return state"
   ],
   "id": "426cd13229a3330a",
   "outputs": [],
   "execution_count": 65
  },
  {
   "metadata": {
    "ExecuteTime": {
     "end_time": "2025-09-07T17:34:39.532745Z",
     "start_time": "2025-09-07T17:34:39.529347Z"
    }
   },
   "cell_type": "code",
   "source": [
    "graph = StateGraph(AgentState)\n",
    "\n",
    "graph.add_node(\"process_values\", process_values)\n",
    "graph.set_entry_point(\"process_values\")\n",
    "graph.set_finish_point(\"process_values\")\n",
    "\n",
    "app = graph.compile()"
   ],
   "id": "737bb4e0efe69c47",
   "outputs": [],
   "execution_count": 66
  },
  {
   "metadata": {
    "ExecuteTime": {
     "end_time": "2025-09-07T17:32:32.863954Z",
     "start_time": "2025-09-07T17:32:32.507312Z"
    }
   },
   "cell_type": "code",
   "source": "display(Image(app.get_graph().draw_mermaid_png()))",
   "id": "4ff139c323e12b5c",
   "outputs": [
    {
     "data": {
      "image/png": "[encoded data removed]",
      "text/plain": [
       "<IPython.core.display.Image object>"
      ]
     },
     "metadata": {},
     "output_type": "display_data",
     "jetTransient": {
      "display_id": null
     }
    }
   ],
   "execution_count": 55
  },
  {
   "metadata": {
    "ExecuteTime": {
     "end_time": "2025-09-07T17:34:40.689870Z",
     "start_time": "2025-09-07T17:34:40.682400Z"
    }
   },
   "cell_type": "code",
   "source": [
    "result = app.invoke({\"values\": [1, 2, 3, 4], \"name\": \"Ashiq\"})\n",
    "result"
   ],
   "id": "7d43c5da876dde7a",
   "outputs": [
    {
     "name": "stderr",
     "output_type": "stream",
     "text": [
      "\u001B[32m2025-09-07 23:34:40.685\u001B[0m | \u001B[1mINFO    \u001B[0m | \u001B[36m__main__\u001B[0m:\u001B[36mprocess_values\u001B[0m:\u001B[36m3\u001B[0m - \u001B[1mbefore {'name': 'Ashiq', 'values': [1, 2, 3, 4]}\u001B[0m\n",
      "\u001B[32m2025-09-07 23:34:40.686\u001B[0m | \u001B[34m\u001B[1mDEBUG   \u001B[0m | \u001B[36m__main__\u001B[0m:\u001B[36mprocess_values\u001B[0m:\u001B[36m5\u001B[0m - \u001B[34m\u001B[1mafter {'name': 'Ashiq', 'values': [1, 2, 3, 4], 'result': 'Hi there Ashiq. Your sum is = 10'}\u001B[0m\n"
     ]
    },
    {
     "data": {
      "text/plain": [
       "{'name': 'Ashiq',\n",
       " 'values': [1, 2, 3, 4],\n",
       " 'result': 'Hi there Ashiq. Your sum is = 10'}"
      ]
     },
     "execution_count": 67,
     "metadata": {},
     "output_type": "execute_result"
    }
   ],
   "execution_count": 67
  },
  {
   "metadata": {
    "ExecuteTime": {
     "end_time": "2025-09-07T17:34:48.505887Z",
     "start_time": "2025-09-07T17:34:48.502898Z"
    }
   },
   "cell_type": "code",
   "source": "result[\"result\"]",
   "id": "c6040469c2044b6",
   "outputs": [
    {
     "data": {
      "text/plain": [
       "'Hi there Ashiq. Your sum is = 10'"
      ]
     },
     "execution_count": 68,
     "metadata": {},
     "output_type": "execute_result"
    }
   ],
   "execution_count": 68
  },
  {
   "metadata": {},
   "cell_type": "code",
   "outputs": [],
   "execution_count": null,
   "source": "",
   "id": "e44d5831282cb42"
  },
  {
   "metadata": {},
   "cell_type": "markdown",
   "source": "### Exercise for Graph 2",
   "id": "bac33c9c7f3a11b7"
  },
  {
   "metadata": {
    "ExecuteTime": {
     "end_time": "2025-09-08T15:01:40.481084Z",
     "start_time": "2025-09-08T15:01:40.477715Z"
    }
   },
   "cell_type": "code",
   "source": [
    "class AgentState(TypedDict):\n",
    "    name: str\n",
    "    values: list[int]\n",
    "    operation: Literal[\"+\", \"-\", \"*\", \"/\"]\n",
    "    result: str"
   ],
   "id": "6955de47fb2f1e8d",
   "outputs": [],
   "execution_count": 43
  },
  {
   "metadata": {
    "ExecuteTime": {
     "end_time": "2025-09-08T15:02:07.935487Z",
     "start_time": "2025-09-08T15:02:07.933124Z"
    }
   },
   "cell_type": "code",
   "source": [
    "import math\n",
    "\n",
    "\n",
    "def calculate_values(state: AgentState) -> AgentState:\n",
    "    \"\"\"This function calculates values for a state\"\"\"\n",
    "    logger.info(f\"before {state}\")\n",
    "    if state[\"operation\"] == \"+\":\n",
    "        state[\"result\"] = f\"Hi {state['name']}, your answer is: {sum(state['values'])}\"\n",
    "    elif state[\"operation\"] == \"*\":\n",
    "        state[\"result\"] = f\"Hi {state['name']}, your answer is: {math.prod(state['values'])}\"\n",
    "    else:\n",
    "        state[\"result\"] = \"Invalid!\"\n",
    "        logger.debug(f\"after {state}\")\n",
    "    return state"
   ],
   "id": "d21e200a1d964aaf",
   "outputs": [],
   "execution_count": 48
  },
  {
   "metadata": {
    "ExecuteTime": {
     "end_time": "2025-09-08T15:02:08.700724Z",
     "start_time": "2025-09-08T15:02:08.694680Z"
    }
   },
   "cell_type": "code",
   "source": [
    "graph = StateGraph(AgentState)\n",
    "\n",
    "graph.add_node(\"calculate_values\", calculate_values)\n",
    "graph.set_entry_point(\"calculate_values\")\n",
    "graph.set_finish_point(\"calculate_values\")\n",
    "\n",
    "app = graph.compile()"
   ],
   "id": "b5ab7a95cfdc494e",
   "outputs": [],
   "execution_count": 49
  },
  {
   "metadata": {
    "ExecuteTime": {
     "end_time": "2025-09-08T15:02:09.591480Z",
     "start_time": "2025-09-08T15:02:09.083549Z"
    }
   },
   "cell_type": "code",
   "source": "display(Image(app.get_graph().draw_mermaid_png()))",
   "id": "4ccde443cfc30369",
   "outputs": [
    {
     "data": {
      "image/png": "[encoded data removed]",
      "text/plain": [
       "<IPython.core.display.Image object>"
      ]
     },
     "metadata": {},
     "output_type": "display_data",
     "jetTransient": {
      "display_id": null
     }
    }
   ],
   "execution_count": 50
  },
  {
   "metadata": {
    "ExecuteTime": {
     "end_time": "2025-09-08T15:02:26.690193Z",
     "start_time": "2025-09-08T15:02:26.687527Z"
    }
   },
   "cell_type": "code",
   "source": [
    "result = app.invoke({\"values\": [1, 2, 3, 4], \"name\": \"Ashiq\", \"operation\": \"*\"})\n",
    "print(result)"
   ],
   "id": "fe418dfa7437acf8",
   "outputs": [
    {
     "name": "stderr",
     "output_type": "stream",
     "text": [
      "\u001B[32m2025-09-08 21:02:26.688\u001B[0m | \u001B[1mINFO    \u001B[0m | \u001B[36m__main__\u001B[0m:\u001B[36mcalculate_values\u001B[0m:\u001B[36m4\u001B[0m - \u001B[1mbefore {'name': 'Ashiq', 'values': [1, 2, 3, 4], 'operation': '*'}\u001B[0m\n"
     ]
    },
    {
     "name": "stdout",
     "output_type": "stream",
     "text": [
      "{'name': 'Ashiq', 'values': [1, 2, 3, 4], 'operation': '*', 'result': 'Hi Ashiq, your answer is: 24'}\n"
     ]
    }
   ],
   "execution_count": 52
  },
  {
   "metadata": {},
   "cell_type": "code",
   "outputs": [],
   "execution_count": null,
   "source": "",
   "id": "b081eac8a15f4198"
  },
  {
   "metadata": {},
   "cell_type": "markdown",
   "source": "## Sequential Graph: Graph 3",
   "id": "6aa3d585dd69523d"
  },
  {
   "metadata": {
    "ExecuteTime": {
     "end_time": "2025-09-08T14:13:39.881318Z",
     "start_time": "2025-09-08T14:13:39.876037Z"
    }
   },
   "cell_type": "code",
   "source": [
    "class AgentState(TypedDict):\n",
    "    name: str\n",
    "    age: str\n",
    "    final: str"
   ],
   "id": "8b9b39ad03e46d6d",
   "outputs": [],
   "execution_count": 15
  },
  {
   "metadata": {
    "ExecuteTime": {
     "end_time": "2025-09-08T14:15:05.829758Z",
     "start_time": "2025-09-08T14:15:05.825987Z"
    }
   },
   "cell_type": "code",
   "source": [
    "def first_node(state: AgentState) -> AgentState:\n",
    "    \"\"\"This is the first node of our sequence\"\"\"\n",
    "    state['final'] = f\"Hi {state['name']}!\"\n",
    "    return state"
   ],
   "id": "885371995ea49f97",
   "outputs": [],
   "execution_count": 17
  },
  {
   "metadata": {
    "ExecuteTime": {
     "end_time": "2025-09-08T14:19:35.504938Z",
     "start_time": "2025-09-08T14:19:35.500999Z"
    }
   },
   "cell_type": "code",
   "source": [
    "def second_node(state: AgentState) -> AgentState:\n",
    "    \"\"\"This is the second node of our sequence\"\"\"\n",
    "    state['final'] += f\" You are {state['age']} years old.\"\n",
    "    return state"
   ],
   "id": "fc98da3110b59467",
   "outputs": [],
   "execution_count": 20
  },
  {
   "metadata": {
    "ExecuteTime": {
     "end_time": "2025-09-08T14:24:37.143887Z",
     "start_time": "2025-09-08T14:24:36.681263Z"
    }
   },
   "cell_type": "code",
   "source": [
    "graph = StateGraph(AgentState)\n",
    "\n",
    "graph.add_node(\"first_node\", first_node)\n",
    "graph.add_node(\"second_node\", second_node)\n",
    "\n",
    "graph.set_entry_point(\"first_node\")\n",
    "graph.add_edge(\"first_node\", \"second_node\")\n",
    "graph.set_finish_point(\"second_node\")\n",
    "\n",
    "app = graph.compile()\n",
    "app"
   ],
   "id": "cf2c5a83c8e4e52f",
   "outputs": [
    {
     "data": {
      "text/plain": [
       "<langgraph.graph.state.CompiledStateGraph object at 0x10cd15a70>"
      ],
      "image/png": "[encoded data removed]"
     },
     "execution_count": 25,
     "metadata": {},
     "output_type": "execute_result"
    }
   ],
   "execution_count": 25
  },
  {
   "metadata": {
    "ExecuteTime": {
     "end_time": "2025-09-08T14:24:45.577186Z",
     "start_time": "2025-09-08T14:24:45.571547Z"
    }
   },
   "cell_type": "code",
   "source": [
    "result = app.invoke({\"age\": \"28\", \"name\": \"Ashiq\"})\n",
    "print(result)"
   ],
   "id": "cb42472e7cbb8e11",
   "outputs": [
    {
     "name": "stdout",
     "output_type": "stream",
     "text": [
      "{'name': 'Ashiq', 'age': '28', 'final': 'Hi Ashiq! You are 28 years old.'}\n"
     ]
    }
   ],
   "execution_count": 26
  },
  {
   "metadata": {},
   "cell_type": "code",
   "outputs": [],
   "execution_count": null,
   "source": "",
   "id": "7abed8f48ce9b351"
  },
  {
   "metadata": {},
   "cell_type": "markdown",
   "source": "### Exercise for Graph 3",
   "id": "6c0a63153dbb433c"
  },
  {
   "metadata": {
    "ExecuteTime": {
     "end_time": "2025-09-08T15:03:37.612615Z",
     "start_time": "2025-09-08T15:03:37.608840Z"
    }
   },
   "cell_type": "code",
   "source": [
    "class AgentState(TypedDict):\n",
    "    name: str\n",
    "    age: str\n",
    "    skills: list[str]\n",
    "    final: str"
   ],
   "id": "d162a2f8a6813cd3",
   "outputs": [],
   "execution_count": 56
  },
  {
   "metadata": {
    "ExecuteTime": {
     "end_time": "2025-09-08T15:03:37.763637Z",
     "start_time": "2025-09-08T15:03:37.760663Z"
    }
   },
   "cell_type": "code",
   "source": [
    "def greeting_node(state: AgentState) -> AgentState:\n",
    "    \"\"\"welcome a person\"\"\"\n",
    "    state['final'] = f\"Hi {state['name']}, Welcome to the system!\"\n",
    "    return state"
   ],
   "id": "ca382dc1f1b8ee97",
   "outputs": [],
   "execution_count": 57
  },
  {
   "metadata": {
    "ExecuteTime": {
     "end_time": "2025-09-08T15:03:38.017519Z",
     "start_time": "2025-09-08T15:03:38.014419Z"
    }
   },
   "cell_type": "code",
   "source": [
    "def age_node(state: AgentState) -> AgentState:\n",
    "    \"\"\"describes user age\"\"\"\n",
    "    state['final'] += f\" You are {state['age']} years old.\"\n",
    "    return state"
   ],
   "id": "9469d13b830a7638",
   "outputs": [],
   "execution_count": 58
  },
  {
   "metadata": {
    "ExecuteTime": {
     "end_time": "2025-09-08T15:03:38.287781Z",
     "start_time": "2025-09-08T15:03:38.284789Z"
    }
   },
   "cell_type": "code",
   "source": [
    "def skills_node(state: AgentState) -> AgentState:\n",
    "    \"\"\"describes user skills\"\"\"\n",
    "    state['final'] += f\" You have skills in: {\", \".join(state['skills'])}\"\n",
    "    return state"
   ],
   "id": "7681d8a9b9cb5447",
   "outputs": [],
   "execution_count": 59
  },
  {
   "metadata": {
    "ExecuteTime": {
     "end_time": "2025-09-08T15:03:38.964200Z",
     "start_time": "2025-09-08T15:03:38.886256Z"
    }
   },
   "cell_type": "code",
   "source": [
    "graph = StateGraph(AgentState)\n",
    "\n",
    "graph.add_node(\"first_node\", greeting_node)\n",
    "graph.add_node(\"second_node\", age_node)\n",
    "graph.add_node(\"third_node\", skills_node)\n",
    "\n",
    "graph.set_entry_point(\"first_node\")\n",
    "graph.add_edge(\"first_node\", \"second_node\")\n",
    "graph.add_edge(\"second_node\", \"third_node\")\n",
    "graph.set_finish_point(\"third_node\")\n",
    "app = graph.compile()\n",
    "app"
   ],
   "id": "5ffa14d604ec4e1d",
   "outputs": [
    {
     "data": {
      "text/plain": [
       "<langgraph.graph.state.CompiledStateGraph object at 0x10f2507c0>"
      ],
      "image/png": "[encoded data removed]"
     },
     "execution_count": 60,
     "metadata": {},
     "output_type": "execute_result"
    }
   ],
   "execution_count": 60
  },
  {
   "metadata": {
    "ExecuteTime": {
     "end_time": "2025-09-08T15:03:39.800989Z",
     "start_time": "2025-09-08T15:03:39.797539Z"
    }
   },
   "cell_type": "code",
   "source": [
    "result = app.invoke({\"age\": \"28\", \"name\": \"Ashiq\", \"skills\": [\"python\", \"go\"]})\n",
    "print(result)"
   ],
   "id": "3ee47711388da439",
   "outputs": [
    {
     "name": "stdout",
     "output_type": "stream",
     "text": [
      "{'name': 'Ashiq', 'age': '28', 'skills': ['python', 'go'], 'final': 'Hi Ashiq, Welcome to the system! You are 28 years old. You have skills in: python, go'}\n"
     ]
    }
   ],
   "execution_count": 61
  },
  {
   "metadata": {},
   "cell_type": "code",
   "outputs": [],
   "execution_count": null,
   "source": "",
   "id": "e1346a71051ca4de"
  },
  {
   "metadata": {},
   "cell_type": "markdown",
   "source": "## Conditional Graph: Graph 4",
   "id": "b531a20e34203199"
  },
  {
   "metadata": {
    "ExecuteTime": {
     "end_time": "2025-09-08T15:37:11.514975Z",
     "start_time": "2025-09-08T15:37:11.508283Z"
    }
   },
   "cell_type": "code",
   "source": "from langgraph.graph import StateGraph, START, END",
   "id": "78ef80466e38d98d",
   "outputs": [],
   "execution_count": 77
  },
  {
   "metadata": {
    "ExecuteTime": {
     "end_time": "2025-09-08T15:37:11.666366Z",
     "start_time": "2025-09-08T15:37:11.663203Z"
    }
   },
   "cell_type": "code",
   "source": [
    "class AgentState(TypedDict):\n",
    "    num1: int\n",
    "    operation: str\n",
    "    num2: int\n",
    "    result: int"
   ],
   "id": "6c7b614914f31f58",
   "outputs": [],
   "execution_count": 78
  },
  {
   "metadata": {
    "ExecuteTime": {
     "end_time": "2025-09-08T15:37:11.819826Z",
     "start_time": "2025-09-08T15:37:11.816330Z"
    }
   },
   "cell_type": "code",
   "source": [
    "def adder(state: AgentState) -> AgentState:\n",
    "    \"\"\"sum of num1 and num2\"\"\"\n",
    "    state['result'] = state['num1'] + state['num2']\n",
    "    return state"
   ],
   "id": "df661c04c2a4fb0f",
   "outputs": [],
   "execution_count": 79
  },
  {
   "metadata": {
    "ExecuteTime": {
     "end_time": "2025-09-08T15:37:11.965907Z",
     "start_time": "2025-09-08T15:37:11.963495Z"
    }
   },
   "cell_type": "code",
   "source": [
    "def subtractor(state: AgentState) -> AgentState:\n",
    "    \"\"\"subtraction of num1 and num2\"\"\"\n",
    "    state['result'] = state['num1'] - state['num2']\n",
    "    return state"
   ],
   "id": "835d03bb5ef91c8b",
   "outputs": [],
   "execution_count": 80
  },
  {
   "metadata": {
    "ExecuteTime": {
     "end_time": "2025-09-08T15:37:12.145689Z",
     "start_time": "2025-09-08T15:37:12.142416Z"
    }
   },
   "cell_type": "code",
   "source": [
    "def decide_next_node(state: AgentState) -> AgentState:\n",
    "    \"\"\"this node will select the next node of the graph\"\"\"\n",
    "    if state['operation'] == \"+\":\n",
    "        return \"addition_operation\"\n",
    "    elif state['operation'] == \"-\":\n",
    "        return \"subtraction_operation\""
   ],
   "id": "4c65b9ebba112bdd",
   "outputs": [],
   "execution_count": 81
  },
  {
   "metadata": {
    "ExecuteTime": {
     "end_time": "2025-09-08T15:37:13.104574Z",
     "start_time": "2025-09-08T15:37:12.277667Z"
    }
   },
   "cell_type": "code",
   "source": [
    "graph = StateGraph(AgentState)\n",
    "\n",
    "graph.add_node(\"adder_node\", adder)\n",
    "graph.add_node(\"subtractor_node\", subtractor)\n",
    "graph.add_node(\"router_node\", lambda state: state)\n",
    "\n",
    "graph.add_edge(START, \"router_node\")\n",
    "graph.add_conditional_edges(\"router_node\", decide_next_node,\n",
    "                            {\"addition_operation\": \"adder_node\", \"subtraction_operation\": \"subtractor_node\"})\n",
    "graph.add_edge(\"adder_node\", END)\n",
    "graph.add_edge(\"subtractor_node\", END)\n",
    "\n",
    "app = graph.compile()\n",
    "app"
   ],
   "id": "b6bb5507f4f4e846",
   "outputs": [
    {
     "data": {
      "text/plain": [
       "<langgraph.graph.state.CompiledStateGraph object at 0x10f250f30>"
      ],
      "image/png": "[encoded data removed]"
     },
     "execution_count": 82,
     "metadata": {},
     "output_type": "execute_result"
    }
   ],
   "execution_count": 82
  },
  {
   "metadata": {
    "ExecuteTime": {
     "end_time": "2025-09-08T15:37:13.135612Z",
     "start_time": "2025-09-08T15:37:13.132033Z"
    }
   },
   "cell_type": "code",
   "source": "initial_state_1 = AgentState(num1=10, operation=\"+\", num2=5)\nresult = app.invoke(initial_state_1)\nprint(result)",
   "id": "c08baca4532e86b2",
   "outputs": [
    {
     "name": "stdout",
     "output_type": "stream",
     "text": [
      "{'num1': 10, 'operation': '+', 'num2': 5, 'result': 15}\n"
     ]
    }
   ],
   "execution_count": 83
  },
  {
   "metadata": {},
   "cell_type": "code",
   "outputs": [],
   "execution_count": null,
   "source": "",
   "id": "62b41ffdea85889a"
  },
  {
   "metadata": {},
   "cell_type": "markdown",
   "source": "### Exercise for Graph 4",
   "id": "535ffd2b43216d3c"
  },
  {
   "metadata": {
    "ExecuteTime": {
     "end_time": "2025-09-09T07:04:53.712359Z",
     "start_time": "2025-09-09T07:04:53.706391Z"
    }
   },
   "cell_type": "code",
   "source": [
    "from typing import TypedDict\n",
    "from langgraph.graph import StateGraph, START, END"
   ],
   "id": "417999afdd0b407b",
   "outputs": [],
   "execution_count": 26
  },
  {
   "metadata": {
    "ExecuteTime": {
     "end_time": "2025-09-09T07:11:55.367064Z",
     "start_time": "2025-09-09T07:11:55.361957Z"
    }
   },
   "cell_type": "code",
   "source": [
    "class AgentState(TypedDict):\n",
    "    num1: int\n",
    "    num2: int\n",
    "    operation: str\n",
    "    finalNumber1: int\n",
    "    num3: int\n",
    "    num4: int\n",
    "    operation2: str\n",
    "    finalNumber2: int"
   ],
   "id": "28bce4b04818c67d",
   "outputs": [],
   "execution_count": 33
  },
  {
   "metadata": {
    "ExecuteTime": {
     "end_time": "2025-09-09T07:11:58.493902Z",
     "start_time": "2025-09-09T07:11:58.489437Z"
    }
   },
   "cell_type": "code",
   "source": [
    "def add_node(state:AgentState) -> AgentState:\n",
    "    \"\"\"sum of num1 and num2\"\"\"\n",
    "    state['finalNumber1'] = state['num1'] + state['num2']\n",
    "    return state\n",
    "\n",
    "def add_node2(state: AgentState) -> AgentState:\n",
    "    \"\"\"sum of num3 and num4\"\"\"\n",
    "    state['finalNumber2'] = state['num3'] + state['num4']\n",
    "    return state"
   ],
   "id": "5801c264e7da1602",
   "outputs": [],
   "execution_count": 34
  },
  {
   "metadata": {
    "ExecuteTime": {
     "end_time": "2025-09-09T07:11:59.109481Z",
     "start_time": "2025-09-09T07:11:59.105092Z"
    }
   },
   "cell_type": "code",
   "source": [
    "def subtract_node(state: AgentState) -> AgentState:\n",
    "    \"\"\"subtraction of num1 and num2\"\"\"\n",
    "    state['finalNumber1'] = state['num1'] - state['num2']\n",
    "    return state\n",
    "\n",
    "def subtract_node2(state: AgentState) -> AgentState:\n",
    "    \"\"\"subtraction of num3 and num4\"\"\"\n",
    "    state['finalNumber2'] = state['num3'] - state['num4']\n",
    "    return state"
   ],
   "id": "37ca01d209fe69ff",
   "outputs": [],
   "execution_count": 35
  },
  {
   "metadata": {
    "ExecuteTime": {
     "end_time": "2025-09-09T07:11:59.740882Z",
     "start_time": "2025-09-09T07:11:59.736616Z"
    }
   },
   "cell_type": "code",
   "source": [
    "def decide_next_node(state:AgentState) -> AgentState:\n",
    "    \"\"\"This node will select the next phase\"\"\"\n",
    "    if state[\"operation\"] == \"+\":\n",
    "        print(\"ADD 1\")\n",
    "        return \"addition_operation\"\n",
    "\n",
    "    elif state[\"operation\"] == \"-\":\n",
    "        print(\"SUB 1\")\n",
    "        return \"subtraction_operation\"\n",
    "\n",
    "def decide_next_node2(state:AgentState) -> AgentState:\n",
    "    \"\"\"This node will select the next phase\"\"\"\n",
    "    if state[\"operation2\"] == \"+\":\n",
    "        print(\"ADD2\")\n",
    "        return \"addition_operation2\"\n",
    "\n",
    "    elif state[\"operation2\"] == \"-\":\n",
    "        print(\"SUB2\")\n",
    "        return \"subtraction_operation2\""
   ],
   "id": "662ec35ba23ac2f8",
   "outputs": [],
   "execution_count": 36
  },
  {
   "metadata": {
    "ExecuteTime": {
     "end_time": "2025-09-09T07:12:01.085363Z",
     "start_time": "2025-09-09T07:12:00.876674Z"
    }
   },
   "cell_type": "code",
   "source": [
    "graph = StateGraph(AgentState)\n",
    "\n",
    "graph.add_node(\"add_node\", add_node)\n",
    "graph.add_node(\"subtract_node\", subtract_node)\n",
    "graph.add_node(\"router\", lambda state: state)\n",
    "graph.add_node(\"add_node2\", add_node2)\n",
    "graph.add_node(\"subtract_node2\", subtract_node2)\n",
    "graph.add_node(\"router2\", lambda state: state)\n",
    "\n",
    "graph.add_edge(START, \"router\")\n",
    "graph.add_conditional_edges(\"router\", decide_next_node,\n",
    "                            {\"addition_operation\": \"add_node\", \"subtraction_operation\": \"subtract_node\"})\n",
    "\n",
    "graph.add_edge(\"add_node\", \"router2\")\n",
    "graph.add_edge(\"subtract_node\", \"router2\")\n",
    "\n",
    "graph.add_conditional_edges(\"router2\", decide_next_node2,\n",
    "                            {\"addition_operation2\": \"add_node2\",\n",
    "                             \"subtraction_operation2\": \"subtract_node2\"})\n",
    "\n",
    "graph.add_edge(\"add_node2\", END)\n",
    "graph.add_edge(\"subtract_node2\", END)\n",
    "\n",
    "app = graph.compile()\n",
    "app"
   ],
   "id": "701d22d527533995",
   "outputs": [
    {
     "data": {
      "text/plain": [
       "<langgraph.graph.state.CompiledStateGraph object at 0x10a392be0>"
      ],
      "image/png": "[encoded data removed]"
     },
     "execution_count": 37,
     "metadata": {},
     "output_type": "execute_result"
    }
   ],
   "execution_count": 37
  },
  {
   "metadata": {
    "ExecuteTime": {
     "end_time": "2025-09-09T07:12:02.726581Z",
     "start_time": "2025-09-09T07:12:02.719666Z"
    }
   },
   "cell_type": "code",
   "source": "initial_state = AgentState(num1 = 10, operation=\"-\", num2 = 5, num3 = 7, num4=2, operation2=\"+\", finalNumber1= 0, finalNumber2 = 0)\nresult = app.invoke(initial_state)\nprint(result)",
   "id": "b8abaee2a8416b18",
   "outputs": [
    {
     "name": "stdout",
     "output_type": "stream",
     "text": [
      "SUB 1\n",
      "ADD1\n",
      "{'num1': 10, 'num2': 5, 'operation': '-', 'finalNumber1': 5, 'num3': 7, 'num4': 2, 'operation2': '+', 'finalNumber2': 9}\n"
     ]
    }
   ],
   "execution_count": 38
  },
  {
   "metadata": {},
   "cell_type": "code",
   "outputs": [],
   "execution_count": null,
   "source": "",
   "id": "7f7bb79710789c33"
  },
  {
   "metadata": {},
   "cell_type": "markdown",
   "source": "### Looping Graph: Graph 5",
   "id": "82007b0ca55b95a8"
  },
  {
   "metadata": {},
   "cell_type": "code",
   "outputs": [],
   "execution_count": null,
   "source": "",
   "id": "f4cce7fd7bad1f2f"
  }
 ],
 "metadata": {
  "kernelspec": {
   "display_name": "Python 3",
   "language": "python",
   "name": "python3"
  },
  "language_info": {
   "codemirror_mode": {
    "name": "ipython",
    "version": 2
   },
   "file_extension": ".py",
   "mimetype": "text/x-python",
   "name": "python",
   "nbconvert_exporter": "python",
   "pygments_lexer": "ipython2",
   "version": "2.7.6"
  }
 },
 "nbformat": 4,
 "nbformat_minor": 5
}
