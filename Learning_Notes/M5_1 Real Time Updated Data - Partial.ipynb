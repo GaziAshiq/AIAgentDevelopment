{
 "nbformat": 4,
 "nbformat_minor": 0,
 "metadata": {
  "colab": {
   "provenance": [
    {
     "file_id": "1Wx1O19851p36Q8IlP9VM6sTi7d7yDiJK",
     "timestamp": 1749662737207
    }
   ],
   "gpuType": "T4"
  },
  "kernelspec": {
   "name": "python3",
   "display_name": "Python 3"
  },
  "language_info": {
   "name": "python"
  },
  "accelerator": "GPU"
 },
 "cells": [
  {
   "cell_type": "code",
   "source": [
    "!curl -fsSL https://ollama.com/install.sh | sh\n",
    "!nohup ollama serve > output.log 2>&1 &\n",
    "!ollama pull phi4"
   ],
   "metadata": {
    "colab": {
     "base_uri": "https://localhost:8080/"
    },
    "collapsed": true,
    "id": "ZfLhi23VCl9Y",
    "executionInfo": {
     "status": "ok",
     "timestamp": 1745939604040,
     "user_tz": -360,
     "elapsed": 160804,
     "user": {
      "displayName": "Rifat Azad",
      "userId": "02042486650245068173"
     }
    },
    "outputId": "e4c6e19a-9a81-468b-9848-938211ab4139"
   },
   "outputs": [],
   "execution_count": null
  },
  {
   "cell_type": "code",
   "source": [
    "!pip install langchain langchain_community langchain_ollama chromadb beautifulsoup4 langchain-chroma"
   ],
   "metadata": {
    "colab": {
     "base_uri": "https://localhost:8080/"
    },
    "collapsed": true,
    "id": "CXTW7hgPDGCB",
    "executionInfo": {
     "status": "ok",
     "timestamp": 1745946411165,
     "user_tz": -360,
     "elapsed": 19573,
     "user": {
      "displayName": "Rifat Azad",
      "userId": "02042486650245068173"
     }
    },
    "outputId": "850cf201-5940-4549-edce-e59dda8280b3"
   },
   "outputs": [],
   "execution_count": null
  },
  {
   "cell_type": "code",
   "execution_count": null,
   "metadata": {
    "colab": {
     "base_uri": "https://localhost:8080/",
     "height": 897
    },
    "id": "smw0KY2VBzgL",
    "executionInfo": {
     "status": "error",
     "timestamp": 1745946423951,
     "user_tz": -360,
     "elapsed": 8558,
     "user": {
      "displayName": "Rifat Azad",
      "userId": "02042486650245068173"
     }
    },
    "outputId": "0a228065-cfed-4d67-e790-26c1cc45a327"
   },
   "outputs": [
    {
     "output_type": "stream",
     "name": "stderr",
     "text": [
      "WARNING:langchain_community.utils.user_agent:USER_AGENT environment variable not set, consider setting it to identify your requests.\n"
     ]
    },
    {
     "output_type": "stream",
     "name": "stdout",
     "text": [
      "Scraping webpage...\n",
      "Processing and storing data...\n"
     ]
    },
    {
     "output_type": "stream",
     "name": "stderr",
     "text": [
      "<ipython-input-4-0bea1e9f3189>:32: LangChainDeprecationWarning: The class `OllamaEmbeddings` was deprecated in LangChain 0.3.1 and will be removed in 1.0.0. An updated version of the class exists in the :class:`~langchain-ollama package and should be used instead. To use it run `pip install -U :class:`~langchain-ollama` and import as `from :class:`~langchain_ollama import OllamaEmbeddings``.\n",
      "  embeddings = OllamaEmbeddings(model=\"phi4\")\n"
     ]
    },
    {
     "output_type": "error",
     "ename": "ValueError",
     "evalue": "Error raised by inference endpoint: HTTPConnectionPool(host='localhost', port=11434): Max retries exceeded with url: /api/embeddings (Caused by NewConnectionError('<urllib3.connection.HTTPConnection object at 0x7a800dea7e90>: Failed to establish a new connection: [Errno 111] Connection refused'))",
     "traceback": [
      "\u001B[0;31m---------------------------------------------------------------------------\u001B[0m",
      "\u001B[0;31mConnectionRefusedError\u001B[0m                    Traceback (most recent call last)",
      "\u001B[0;32m/usr/local/lib/python3.11/dist-packages/urllib3/connection.py\u001B[0m in \u001B[0;36m_new_conn\u001B[0;34m(self)\u001B[0m\n\u001B[1;32m    197\u001B[0m         \u001B[0;32mtry\u001B[0m\u001B[0;34m:\u001B[0m\u001B[0;34m\u001B[0m\u001B[0;34m\u001B[0m\u001B[0m\n\u001B[0;32m--> 198\u001B[0;31m             sock = connection.create_connection(\n\u001B[0m\u001B[1;32m    199\u001B[0m                 \u001B[0;34m(\u001B[0m\u001B[0mself\u001B[0m\u001B[0;34m.\u001B[0m\u001B[0m_dns_host\u001B[0m\u001B[0;34m,\u001B[0m \u001B[0mself\u001B[0m\u001B[0;34m.\u001B[0m\u001B[0mport\u001B[0m\u001B[0;34m)\u001B[0m\u001B[0;34m,\u001B[0m\u001B[0;34m\u001B[0m\u001B[0;34m\u001B[0m\u001B[0m\n",
      "\u001B[0;32m/usr/local/lib/python3.11/dist-packages/urllib3/util/connection.py\u001B[0m in \u001B[0;36mcreate_connection\u001B[0;34m(address, timeout, source_address, socket_options)\u001B[0m\n\u001B[1;32m     84\u001B[0m         \u001B[0;32mtry\u001B[0m\u001B[0;34m:\u001B[0m\u001B[0;34m\u001B[0m\u001B[0;34m\u001B[0m\u001B[0m\n\u001B[0;32m---> 85\u001B[0;31m             \u001B[0;32mraise\u001B[0m \u001B[0merr\u001B[0m\u001B[0;34m\u001B[0m\u001B[0;34m\u001B[0m\u001B[0m\n\u001B[0m\u001B[1;32m     86\u001B[0m         \u001B[0;32mfinally\u001B[0m\u001B[0;34m:\u001B[0m\u001B[0;34m\u001B[0m\u001B[0;34m\u001B[0m\u001B[0m\n",
      "\u001B[0;32m/usr/local/lib/python3.11/dist-packages/urllib3/util/connection.py\u001B[0m in \u001B[0;36mcreate_connection\u001B[0;34m(address, timeout, source_address, socket_options)\u001B[0m\n\u001B[1;32m     72\u001B[0m                 \u001B[0msock\u001B[0m\u001B[0;34m.\u001B[0m\u001B[0mbind\u001B[0m\u001B[0;34m(\u001B[0m\u001B[0msource_address\u001B[0m\u001B[0;34m)\u001B[0m\u001B[0;34m\u001B[0m\u001B[0;34m\u001B[0m\u001B[0m\n\u001B[0;32m---> 73\u001B[0;31m             \u001B[0msock\u001B[0m\u001B[0;34m.\u001B[0m\u001B[0mconnect\u001B[0m\u001B[0;34m(\u001B[0m\u001B[0msa\u001B[0m\u001B[0;34m)\u001B[0m\u001B[0;34m\u001B[0m\u001B[0;34m\u001B[0m\u001B[0m\n\u001B[0m\u001B[1;32m     74\u001B[0m             \u001B[0;31m# Break explicitly a reference cycle\u001B[0m\u001B[0;34m\u001B[0m\u001B[0;34m\u001B[0m\u001B[0m\n",
      "\u001B[0;31mConnectionRefusedError\u001B[0m: [Errno 111] Connection refused",
      "\nThe above exception was the direct cause of the following exception:\n",
      "\u001B[0;31mNewConnectionError\u001B[0m                        Traceback (most recent call last)",
      "\u001B[0;32m/usr/local/lib/python3.11/dist-packages/urllib3/connectionpool.py\u001B[0m in \u001B[0;36murlopen\u001B[0;34m(self, method, url, body, headers, retries, redirect, assert_same_host, timeout, pool_timeout, release_conn, chunked, body_pos, preload_content, decode_content, **response_kw)\u001B[0m\n\u001B[1;32m    786\u001B[0m             \u001B[0;31m# Make the request on the HTTPConnection object\u001B[0m\u001B[0;34m\u001B[0m\u001B[0;34m\u001B[0m\u001B[0m\n\u001B[0;32m--> 787\u001B[0;31m             response = self._make_request(\n\u001B[0m\u001B[1;32m    788\u001B[0m                 \u001B[0mconn\u001B[0m\u001B[0;34m,\u001B[0m\u001B[0;34m\u001B[0m\u001B[0;34m\u001B[0m\u001B[0m\n",
      "\u001B[0;32m/usr/local/lib/python3.11/dist-packages/urllib3/connectionpool.py\u001B[0m in \u001B[0;36m_make_request\u001B[0;34m(self, conn, method, url, body, headers, retries, timeout, chunked, response_conn, preload_content, decode_content, enforce_content_length)\u001B[0m\n\u001B[1;32m    492\u001B[0m         \u001B[0;32mtry\u001B[0m\u001B[0;34m:\u001B[0m\u001B[0;34m\u001B[0m\u001B[0;34m\u001B[0m\u001B[0m\n\u001B[0;32m--> 493\u001B[0;31m             conn.request(\n\u001B[0m\u001B[1;32m    494\u001B[0m                 \u001B[0mmethod\u001B[0m\u001B[0;34m,\u001B[0m\u001B[0;34m\u001B[0m\u001B[0;34m\u001B[0m\u001B[0m\n",
      "\u001B[0;32m/usr/local/lib/python3.11/dist-packages/urllib3/connection.py\u001B[0m in \u001B[0;36mrequest\u001B[0;34m(self, method, url, body, headers, chunked, preload_content, decode_content, enforce_content_length)\u001B[0m\n\u001B[1;32m    444\u001B[0m             \u001B[0mself\u001B[0m\u001B[0;34m.\u001B[0m\u001B[0mputheader\u001B[0m\u001B[0;34m(\u001B[0m\u001B[0mheader\u001B[0m\u001B[0;34m,\u001B[0m \u001B[0mvalue\u001B[0m\u001B[0;34m)\u001B[0m\u001B[0;34m\u001B[0m\u001B[0;34m\u001B[0m\u001B[0m\n\u001B[0;32m--> 445\u001B[0;31m         \u001B[0mself\u001B[0m\u001B[0;34m.\u001B[0m\u001B[0mendheaders\u001B[0m\u001B[0;34m(\u001B[0m\u001B[0;34m)\u001B[0m\u001B[0;34m\u001B[0m\u001B[0;34m\u001B[0m\u001B[0m\n\u001B[0m\u001B[1;32m    446\u001B[0m \u001B[0;34m\u001B[0m\u001B[0m\n",
      "\u001B[0;32m/usr/lib/python3.11/http/client.py\u001B[0m in \u001B[0;36mendheaders\u001B[0;34m(self, message_body, encode_chunked)\u001B[0m\n\u001B[1;32m   1297\u001B[0m             \u001B[0;32mraise\u001B[0m \u001B[0mCannotSendHeader\u001B[0m\u001B[0;34m(\u001B[0m\u001B[0;34m)\u001B[0m\u001B[0;34m\u001B[0m\u001B[0;34m\u001B[0m\u001B[0m\n\u001B[0;32m-> 1298\u001B[0;31m         \u001B[0mself\u001B[0m\u001B[0;34m.\u001B[0m\u001B[0m_send_output\u001B[0m\u001B[0;34m(\u001B[0m\u001B[0mmessage_body\u001B[0m\u001B[0;34m,\u001B[0m \u001B[0mencode_chunked\u001B[0m\u001B[0;34m=\u001B[0m\u001B[0mencode_chunked\u001B[0m\u001B[0;34m)\u001B[0m\u001B[0;34m\u001B[0m\u001B[0;34m\u001B[0m\u001B[0m\n\u001B[0m\u001B[1;32m   1299\u001B[0m \u001B[0;34m\u001B[0m\u001B[0m\n",
      "\u001B[0;32m/usr/lib/python3.11/http/client.py\u001B[0m in \u001B[0;36m_send_output\u001B[0;34m(self, message_body, encode_chunked)\u001B[0m\n\u001B[1;32m   1057\u001B[0m         \u001B[0;32mdel\u001B[0m \u001B[0mself\u001B[0m\u001B[0;34m.\u001B[0m\u001B[0m_buffer\u001B[0m\u001B[0;34m[\u001B[0m\u001B[0;34m:\u001B[0m\u001B[0;34m]\u001B[0m\u001B[0;34m\u001B[0m\u001B[0;34m\u001B[0m\u001B[0m\n\u001B[0;32m-> 1058\u001B[0;31m         \u001B[0mself\u001B[0m\u001B[0;34m.\u001B[0m\u001B[0msend\u001B[0m\u001B[0;34m(\u001B[0m\u001B[0mmsg\u001B[0m\u001B[0;34m)\u001B[0m\u001B[0;34m\u001B[0m\u001B[0;34m\u001B[0m\u001B[0m\n\u001B[0m\u001B[1;32m   1059\u001B[0m \u001B[0;34m\u001B[0m\u001B[0m\n",
      "\u001B[0;32m/usr/lib/python3.11/http/client.py\u001B[0m in \u001B[0;36msend\u001B[0;34m(self, data)\u001B[0m\n\u001B[1;32m    995\u001B[0m             \u001B[0;32mif\u001B[0m \u001B[0mself\u001B[0m\u001B[0;34m.\u001B[0m\u001B[0mauto_open\u001B[0m\u001B[0;34m:\u001B[0m\u001B[0;34m\u001B[0m\u001B[0;34m\u001B[0m\u001B[0m\n\u001B[0;32m--> 996\u001B[0;31m                 \u001B[0mself\u001B[0m\u001B[0;34m.\u001B[0m\u001B[0mconnect\u001B[0m\u001B[0;34m(\u001B[0m\u001B[0;34m)\u001B[0m\u001B[0;34m\u001B[0m\u001B[0;34m\u001B[0m\u001B[0m\n\u001B[0m\u001B[1;32m    997\u001B[0m             \u001B[0;32melse\u001B[0m\u001B[0;34m:\u001B[0m\u001B[0;34m\u001B[0m\u001B[0;34m\u001B[0m\u001B[0m\n",
      "\u001B[0;32m/usr/local/lib/python3.11/dist-packages/urllib3/connection.py\u001B[0m in \u001B[0;36mconnect\u001B[0;34m(self)\u001B[0m\n\u001B[1;32m    275\u001B[0m     \u001B[0;32mdef\u001B[0m \u001B[0mconnect\u001B[0m\u001B[0;34m(\u001B[0m\u001B[0mself\u001B[0m\u001B[0;34m)\u001B[0m \u001B[0;34m->\u001B[0m \u001B[0;32mNone\u001B[0m\u001B[0;34m:\u001B[0m\u001B[0;34m\u001B[0m\u001B[0;34m\u001B[0m\u001B[0m\n\u001B[0;32m--> 276\u001B[0;31m         \u001B[0mself\u001B[0m\u001B[0;34m.\u001B[0m\u001B[0msock\u001B[0m \u001B[0;34m=\u001B[0m \u001B[0mself\u001B[0m\u001B[0;34m.\u001B[0m\u001B[0m_new_conn\u001B[0m\u001B[0;34m(\u001B[0m\u001B[0;34m)\u001B[0m\u001B[0;34m\u001B[0m\u001B[0;34m\u001B[0m\u001B[0m\n\u001B[0m\u001B[1;32m    277\u001B[0m         \u001B[0;32mif\u001B[0m \u001B[0mself\u001B[0m\u001B[0;34m.\u001B[0m\u001B[0m_tunnel_host\u001B[0m\u001B[0;34m:\u001B[0m\u001B[0;34m\u001B[0m\u001B[0;34m\u001B[0m\u001B[0m\n",
      "\u001B[0;32m/usr/local/lib/python3.11/dist-packages/urllib3/connection.py\u001B[0m in \u001B[0;36m_new_conn\u001B[0;34m(self)\u001B[0m\n\u001B[1;32m    212\u001B[0m         \u001B[0;32mexcept\u001B[0m \u001B[0mOSError\u001B[0m \u001B[0;32mas\u001B[0m \u001B[0me\u001B[0m\u001B[0;34m:\u001B[0m\u001B[0;34m\u001B[0m\u001B[0;34m\u001B[0m\u001B[0m\n\u001B[0;32m--> 213\u001B[0;31m             raise NewConnectionError(\n\u001B[0m\u001B[1;32m    214\u001B[0m                 \u001B[0mself\u001B[0m\u001B[0;34m,\u001B[0m \u001B[0;34mf\"Failed to establish a new connection: {e}\"\u001B[0m\u001B[0;34m\u001B[0m\u001B[0;34m\u001B[0m\u001B[0m\n",
      "\u001B[0;31mNewConnectionError\u001B[0m: <urllib3.connection.HTTPConnection object at 0x7a800dea7e90>: Failed to establish a new connection: [Errno 111] Connection refused",
      "\nThe above exception was the direct cause of the following exception:\n",
      "\u001B[0;31mMaxRetryError\u001B[0m                             Traceback (most recent call last)",
      "\u001B[0;32m/usr/local/lib/python3.11/dist-packages/requests/adapters.py\u001B[0m in \u001B[0;36msend\u001B[0;34m(self, request, stream, timeout, verify, cert, proxies)\u001B[0m\n\u001B[1;32m    666\u001B[0m         \u001B[0;32mtry\u001B[0m\u001B[0;34m:\u001B[0m\u001B[0;34m\u001B[0m\u001B[0;34m\u001B[0m\u001B[0m\n\u001B[0;32m--> 667\u001B[0;31m             resp = conn.urlopen(\n\u001B[0m\u001B[1;32m    668\u001B[0m                 \u001B[0mmethod\u001B[0m\u001B[0;34m=\u001B[0m\u001B[0mrequest\u001B[0m\u001B[0;34m.\u001B[0m\u001B[0mmethod\u001B[0m\u001B[0;34m,\u001B[0m\u001B[0;34m\u001B[0m\u001B[0;34m\u001B[0m\u001B[0m\n",
      "\u001B[0;32m/usr/local/lib/python3.11/dist-packages/urllib3/connectionpool.py\u001B[0m in \u001B[0;36murlopen\u001B[0;34m(self, method, url, body, headers, retries, redirect, assert_same_host, timeout, pool_timeout, release_conn, chunked, body_pos, preload_content, decode_content, **response_kw)\u001B[0m\n\u001B[1;32m    840\u001B[0m \u001B[0;34m\u001B[0m\u001B[0m\n\u001B[0;32m--> 841\u001B[0;31m             retries = retries.increment(\n\u001B[0m\u001B[1;32m    842\u001B[0m                 \u001B[0mmethod\u001B[0m\u001B[0;34m,\u001B[0m \u001B[0murl\u001B[0m\u001B[0;34m,\u001B[0m \u001B[0merror\u001B[0m\u001B[0;34m=\u001B[0m\u001B[0mnew_e\u001B[0m\u001B[0;34m,\u001B[0m \u001B[0m_pool\u001B[0m\u001B[0;34m=\u001B[0m\u001B[0mself\u001B[0m\u001B[0;34m,\u001B[0m \u001B[0m_stacktrace\u001B[0m\u001B[0;34m=\u001B[0m\u001B[0msys\u001B[0m\u001B[0;34m.\u001B[0m\u001B[0mexc_info\u001B[0m\u001B[0;34m(\u001B[0m\u001B[0;34m)\u001B[0m\u001B[0;34m[\u001B[0m\u001B[0;36m2\u001B[0m\u001B[0;34m]\u001B[0m\u001B[0;34m\u001B[0m\u001B[0;34m\u001B[0m\u001B[0m\n",
      "\u001B[0;32m/usr/local/lib/python3.11/dist-packages/urllib3/util/retry.py\u001B[0m in \u001B[0;36mincrement\u001B[0;34m(self, method, url, response, error, _pool, _stacktrace)\u001B[0m\n\u001B[1;32m    518\u001B[0m             \u001B[0mreason\u001B[0m \u001B[0;34m=\u001B[0m \u001B[0merror\u001B[0m \u001B[0;32mor\u001B[0m \u001B[0mResponseError\u001B[0m\u001B[0;34m(\u001B[0m\u001B[0mcause\u001B[0m\u001B[0;34m)\u001B[0m\u001B[0;34m\u001B[0m\u001B[0;34m\u001B[0m\u001B[0m\n\u001B[0;32m--> 519\u001B[0;31m             \u001B[0;32mraise\u001B[0m \u001B[0mMaxRetryError\u001B[0m\u001B[0;34m(\u001B[0m\u001B[0m_pool\u001B[0m\u001B[0;34m,\u001B[0m \u001B[0murl\u001B[0m\u001B[0;34m,\u001B[0m \u001B[0mreason\u001B[0m\u001B[0;34m)\u001B[0m \u001B[0;32mfrom\u001B[0m \u001B[0mreason\u001B[0m  \u001B[0;31m# type: ignore[arg-type]\u001B[0m\u001B[0;34m\u001B[0m\u001B[0;34m\u001B[0m\u001B[0m\n\u001B[0m\u001B[1;32m    520\u001B[0m \u001B[0;34m\u001B[0m\u001B[0m\n",
      "\u001B[0;31mMaxRetryError\u001B[0m: HTTPConnectionPool(host='localhost', port=11434): Max retries exceeded with url: /api/embeddings (Caused by NewConnectionError('<urllib3.connection.HTTPConnection object at 0x7a800dea7e90>: Failed to establish a new connection: [Errno 111] Connection refused'))",
      "\nDuring handling of the above exception, another exception occurred:\n",
      "\u001B[0;31mConnectionError\u001B[0m                           Traceback (most recent call last)",
      "\u001B[0;32m/usr/local/lib/python3.11/dist-packages/langchain_community/embeddings/ollama.py\u001B[0m in \u001B[0;36m_process_emb_response\u001B[0;34m(self, input)\u001B[0m\n\u001B[1;32m    166\u001B[0m         \u001B[0;32mtry\u001B[0m\u001B[0;34m:\u001B[0m\u001B[0;34m\u001B[0m\u001B[0;34m\u001B[0m\u001B[0m\n\u001B[0;32m--> 167\u001B[0;31m             res = requests.post(\n\u001B[0m\u001B[1;32m    168\u001B[0m                 \u001B[0;34mf\"{self.base_url}/api/embeddings\"\u001B[0m\u001B[0;34m,\u001B[0m\u001B[0;34m\u001B[0m\u001B[0;34m\u001B[0m\u001B[0m\n",
      "\u001B[0;32m/usr/local/lib/python3.11/dist-packages/requests/api.py\u001B[0m in \u001B[0;36mpost\u001B[0;34m(url, data, json, **kwargs)\u001B[0m\n\u001B[1;32m    114\u001B[0m \u001B[0;34m\u001B[0m\u001B[0m\n\u001B[0;32m--> 115\u001B[0;31m     \u001B[0;32mreturn\u001B[0m \u001B[0mrequest\u001B[0m\u001B[0;34m(\u001B[0m\u001B[0;34m\"post\"\u001B[0m\u001B[0;34m,\u001B[0m \u001B[0murl\u001B[0m\u001B[0;34m,\u001B[0m \u001B[0mdata\u001B[0m\u001B[0;34m=\u001B[0m\u001B[0mdata\u001B[0m\u001B[0;34m,\u001B[0m \u001B[0mjson\u001B[0m\u001B[0;34m=\u001B[0m\u001B[0mjson\u001B[0m\u001B[0;34m,\u001B[0m \u001B[0;34m**\u001B[0m\u001B[0mkwargs\u001B[0m\u001B[0;34m)\u001B[0m\u001B[0;34m\u001B[0m\u001B[0;34m\u001B[0m\u001B[0m\n\u001B[0m\u001B[1;32m    116\u001B[0m \u001B[0;34m\u001B[0m\u001B[0m\n",
      "\u001B[0;32m/usr/local/lib/python3.11/dist-packages/requests/api.py\u001B[0m in \u001B[0;36mrequest\u001B[0;34m(method, url, **kwargs)\u001B[0m\n\u001B[1;32m     58\u001B[0m     \u001B[0;32mwith\u001B[0m \u001B[0msessions\u001B[0m\u001B[0;34m.\u001B[0m\u001B[0mSession\u001B[0m\u001B[0;34m(\u001B[0m\u001B[0;34m)\u001B[0m \u001B[0;32mas\u001B[0m \u001B[0msession\u001B[0m\u001B[0;34m:\u001B[0m\u001B[0;34m\u001B[0m\u001B[0;34m\u001B[0m\u001B[0m\n\u001B[0;32m---> 59\u001B[0;31m         \u001B[0;32mreturn\u001B[0m \u001B[0msession\u001B[0m\u001B[0;34m.\u001B[0m\u001B[0mrequest\u001B[0m\u001B[0;34m(\u001B[0m\u001B[0mmethod\u001B[0m\u001B[0;34m=\u001B[0m\u001B[0mmethod\u001B[0m\u001B[0;34m,\u001B[0m \u001B[0murl\u001B[0m\u001B[0;34m=\u001B[0m\u001B[0murl\u001B[0m\u001B[0;34m,\u001B[0m \u001B[0;34m**\u001B[0m\u001B[0mkwargs\u001B[0m\u001B[0;34m)\u001B[0m\u001B[0;34m\u001B[0m\u001B[0;34m\u001B[0m\u001B[0m\n\u001B[0m\u001B[1;32m     60\u001B[0m \u001B[0;34m\u001B[0m\u001B[0m\n",
      "\u001B[0;32m/usr/local/lib/python3.11/dist-packages/requests/sessions.py\u001B[0m in \u001B[0;36mrequest\u001B[0;34m(self, method, url, params, data, headers, cookies, files, auth, timeout, allow_redirects, proxies, hooks, stream, verify, cert, json)\u001B[0m\n\u001B[1;32m    588\u001B[0m         \u001B[0msend_kwargs\u001B[0m\u001B[0;34m.\u001B[0m\u001B[0mupdate\u001B[0m\u001B[0;34m(\u001B[0m\u001B[0msettings\u001B[0m\u001B[0;34m)\u001B[0m\u001B[0;34m\u001B[0m\u001B[0;34m\u001B[0m\u001B[0m\n\u001B[0;32m--> 589\u001B[0;31m         \u001B[0mresp\u001B[0m \u001B[0;34m=\u001B[0m \u001B[0mself\u001B[0m\u001B[0;34m.\u001B[0m\u001B[0msend\u001B[0m\u001B[0;34m(\u001B[0m\u001B[0mprep\u001B[0m\u001B[0;34m,\u001B[0m \u001B[0;34m**\u001B[0m\u001B[0msend_kwargs\u001B[0m\u001B[0;34m)\u001B[0m\u001B[0;34m\u001B[0m\u001B[0;34m\u001B[0m\u001B[0m\n\u001B[0m\u001B[1;32m    590\u001B[0m \u001B[0;34m\u001B[0m\u001B[0m\n",
      "\u001B[0;32m/usr/local/lib/python3.11/dist-packages/requests/sessions.py\u001B[0m in \u001B[0;36msend\u001B[0;34m(self, request, **kwargs)\u001B[0m\n\u001B[1;32m    702\u001B[0m         \u001B[0;31m# Send the request\u001B[0m\u001B[0;34m\u001B[0m\u001B[0;34m\u001B[0m\u001B[0m\n\u001B[0;32m--> 703\u001B[0;31m         \u001B[0mr\u001B[0m \u001B[0;34m=\u001B[0m \u001B[0madapter\u001B[0m\u001B[0;34m.\u001B[0m\u001B[0msend\u001B[0m\u001B[0;34m(\u001B[0m\u001B[0mrequest\u001B[0m\u001B[0;34m,\u001B[0m \u001B[0;34m**\u001B[0m\u001B[0mkwargs\u001B[0m\u001B[0;34m)\u001B[0m\u001B[0;34m\u001B[0m\u001B[0;34m\u001B[0m\u001B[0m\n\u001B[0m\u001B[1;32m    704\u001B[0m \u001B[0;34m\u001B[0m\u001B[0m\n",
      "\u001B[0;32m/usr/local/lib/python3.11/dist-packages/requests/adapters.py\u001B[0m in \u001B[0;36msend\u001B[0;34m(self, request, stream, timeout, verify, cert, proxies)\u001B[0m\n\u001B[1;32m    699\u001B[0m \u001B[0;34m\u001B[0m\u001B[0m\n\u001B[0;32m--> 700\u001B[0;31m             \u001B[0;32mraise\u001B[0m \u001B[0mConnectionError\u001B[0m\u001B[0;34m(\u001B[0m\u001B[0me\u001B[0m\u001B[0;34m,\u001B[0m \u001B[0mrequest\u001B[0m\u001B[0;34m=\u001B[0m\u001B[0mrequest\u001B[0m\u001B[0;34m)\u001B[0m\u001B[0;34m\u001B[0m\u001B[0;34m\u001B[0m\u001B[0m\n\u001B[0m\u001B[1;32m    701\u001B[0m \u001B[0;34m\u001B[0m\u001B[0m\n",
      "\u001B[0;31mConnectionError\u001B[0m: HTTPConnectionPool(host='localhost', port=11434): Max retries exceeded with url: /api/embeddings (Caused by NewConnectionError('<urllib3.connection.HTTPConnection object at 0x7a800dea7e90>: Failed to establish a new connection: [Errno 111] Connection refused'))",
      "\nDuring handling of the above exception, another exception occurred:\n",
      "\u001B[0;31mValueError\u001B[0m                                Traceback (most recent call last)",
      "\u001B[0;32m<ipython-input-4-0bea1e9f3189>\u001B[0m in \u001B[0;36m<cell line: 0>\u001B[0;34m()\u001B[0m\n\u001B[1;32m     96\u001B[0m \u001B[0;34m\u001B[0m\u001B[0m\n\u001B[1;32m     97\u001B[0m \u001B[0;32mif\u001B[0m \u001B[0m__name__\u001B[0m \u001B[0;34m==\u001B[0m \u001B[0;34m\"__main__\"\u001B[0m\u001B[0;34m:\u001B[0m\u001B[0;34m\u001B[0m\u001B[0;34m\u001B[0m\u001B[0m\n\u001B[0;32m---> 98\u001B[0;31m     \u001B[0mmain\u001B[0m\u001B[0;34m(\u001B[0m\u001B[0;34m)\u001B[0m\u001B[0;34m\u001B[0m\u001B[0;34m\u001B[0m\u001B[0m\n\u001B[0m",
      "\u001B[0;32m<ipython-input-4-0bea1e9f3189>\u001B[0m in \u001B[0;36mmain\u001B[0;34m()\u001B[0m\n\u001B[1;32m     80\u001B[0m     \u001B[0;31m# Process and store in vector store\u001B[0m\u001B[0;34m\u001B[0m\u001B[0;34m\u001B[0m\u001B[0m\n\u001B[1;32m     81\u001B[0m     \u001B[0mprint\u001B[0m\u001B[0;34m(\u001B[0m\u001B[0;34m\"Processing and storing data...\"\u001B[0m\u001B[0;34m)\u001B[0m\u001B[0;34m\u001B[0m\u001B[0;34m\u001B[0m\u001B[0m\n\u001B[0;32m---> 82\u001B[0;31m     \u001B[0mvectorstore\u001B[0m \u001B[0;34m=\u001B[0m \u001B[0mprocess_documents\u001B[0m\u001B[0;34m(\u001B[0m\u001B[0mdocs\u001B[0m\u001B[0;34m)\u001B[0m\u001B[0;34m\u001B[0m\u001B[0;34m\u001B[0m\u001B[0m\n\u001B[0m\u001B[1;32m     83\u001B[0m \u001B[0;34m\u001B[0m\u001B[0m\n\u001B[1;32m     84\u001B[0m     \u001B[0;31m# Set up RAG pipeline\u001B[0m\u001B[0;34m\u001B[0m\u001B[0;34m\u001B[0m\u001B[0m\n",
      "\u001B[0;32m<ipython-input-4-0bea1e9f3189>\u001B[0m in \u001B[0;36mprocess_documents\u001B[0;34m(docs)\u001B[0m\n\u001B[1;32m     33\u001B[0m \u001B[0;34m\u001B[0m\u001B[0m\n\u001B[1;32m     34\u001B[0m     \u001B[0;31m# Store in Chroma vector store\u001B[0m\u001B[0;34m\u001B[0m\u001B[0;34m\u001B[0m\u001B[0m\n\u001B[0;32m---> 35\u001B[0;31m     vectorstore = Chroma.from_documents(\n\u001B[0m\u001B[1;32m     36\u001B[0m         \u001B[0mdocuments\u001B[0m\u001B[0;34m=\u001B[0m\u001B[0msplits\u001B[0m\u001B[0;34m,\u001B[0m\u001B[0;34m\u001B[0m\u001B[0;34m\u001B[0m\u001B[0m\n\u001B[1;32m     37\u001B[0m         \u001B[0membedding\u001B[0m\u001B[0;34m=\u001B[0m\u001B[0membeddings\u001B[0m\u001B[0;34m,\u001B[0m\u001B[0;34m\u001B[0m\u001B[0;34m\u001B[0m\u001B[0m\n",
      "\u001B[0;32m/usr/local/lib/python3.11/dist-packages/langchain_chroma/vectorstores.py\u001B[0m in \u001B[0;36mfrom_documents\u001B[0;34m(cls, documents, embedding, ids, collection_name, persist_directory, client_settings, client, collection_metadata, **kwargs)\u001B[0m\n\u001B[1;32m   1232\u001B[0m         \u001B[0;32mif\u001B[0m \u001B[0mids\u001B[0m \u001B[0;32mis\u001B[0m \u001B[0;32mNone\u001B[0m\u001B[0;34m:\u001B[0m\u001B[0;34m\u001B[0m\u001B[0;34m\u001B[0m\u001B[0m\n\u001B[1;32m   1233\u001B[0m             \u001B[0mids\u001B[0m \u001B[0;34m=\u001B[0m \u001B[0;34m[\u001B[0m\u001B[0mdoc\u001B[0m\u001B[0;34m.\u001B[0m\u001B[0mid\u001B[0m \u001B[0;32mif\u001B[0m \u001B[0mdoc\u001B[0m\u001B[0;34m.\u001B[0m\u001B[0mid\u001B[0m \u001B[0;32melse\u001B[0m \u001B[0mstr\u001B[0m\u001B[0;34m(\u001B[0m\u001B[0muuid\u001B[0m\u001B[0;34m.\u001B[0m\u001B[0muuid4\u001B[0m\u001B[0;34m(\u001B[0m\u001B[0;34m)\u001B[0m\u001B[0;34m)\u001B[0m \u001B[0;32mfor\u001B[0m \u001B[0mdoc\u001B[0m \u001B[0;32min\u001B[0m \u001B[0mdocuments\u001B[0m\u001B[0;34m]\u001B[0m\u001B[0;34m\u001B[0m\u001B[0;34m\u001B[0m\u001B[0m\n\u001B[0;32m-> 1234\u001B[0;31m         return cls.from_texts(\n\u001B[0m\u001B[1;32m   1235\u001B[0m             \u001B[0mtexts\u001B[0m\u001B[0;34m=\u001B[0m\u001B[0mtexts\u001B[0m\u001B[0;34m,\u001B[0m\u001B[0;34m\u001B[0m\u001B[0;34m\u001B[0m\u001B[0m\n\u001B[1;32m   1236\u001B[0m             \u001B[0membedding\u001B[0m\u001B[0;34m=\u001B[0m\u001B[0membedding\u001B[0m\u001B[0;34m,\u001B[0m\u001B[0;34m\u001B[0m\u001B[0;34m\u001B[0m\u001B[0m\n",
      "\u001B[0;32m/usr/local/lib/python3.11/dist-packages/langchain_chroma/vectorstores.py\u001B[0m in \u001B[0;36mfrom_texts\u001B[0;34m(cls, texts, embedding, metadatas, ids, collection_name, persist_directory, client_settings, client, collection_metadata, **kwargs)\u001B[0m\n\u001B[1;32m   1185\u001B[0m                 \u001B[0mdocuments\u001B[0m\u001B[0;34m=\u001B[0m\u001B[0mtexts\u001B[0m\u001B[0;34m,\u001B[0m\u001B[0;34m\u001B[0m\u001B[0;34m\u001B[0m\u001B[0m\n\u001B[1;32m   1186\u001B[0m             ):\n\u001B[0;32m-> 1187\u001B[0;31m                 chroma_collection.add_texts(\n\u001B[0m\u001B[1;32m   1188\u001B[0m                     \u001B[0mtexts\u001B[0m\u001B[0;34m=\u001B[0m\u001B[0mbatch\u001B[0m\u001B[0;34m[\u001B[0m\u001B[0;36m3\u001B[0m\u001B[0;34m]\u001B[0m \u001B[0;32mif\u001B[0m \u001B[0mbatch\u001B[0m\u001B[0;34m[\u001B[0m\u001B[0;36m3\u001B[0m\u001B[0;34m]\u001B[0m \u001B[0;32melse\u001B[0m \u001B[0;34m[\u001B[0m\u001B[0;34m]\u001B[0m\u001B[0;34m,\u001B[0m\u001B[0;34m\u001B[0m\u001B[0;34m\u001B[0m\u001B[0m\n\u001B[1;32m   1189\u001B[0m                     \u001B[0mmetadatas\u001B[0m\u001B[0;34m=\u001B[0m\u001B[0mbatch\u001B[0m\u001B[0;34m[\u001B[0m\u001B[0;36m2\u001B[0m\u001B[0;34m]\u001B[0m \u001B[0;32mif\u001B[0m \u001B[0mbatch\u001B[0m\u001B[0;34m[\u001B[0m\u001B[0;36m2\u001B[0m\u001B[0;34m]\u001B[0m \u001B[0;32melse\u001B[0m \u001B[0;32mNone\u001B[0m\u001B[0;34m,\u001B[0m  \u001B[0;31m# type: ignore\u001B[0m\u001B[0;34m\u001B[0m\u001B[0;34m\u001B[0m\u001B[0m\n",
      "\u001B[0;32m/usr/local/lib/python3.11/dist-packages/langchain_chroma/vectorstores.py\u001B[0m in \u001B[0;36madd_texts\u001B[0;34m(self, texts, metadatas, ids, **kwargs)\u001B[0m\n\u001B[1;32m    525\u001B[0m         \u001B[0mtexts\u001B[0m \u001B[0;34m=\u001B[0m \u001B[0mlist\u001B[0m\u001B[0;34m(\u001B[0m\u001B[0mtexts\u001B[0m\u001B[0;34m)\u001B[0m\u001B[0;34m\u001B[0m\u001B[0;34m\u001B[0m\u001B[0m\n\u001B[1;32m    526\u001B[0m         \u001B[0;32mif\u001B[0m \u001B[0mself\u001B[0m\u001B[0;34m.\u001B[0m\u001B[0m_embedding_function\u001B[0m \u001B[0;32mis\u001B[0m \u001B[0;32mnot\u001B[0m \u001B[0;32mNone\u001B[0m\u001B[0;34m:\u001B[0m\u001B[0;34m\u001B[0m\u001B[0;34m\u001B[0m\u001B[0m\n\u001B[0;32m--> 527\u001B[0;31m             \u001B[0membeddings\u001B[0m \u001B[0;34m=\u001B[0m \u001B[0mself\u001B[0m\u001B[0;34m.\u001B[0m\u001B[0m_embedding_function\u001B[0m\u001B[0;34m.\u001B[0m\u001B[0membed_documents\u001B[0m\u001B[0;34m(\u001B[0m\u001B[0mtexts\u001B[0m\u001B[0;34m)\u001B[0m\u001B[0;34m\u001B[0m\u001B[0;34m\u001B[0m\u001B[0m\n\u001B[0m\u001B[1;32m    528\u001B[0m         \u001B[0;32mif\u001B[0m \u001B[0mmetadatas\u001B[0m\u001B[0;34m:\u001B[0m\u001B[0;34m\u001B[0m\u001B[0;34m\u001B[0m\u001B[0m\n\u001B[1;32m    529\u001B[0m             \u001B[0;31m# fill metadatas with empty dicts if somebody\u001B[0m\u001B[0;34m\u001B[0m\u001B[0;34m\u001B[0m\u001B[0m\n",
      "\u001B[0;32m/usr/local/lib/python3.11/dist-packages/langchain_community/embeddings/ollama.py\u001B[0m in \u001B[0;36membed_documents\u001B[0;34m(self, texts)\u001B[0m\n\u001B[1;32m    212\u001B[0m         \"\"\"\n\u001B[1;32m    213\u001B[0m         \u001B[0minstruction_pairs\u001B[0m \u001B[0;34m=\u001B[0m \u001B[0;34m[\u001B[0m\u001B[0;34mf\"{self.embed_instruction}{text}\"\u001B[0m \u001B[0;32mfor\u001B[0m \u001B[0mtext\u001B[0m \u001B[0;32min\u001B[0m \u001B[0mtexts\u001B[0m\u001B[0;34m]\u001B[0m\u001B[0;34m\u001B[0m\u001B[0;34m\u001B[0m\u001B[0m\n\u001B[0;32m--> 214\u001B[0;31m         \u001B[0membeddings\u001B[0m \u001B[0;34m=\u001B[0m \u001B[0mself\u001B[0m\u001B[0;34m.\u001B[0m\u001B[0m_embed\u001B[0m\u001B[0;34m(\u001B[0m\u001B[0minstruction_pairs\u001B[0m\u001B[0;34m)\u001B[0m\u001B[0;34m\u001B[0m\u001B[0;34m\u001B[0m\u001B[0m\n\u001B[0m\u001B[1;32m    215\u001B[0m         \u001B[0;32mreturn\u001B[0m \u001B[0membeddings\u001B[0m\u001B[0;34m\u001B[0m\u001B[0;34m\u001B[0m\u001B[0m\n\u001B[1;32m    216\u001B[0m \u001B[0;34m\u001B[0m\u001B[0m\n",
      "\u001B[0;32m/usr/local/lib/python3.11/dist-packages/langchain_community/embeddings/ollama.py\u001B[0m in \u001B[0;36m_embed\u001B[0;34m(self, input)\u001B[0m\n\u001B[1;32m    200\u001B[0m         \u001B[0;32melse\u001B[0m\u001B[0;34m:\u001B[0m\u001B[0;34m\u001B[0m\u001B[0;34m\u001B[0m\u001B[0m\n\u001B[1;32m    201\u001B[0m             \u001B[0miter_\u001B[0m \u001B[0;34m=\u001B[0m \u001B[0minput\u001B[0m\u001B[0;34m\u001B[0m\u001B[0;34m\u001B[0m\u001B[0m\n\u001B[0;32m--> 202\u001B[0;31m         \u001B[0;32mreturn\u001B[0m \u001B[0;34m[\u001B[0m\u001B[0mself\u001B[0m\u001B[0;34m.\u001B[0m\u001B[0m_process_emb_response\u001B[0m\u001B[0;34m(\u001B[0m\u001B[0mprompt\u001B[0m\u001B[0;34m)\u001B[0m \u001B[0;32mfor\u001B[0m \u001B[0mprompt\u001B[0m \u001B[0;32min\u001B[0m \u001B[0miter_\u001B[0m\u001B[0;34m]\u001B[0m\u001B[0;34m\u001B[0m\u001B[0;34m\u001B[0m\u001B[0m\n\u001B[0m\u001B[1;32m    203\u001B[0m \u001B[0;34m\u001B[0m\u001B[0m\n\u001B[1;32m    204\u001B[0m     \u001B[0;32mdef\u001B[0m \u001B[0membed_documents\u001B[0m\u001B[0;34m(\u001B[0m\u001B[0mself\u001B[0m\u001B[0;34m,\u001B[0m \u001B[0mtexts\u001B[0m\u001B[0;34m:\u001B[0m \u001B[0mList\u001B[0m\u001B[0;34m[\u001B[0m\u001B[0mstr\u001B[0m\u001B[0;34m]\u001B[0m\u001B[0;34m)\u001B[0m \u001B[0;34m->\u001B[0m \u001B[0mList\u001B[0m\u001B[0;34m[\u001B[0m\u001B[0mList\u001B[0m\u001B[0;34m[\u001B[0m\u001B[0mfloat\u001B[0m\u001B[0;34m]\u001B[0m\u001B[0;34m]\u001B[0m\u001B[0;34m:\u001B[0m\u001B[0;34m\u001B[0m\u001B[0;34m\u001B[0m\u001B[0m\n",
      "\u001B[0;32m/usr/local/lib/python3.11/dist-packages/langchain_community/embeddings/ollama.py\u001B[0m in \u001B[0;36m<listcomp>\u001B[0;34m(.0)\u001B[0m\n\u001B[1;32m    200\u001B[0m         \u001B[0;32melse\u001B[0m\u001B[0;34m:\u001B[0m\u001B[0;34m\u001B[0m\u001B[0;34m\u001B[0m\u001B[0m\n\u001B[1;32m    201\u001B[0m             \u001B[0miter_\u001B[0m \u001B[0;34m=\u001B[0m \u001B[0minput\u001B[0m\u001B[0;34m\u001B[0m\u001B[0;34m\u001B[0m\u001B[0m\n\u001B[0;32m--> 202\u001B[0;31m         \u001B[0;32mreturn\u001B[0m \u001B[0;34m[\u001B[0m\u001B[0mself\u001B[0m\u001B[0;34m.\u001B[0m\u001B[0m_process_emb_response\u001B[0m\u001B[0;34m(\u001B[0m\u001B[0mprompt\u001B[0m\u001B[0;34m)\u001B[0m \u001B[0;32mfor\u001B[0m \u001B[0mprompt\u001B[0m \u001B[0;32min\u001B[0m \u001B[0miter_\u001B[0m\u001B[0;34m]\u001B[0m\u001B[0;34m\u001B[0m\u001B[0;34m\u001B[0m\u001B[0m\n\u001B[0m\u001B[1;32m    203\u001B[0m \u001B[0;34m\u001B[0m\u001B[0m\n\u001B[1;32m    204\u001B[0m     \u001B[0;32mdef\u001B[0m \u001B[0membed_documents\u001B[0m\u001B[0;34m(\u001B[0m\u001B[0mself\u001B[0m\u001B[0;34m,\u001B[0m \u001B[0mtexts\u001B[0m\u001B[0;34m:\u001B[0m \u001B[0mList\u001B[0m\u001B[0;34m[\u001B[0m\u001B[0mstr\u001B[0m\u001B[0;34m]\u001B[0m\u001B[0;34m)\u001B[0m \u001B[0;34m->\u001B[0m \u001B[0mList\u001B[0m\u001B[0;34m[\u001B[0m\u001B[0mList\u001B[0m\u001B[0;34m[\u001B[0m\u001B[0mfloat\u001B[0m\u001B[0;34m]\u001B[0m\u001B[0;34m]\u001B[0m\u001B[0;34m:\u001B[0m\u001B[0;34m\u001B[0m\u001B[0;34m\u001B[0m\u001B[0m\n",
      "\u001B[0;32m/usr/local/lib/python3.11/dist-packages/langchain_community/embeddings/ollama.py\u001B[0m in \u001B[0;36m_process_emb_response\u001B[0;34m(self, input)\u001B[0m\n\u001B[1;32m    171\u001B[0m             )\n\u001B[1;32m    172\u001B[0m         \u001B[0;32mexcept\u001B[0m \u001B[0mrequests\u001B[0m\u001B[0;34m.\u001B[0m\u001B[0mexceptions\u001B[0m\u001B[0;34m.\u001B[0m\u001B[0mRequestException\u001B[0m \u001B[0;32mas\u001B[0m \u001B[0me\u001B[0m\u001B[0;34m:\u001B[0m\u001B[0;34m\u001B[0m\u001B[0;34m\u001B[0m\u001B[0m\n\u001B[0;32m--> 173\u001B[0;31m             \u001B[0;32mraise\u001B[0m \u001B[0mValueError\u001B[0m\u001B[0;34m(\u001B[0m\u001B[0;34mf\"Error raised by inference endpoint: {e}\"\u001B[0m\u001B[0;34m)\u001B[0m\u001B[0;34m\u001B[0m\u001B[0;34m\u001B[0m\u001B[0m\n\u001B[0m\u001B[1;32m    174\u001B[0m \u001B[0;34m\u001B[0m\u001B[0m\n\u001B[1;32m    175\u001B[0m         \u001B[0;32mif\u001B[0m \u001B[0mres\u001B[0m\u001B[0;34m.\u001B[0m\u001B[0mstatus_code\u001B[0m \u001B[0;34m!=\u001B[0m \u001B[0;36m200\u001B[0m\u001B[0;34m:\u001B[0m\u001B[0;34m\u001B[0m\u001B[0;34m\u001B[0m\u001B[0m\n",
      "\u001B[0;31mValueError\u001B[0m: Error raised by inference endpoint: HTTPConnectionPool(host='localhost', port=11434): Max retries exceeded with url: /api/embeddings (Caused by NewConnectionError('<urllib3.connection.HTTPConnection object at 0x7a800dea7e90>: Failed to establish a new connection: [Errno 111] Connection refused'))"
     ]
    }
   ],
   "source": [
    "import bs4\n",
    "from langchain_community.document_loaders import WebBaseLoader\n",
    "from langchain.text_splitter import RecursiveCharacterTextSplitter\n",
    "from langchain_community.embeddings import OllamaEmbeddings\n",
    "from langchain_chroma import Chroma\n",
    "from langchain_ollama import ChatOllama\n",
    "from langchain_core.prompts import ChatPromptTemplate\n",
    "from langchain_core.runnables import RunnablePassthrough\n",
    "from langchain_core.output_parsers import StrOutputParser\n",
    "\n",
    "# Step 1: Scrape the webpage\n",
    "def scrape_webpage(url):\n",
    "    # Use BeautifulSoup to parse specific content (e.g., 'content-area' class)\n",
    "    bs4_strainer = bs4.SoupStrainer(class_=\"content-area\")\n",
    "    loader = WebBaseLoader(\n",
    "        web_paths=(url,),\n",
    "        bs_kwargs={\"parse_only\": bs4_strainer},\n",
    "    )\n",
    "    docs = loader.load()\n",
    "    return docs\n",
    "\n",
    "# Step 2: Process and store data in vector store\n",
    "def process_documents(docs):\n",
    "    # Split documents into smaller chunks\n",
    "    text_splitter = RecursiveCharacterTextSplitter(\n",
    "        chunk_size=1000,\n",
    "        chunk_overlap=200\n",
    "    )\n",
    "    splits = text_splitter.split_documents(docs)\n",
    "\n",
    "    # Create embeddings using Ollama\n",
    "    embeddings = OllamaEmbeddings(model=\"phi4\")\n",
    "\n",
    "    # Store in Chroma vector store\n",
    "    vectorstore = Chroma.from_documents(\n",
    "        documents=splits,\n",
    "        embedding=embeddings,\n",
    "        collection_name=\"web_content\"\n",
    "    )\n",
    "    return vectorstore\n",
    "\n",
    "# Step 3: Set up RAG pipeline for real-time querying\n",
    "def setup_rag_pipeline(vectorstore):\n",
    "    # Initialize Phi-4 model via Ollama\n",
    "    llm = ChatOllama(\n",
    "        model=\"phi4\",\n",
    "        base_url=\"http://localhost:11434\",\n",
    "        temperature=0\n",
    "    )\n",
    "\n",
    "    # Define prompt template\n",
    "    template = \"\"\"Answer the question based only on the following context:\n",
    "    {context}\n",
    "\n",
    "    Question: {question}\n",
    "    \"\"\"\n",
    "    prompt = ChatPromptTemplate.from_template(template)\n",
    "\n",
    "    # Create retriever from vector store\n",
    "    retriever = vectorstore.as_retriever()\n",
    "\n",
    "    # Build RAG chain\n",
    "    rag_chain = (\n",
    "        {\"context\": retriever, \"question\": RunnablePassthrough()}\n",
    "        | prompt\n",
    "        | llm\n",
    "        | StrOutputParser()\n",
    "    )\n",
    "    return rag_chain\n",
    "\n",
    "# Step 4: Main execution\n",
    "def main():\n",
    "    # Example URL to scrape (replace with your target URL)\n",
    "    url = \"https://pythonology.eu/using-pandas_ta-to-generate-technical-indicators-and-signals/\"\n",
    "\n",
    "    # Scrape webpage\n",
    "    print(\"Scraping webpage...\")\n",
    "    docs = scrape_webpage(url)\n",
    "\n",
    "    # Process and store in vector store\n",
    "    print(\"Processing and storing data...\")\n",
    "    vectorstore = process_documents(docs)\n",
    "\n",
    "    # Set up RAG pipeline\n",
    "    print(\"Setting up RAG pipeline...\")\n",
    "    rag_chain = setup_rag_pipeline(vectorstore)\n",
    "\n",
    "    # Example real-time query\n",
    "    query = \"What are the main technical indicators mentioned in the article?\"\n",
    "    print(\"Executing query:\", query)\n",
    "    response = rag_chain.invoke(query)\n",
    "    print(\"\\nResponse:\", response)\n",
    "\n",
    "    # Optional: Clean up vector store\n",
    "    vectorstore.delete_collection()\n",
    "\n",
    "if __name__ == \"__main__\":\n",
    "    main()"
   ]
  },
  {
   "cell_type": "code",
   "source": [
    "def scrape_webpage(url):\n",
    "    # Use BeautifulSoup to parse specific content (e.g., 'content-area' class)\n",
    "    bs4_strainer = bs4.SoupStrainer(class_=\"content-area\")\n",
    "    loader = WebBaseLoader(\n",
    "        web_paths=(url,),\n",
    "        bs_kwargs={\"parse_only\": bs4_strainer},\n",
    "    )\n",
    "    docs = loader.load()\n",
    "    return docs\n",
    "\n",
    "doc = scrape_webpage('https://pythonology.eu/using-pandas_ta-to-generate-technical-indicators-and-signals/')"
   ],
   "metadata": {
    "id": "_-R16MwsClYj"
   },
   "execution_count": null,
   "outputs": []
  },
  {
   "cell_type": "code",
   "source": [
    "doc"
   ],
   "metadata": {
    "colab": {
     "base_uri": "https://localhost:8080/"
    },
    "id": "xqEtC7d9hHBO",
    "executionInfo": {
     "status": "ok",
     "timestamp": 1745947390078,
     "user_tz": -360,
     "elapsed": 26,
     "user": {
      "displayName": "Rifat Azad",
      "userId": "02042486650245068173"
     }
    },
    "outputId": "502bbbb6-73bc-44a4-9f14-7e2f332c8503"
   },
   "execution_count": null,
   "outputs": [
    {
     "output_type": "execute_result",
     "data": {
      "text/plain": [
       "[Document(metadata={'source': 'https://pythonology.eu/using-pandas_ta-to-generate-technical-indicators-and-signals/', 'title': 'Previous'}, page_content=\"Disclaimer:Remember that trading involves risk, and most traders lose money. This blog post is for educational purposes only. Always practice risk management and consider seeking professional advice before trading.Table of ContentsDisclaimer:What Is Algorithmic Trading? Advantages of Algorithmic TradingDisadvantages of Algorithmic TradingUsing Python for Algorithmic TradingTechnical Analysis with PythonPlotting Simple Moving Averages (SMA)Plotting RSIA Simple Trading StrategyConclusionWhat Is Algorithmic Trading?Algorithmic trading, often referred to as algo trading, uses computer algorithms to automate trading decisions based on predefined criteria. These criteria are set by the traders, for example, you might tell the program to Buy when the last 5 candlesticks have an upward trend, or Sell when the last 5 candlesticks are following a downtrend. This approach eliminates human emotions, enabling data-driven decision-making and executing trades at high speed and precision.This approach, however, has some advantages and disadvantages.Advantages of Algorithmic TradingReduced Emotional Bias: Automated systems execute trades based on logic, not emotions.Faster Execution: Algorithms can process vast amounts of data and execute orders in milliseconds.Scalability: Algorithms can manage multiple trading strategies and assets simultaneously.Disadvantages of Algorithmic TradingTechnical Glitches: Systems can fail due to bugs or connectivity issues.Over-Optimization: Strategies may be overly fine-tuned to historical data, reducing real-world performance.Market Volatility: Sudden market changes can lead to significant losses.Using Python for Algorithmic TradingPython is a popular language for algorithmic trading due to its simplicity and extensive libraries. There are a lot of great libraries which are used for collecting trading data, processing and plotting the data, and generating technical indicators. In order to analyze the market and understand the trend and find opportunities to trade, we can use the historical data provided by Yahoo and the yfinance library (pip install yfinance):import yfinance as yf\\n\\n# Fetch historical data for EUR/USD\\ndata = yf.download('EURUSD=X', start='2023-10-01', end='2024-07-10', interval='1d')\\n\\n# Check the first 5 rows of data\\nprint(data.head())Technical Analysis with PythonLibraries like pandas and numpy are essential for data manipulation. For technical analysis, I recommend pandas_ta technical analysis library.I am going to explain how you can use the pandas_ta library to plot simple indicators such as Simple Moving Average and RSI and then generate Buy and Sell signals.Plotting Simple Moving Averages (SMA)Simple Moving Average is the “Hello World” of algorithmic trading. It is very easy to calculate and plot. It shows the trend of the market by calculating the average price of an asset over a specified period, typically using closing prices.Here’s how to calculate and plot SMA:# remember to install pandas and pandas_ta\\n# we use the data we just downloaded by yfinance\\n\\nimport pandas as pd\\nimport matplotlib.pyplot as plt\\nimport pandas_ta as ta\\n\\n# Calculate SMAs and add them to the data as columns\\ndata['SMA_20'] = ta.sma(data['Close'], length=20)\\ndata['SMA_50'] = ta.sma(data['Close'], length=50)\\n\\n# Plotting SMAs\\nplt.figure(figsize=(12, 6))\\nplt.plot(data['Close'], label='Close Price')\\nplt.plot(data['SMA_20'], label='20-Day SMA')\\nplt.plot(data['SMA_50'], label='50-Day SMA')\\nplt.legend()\\nplt.show()\\nAs you saw in the code we used the following code to calculate the SMA of the last 20 days and then added the results as a column to our data dataframe:ta.sma(data['Close'], length=20)If you want to know which methods are available through pandas_ta on your data, you can use the help function:help(data.ta)Plotting RSIThe Relative Strength Index (RSI) is a momentum oscillator that measures the speed and change of price movements. It oscillates between 0 and 100 and is typically used to identify overbought (above 70) or oversold (below 30) conditions in a market.Here’s how you can calculate and plot RSI using pandas_ta:# we are using the same data as before\\n# Calculate RSI\\ndata['RSI'] = ta.rsi(data['Close'], length=14)\\n\\n# Plotting RSI\\nplt.figure(figsize=(12, 6))\\nplt.plot(data['RSI'], label='RSI')\\nplt.axhline(30, linestyle='--', alpha=0.5, color='red')\\nplt.axhline(70, linestyle='--', alpha=0.5, color='red')\\nplt.title('RSI')\\nplt.legend()\\nplt.show()A Simple Trading StrategyHere is a simple trading strategy using SMA.Buy SignalWhen the short-term SMA crosses above the long-term SMA.Sell SignalWhen the short-term SMA crosses below the long-term SMA.We’ll generate buy and sell signals based on the crossover of a short-term SMA and a long-term SMA, and plot these signals on the chart in green and red.# use the same data as before\\n# Calculate indicators\\ndata['SMA_50'] = ta.sma(data['Close'], length=50)\\ndata['SMA_200'] = ta.sma(data['Close'], length=200)\\n\\n# Generate Buy and Sell signals\\ndata['Buy_Signal'] = np.where((data['SMA_50'] > data['SMA_200']) & (data['SMA_50'].shift(1) <= data['SMA_200'].shift(1)), 1, 0)\\ndata['Sell_Signal'] = np.where((data['SMA_50'] < data['SMA_200']) & (data['SMA_50'].shift(1) >= data['SMA_200'].shift(1)), -1, 0)\\n\\n# Plotting\\nplt.figure(figsize=(14, 8))\\n\\n# Plot Closing Price and SMAs\\nplt.plot(data['Close'], label='Close Price', alpha=0.5)\\nplt.plot(data['SMA_50'], label='50-Day SMA', alpha=0.75, color='blue')\\nplt.plot(data['SMA_200'], label='200-Day SMA', alpha=0.75, color='orange')\\n\\n# Plot Buy Signals\\nplt.plot(data[data['Buy_Signal'] == 1].index, data['Close'][data['Buy_Signal'] == 1], '^', markersize=10, color='g', lw=0, label='Buy Signal')\\n\\n# Plot Sell Signals\\nplt.plot(data[data['Sell_Signal'] == -1].index, data['Close'][data['Sell_Signal'] == -1], 'v', markersize=10, color='r', lw=0, label='Sell Signal')\\n\\nplt.title('EUR/USD Price with SMA Crossover Buy and Sell Signals')\\nplt.legend()\\nplt.show()Summary of strategy:Data Fetching: We use yfinance to download historical data for EUR/USD.Indicator Calculation: We calculate the 50-day and 200-day SMAs using pandas-ta.Signal Generation: Buy signals are generated when the 50-day SMA crosses above the 200-day SMA, and sell signals are generated when the 50-day SMA crosses below the 200-day SMA.Plotting: We plot the closing price and the SMAs as line charts. Buy signals are marked with green triangles, and sell signals are marked with red triangles.As you can see this strategy does not predict the trend well. So you need to consider other ways to generate signals.ConclusionIn this post, I have introduced you to the pandas_ta python library for trading technical analysis to generate technical indicators and buy/sell signals. Algorithmic trading is a very complex field and requires a lot of knowledge regarding not only finance and market analysis, but also programming. You do not want to rely on these simple strategies to risk your money! Trading requires knowledge of risk and emotion management. So, this post was just an introduction to how you can start to learn a useful library and hopefully improve your knowledge of algorithmic trading.\\n\\nvahidI hold a PhD in Applied Linguistics. My passion for natural languages drew me toward NLP and learning Python. Now, I run a Youtube channel called Pythonology.Post navigationPrevious\\nPreviousTinyDB: A Lightweight Python Database for Simple ProjectsNextContinue\\na RAG Web Scraper with LangChain and OllamaSimilar Posts\\n\\nPython Library What is the best Python PDF library?\\n\\nRead More What is the best Python PDF library?Continue\\n \\n\\nPython Library GLOB Module: File Searching in Python\\n\\nRead More GLOB Module: File Searching in PythonContinue\\n \\n\\nPython Library | Python Skills how to use pyDoc to generate documentation in python?\\n\\nRead More how to use pyDoc to generate documentation in python?Continue\\n \\n\\nPython Library | web development Reflex: React With Python!\\n\\nRead More Reflex: React With Python!Continue\\n \\n\\nPython Library | Python Skills Cleaner, More Reliable Python Code with Type Hints in python\\n\\nRead More Cleaner, More Reliable Python Code with Type Hints in pythonContinue\\n \\n\\nPython Library | Python Skills | Web Scraping A Beginner’s Guide to Using the LXML Library in Python\\n\\nRead More A Beginner’s Guide to Using the LXML Library in PythonContinue\\n \")]"
      ]
     },
     "metadata": {},
     "execution_count": 16
    }
   ]
  },
  {
   "cell_type": "code",
   "source": [
    "text_splitter = RecursiveCharacterTextSplitter(\n",
    "        chunk_size=1000,\n",
    "        chunk_overlap=200\n",
    "    )\n",
    "splits = text_splitter.split_documents(doc)"
   ],
   "metadata": {
    "id": "Zu3Nis-VhbNo"
   },
   "execution_count": null,
   "outputs": []
  },
  {
   "cell_type": "code",
   "source": [
    "splits"
   ],
   "metadata": {
    "colab": {
     "base_uri": "https://localhost:8080/"
    },
    "id": "eLhSHHr2kizk",
    "executionInfo": {
     "status": "ok",
     "timestamp": 1745947492952,
     "user_tz": -360,
     "elapsed": 58,
     "user": {
      "displayName": "Rifat Azad",
      "userId": "02042486650245068173"
     }
    },
    "outputId": "d9400d86-e459-4c9f-e3df-0c9816c777ad"
   },
   "execution_count": null,
   "outputs": [
    {
     "output_type": "execute_result",
     "data": {
      "text/plain": [
       "[Document(metadata={'source': 'https://pythonology.eu/using-pandas_ta-to-generate-technical-indicators-and-signals/', 'title': 'Previous'}, page_content='Disclaimer:Remember that trading involves risk, and most traders lose money. This blog post is for educational purposes only. Always practice risk management and consider seeking professional advice before trading.Table of ContentsDisclaimer:What Is Algorithmic Trading? Advantages of Algorithmic TradingDisadvantages of Algorithmic TradingUsing Python for Algorithmic TradingTechnical Analysis with PythonPlotting Simple Moving Averages (SMA)Plotting RSIA Simple Trading StrategyConclusionWhat Is Algorithmic Trading?Algorithmic trading, often referred to as algo trading, uses computer algorithms to automate trading decisions based on predefined criteria. These criteria are set by the traders, for example, you might tell the program to Buy when the last 5 candlesticks have an upward trend, or Sell when the last 5 candlesticks are following a downtrend. This approach eliminates human emotions, enabling data-driven decision-making and executing trades at high speed and precision.This'),\n",
       " Document(metadata={'source': 'https://pythonology.eu/using-pandas_ta-to-generate-technical-indicators-and-signals/', 'title': 'Previous'}, page_content='or Sell when the last 5 candlesticks are following a downtrend. This approach eliminates human emotions, enabling data-driven decision-making and executing trades at high speed and precision.This approach, however, has some advantages and disadvantages.Advantages of Algorithmic TradingReduced Emotional Bias: Automated systems execute trades based on logic, not emotions.Faster Execution: Algorithms can process vast amounts of data and execute orders in milliseconds.Scalability: Algorithms can manage multiple trading strategies and assets simultaneously.Disadvantages of Algorithmic TradingTechnical Glitches: Systems can fail due to bugs or connectivity issues.Over-Optimization: Strategies may be overly fine-tuned to historical data, reducing real-world performance.Market Volatility: Sudden market changes can lead to significant losses.Using Python for Algorithmic TradingPython is a popular language for algorithmic trading due to its simplicity and extensive libraries. There are a lot of'),\n",
       " Document(metadata={'source': 'https://pythonology.eu/using-pandas_ta-to-generate-technical-indicators-and-signals/', 'title': 'Previous'}, page_content='changes can lead to significant losses.Using Python for Algorithmic TradingPython is a popular language for algorithmic trading due to its simplicity and extensive libraries. There are a lot of great libraries which are used for collecting trading data, processing and plotting the data, and generating technical indicators. In order to analyze the market and understand the trend and find opportunities to trade, we can use the historical data provided by Yahoo and the yfinance library (pip install yfinance):import yfinance as yf'),\n",
       " Document(metadata={'source': 'https://pythonology.eu/using-pandas_ta-to-generate-technical-indicators-and-signals/', 'title': 'Previous'}, page_content=\"# Fetch historical data for EUR/USD\\ndata = yf.download('EURUSD=X', start='2023-10-01', end='2024-07-10', interval='1d')\\n\\n# Check the first 5 rows of data\\nprint(data.head())Technical Analysis with PythonLibraries like pandas and numpy are essential for data manipulation. For technical analysis, I recommend pandas_ta technical analysis library.I am going to explain how you can use the pandas_ta library to plot simple indicators such as Simple Moving Average and RSI and then generate Buy and Sell signals.Plotting Simple Moving Averages (SMA)Simple Moving Average is the “Hello World” of algorithmic trading. It is very easy to calculate and plot. It shows the trend of the market by calculating the average price of an asset over a specified period, typically using closing prices.Here’s how to calculate and plot SMA:# remember to install pandas and pandas_ta\\n# we use the data we just downloaded by yfinance\\n\\nimport pandas as pd\\nimport matplotlib.pyplot as plt\\nimport pandas_ta as ta\"),\n",
       " Document(metadata={'source': 'https://pythonology.eu/using-pandas_ta-to-generate-technical-indicators-and-signals/', 'title': 'Previous'}, page_content=\"import pandas as pd\\nimport matplotlib.pyplot as plt\\nimport pandas_ta as ta\\n\\n# Calculate SMAs and add them to the data as columns\\ndata['SMA_20'] = ta.sma(data['Close'], length=20)\\ndata['SMA_50'] = ta.sma(data['Close'], length=50)\"),\n",
       " Document(metadata={'source': 'https://pythonology.eu/using-pandas_ta-to-generate-technical-indicators-and-signals/', 'title': 'Previous'}, page_content=\"# Plotting SMAs\\nplt.figure(figsize=(12, 6))\\nplt.plot(data['Close'], label='Close Price')\\nplt.plot(data['SMA_20'], label='20-Day SMA')\\nplt.plot(data['SMA_50'], label='50-Day SMA')\\nplt.legend()\\nplt.show()\\nAs you saw in the code we used the following code to calculate the SMA of the last 20 days and then added the results as a column to our data dataframe:ta.sma(data['Close'], length=20)If you want to know which methods are available through pandas_ta on your data, you can use the help function:help(data.ta)Plotting RSIThe Relative Strength Index (RSI) is a momentum oscillator that measures the speed and change of price movements. It oscillates between 0 and 100 and is typically used to identify overbought (above 70) or oversold (below 30) conditions in a market.Here’s how you can calculate and plot RSI using pandas_ta:# we are using the same data as before\\n# Calculate RSI\\ndata['RSI'] = ta.rsi(data['Close'], length=14)\"),\n",
       " Document(metadata={'source': 'https://pythonology.eu/using-pandas_ta-to-generate-technical-indicators-and-signals/', 'title': 'Previous'}, page_content=\"# Plotting RSI\\nplt.figure(figsize=(12, 6))\\nplt.plot(data['RSI'], label='RSI')\\nplt.axhline(30, linestyle='--', alpha=0.5, color='red')\\nplt.axhline(70, linestyle='--', alpha=0.5, color='red')\\nplt.title('RSI')\\nplt.legend()\\nplt.show()A Simple Trading StrategyHere is a simple trading strategy using SMA.Buy SignalWhen the short-term SMA crosses above the long-term SMA.Sell SignalWhen the short-term SMA crosses below the long-term SMA.We’ll generate buy and sell signals based on the crossover of a short-term SMA and a long-term SMA, and plot these signals on the chart in green and red.# use the same data as before\\n# Calculate indicators\\ndata['SMA_50'] = ta.sma(data['Close'], length=50)\\ndata['SMA_200'] = ta.sma(data['Close'], length=200)\"),\n",
       " Document(metadata={'source': 'https://pythonology.eu/using-pandas_ta-to-generate-technical-indicators-and-signals/', 'title': 'Previous'}, page_content=\"# Generate Buy and Sell signals\\ndata['Buy_Signal'] = np.where((data['SMA_50'] > data['SMA_200']) & (data['SMA_50'].shift(1) <= data['SMA_200'].shift(1)), 1, 0)\\ndata['Sell_Signal'] = np.where((data['SMA_50'] < data['SMA_200']) & (data['SMA_50'].shift(1) >= data['SMA_200'].shift(1)), -1, 0)\\n\\n# Plotting\\nplt.figure(figsize=(14, 8))\\n\\n# Plot Closing Price and SMAs\\nplt.plot(data['Close'], label='Close Price', alpha=0.5)\\nplt.plot(data['SMA_50'], label='50-Day SMA', alpha=0.75, color='blue')\\nplt.plot(data['SMA_200'], label='200-Day SMA', alpha=0.75, color='orange')\\n\\n# Plot Buy Signals\\nplt.plot(data[data['Buy_Signal'] == 1].index, data['Close'][data['Buy_Signal'] == 1], '^', markersize=10, color='g', lw=0, label='Buy Signal')\\n\\n# Plot Sell Signals\\nplt.plot(data[data['Sell_Signal'] == -1].index, data['Close'][data['Sell_Signal'] == -1], 'v', markersize=10, color='r', lw=0, label='Sell Signal')\"),\n",
       " Document(metadata={'source': 'https://pythonology.eu/using-pandas_ta-to-generate-technical-indicators-and-signals/', 'title': 'Previous'}, page_content=\"plt.title('EUR/USD Price with SMA Crossover Buy and Sell Signals')\\nplt.legend()\"),\n",
       " Document(metadata={'source': 'https://pythonology.eu/using-pandas_ta-to-generate-technical-indicators-and-signals/', 'title': 'Previous'}, page_content='plt.show()Summary of strategy:Data Fetching: We use yfinance to download historical data for EUR/USD.Indicator Calculation: We calculate the 50-day and 200-day SMAs using pandas-ta.Signal Generation: Buy signals are generated when the 50-day SMA crosses above the 200-day SMA, and sell signals are generated when the 50-day SMA crosses below the 200-day SMA.Plotting: We plot the closing price and the SMAs as line charts. Buy signals are marked with green triangles, and sell signals are marked with red triangles.As you can see this strategy does not predict the trend well. So you need to consider other ways to generate signals.ConclusionIn this post, I have introduced you to the pandas_ta python library for trading technical analysis to generate technical indicators and buy/sell signals. Algorithmic trading is a very complex field and requires a lot of knowledge regarding not only finance and market analysis, but also programming. You do not want to rely on these simple strategies to'),\n",
       " Document(metadata={'source': 'https://pythonology.eu/using-pandas_ta-to-generate-technical-indicators-and-signals/', 'title': 'Previous'}, page_content='Algorithmic trading is a very complex field and requires a lot of knowledge regarding not only finance and market analysis, but also programming. You do not want to rely on these simple strategies to risk your money! Trading requires knowledge of risk and emotion management. So, this post was just an introduction to how you can start to learn a useful library and hopefully improve your knowledge of algorithmic trading.'),\n",
       " Document(metadata={'source': 'https://pythonology.eu/using-pandas_ta-to-generate-technical-indicators-and-signals/', 'title': 'Previous'}, page_content='vahidI hold a PhD in Applied Linguistics. My passion for natural languages drew me toward NLP and learning Python. Now, I run a Youtube channel called Pythonology.Post navigationPrevious\\nPreviousTinyDB: A Lightweight Python Database for Simple ProjectsNextContinue\\na RAG Web Scraper with LangChain and OllamaSimilar Posts\\n\\nPython Library What is the best Python PDF library?\\n\\nRead More What is the best Python PDF library?Continue\\n \\n\\nPython Library GLOB Module: File Searching in Python\\n\\nRead More GLOB Module: File Searching in PythonContinue\\n \\n\\nPython Library | Python Skills how to use pyDoc to generate documentation in python?\\n\\nRead More how to use pyDoc to generate documentation in python?Continue\\n \\n\\nPython Library | web development Reflex: React With Python!\\n\\nRead More Reflex: React With Python!Continue\\n \\n\\nPython Library | Python Skills Cleaner, More Reliable Python Code with Type Hints in python\\n\\nRead More Cleaner, More Reliable Python Code with Type Hints in pythonContinue'),\n",
       " Document(metadata={'source': 'https://pythonology.eu/using-pandas_ta-to-generate-technical-indicators-and-signals/', 'title': 'Previous'}, page_content='Python Library | Python Skills Cleaner, More Reliable Python Code with Type Hints in python\\n\\nRead More Cleaner, More Reliable Python Code with Type Hints in pythonContinue\\n \\n\\nPython Library | Python Skills | Web Scraping A Beginner’s Guide to Using the LXML Library in Python\\n\\nRead More A Beginner’s Guide to Using the LXML Library in PythonContinue')]"
      ]
     },
     "metadata": {},
     "execution_count": 18
    }
   ]
  }
 ]
}
