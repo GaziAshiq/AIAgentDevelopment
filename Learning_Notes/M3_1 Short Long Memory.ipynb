{
 "nbformat": 4,
 "nbformat_minor": 0,
 "metadata": {
  "colab": {
   "provenance": [
    {
     "file_id": "1k7q5xDmuKdIMl4di0X23AHAX0hO0zGJ9",
     "timestamp": 1749662483306
    }
   ],
   "gpuType": "T4"
  },
  "kernelspec": {
   "name": "python3",
   "display_name": "Python 3"
  },
  "language_info": {
   "name": "python"
  },
  "accelerator": "GPU"
 },
 "cells": [
  {
   "metadata": {},
   "cell_type": "markdown",
   "source": "For Google Colab"
  },
  {
   "cell_type": "code",
   "metadata": {
    "colab": {
     "base_uri": "https://localhost:8080/"
    },
    "collapsed": true,
    "id": "9oaN2dwiE6Iv",
    "executionInfo": {
     "status": "ok",
     "timestamp": 1753961928934,
     "user_tz": -360,
     "elapsed": 72935,
     "user": {
      "displayName": "Gazi Ashiq",
      "userId": "02384138412179728115"
     }
    },
    "outputId": "c57c5e45-07e8-438d-cca9-9c61f23683ab"
   },
   "source": [
    "# !curl -fsSL https://ollama.com/install.sh | sh\n",
    "# !nohup ollama serve > output.log 2>&1 &\n",
    "# !ollama pull gemma3"
   ],
   "outputs": [],
   "execution_count": null
  },
  {
   "cell_type": "code",
   "source": "# !nohup ollama serve > output.log 2>&1 &",
   "metadata": {
    "id": "YDrphenIUW9S",
    "executionInfo": {
     "status": "ok",
     "timestamp": 1753961929019,
     "user_tz": -360,
     "elapsed": 82,
     "user": {
      "displayName": "Gazi Ashiq",
      "userId": "02384138412179728115"
     }
    }
   },
   "outputs": [],
   "execution_count": null
  },
  {
   "cell_type": "code",
   "source": [
    "# !pip install langchain langchainhub chromadb ollama\n",
    "# !pip install langchain-community langchain-core"
   ],
   "metadata": {
    "colab": {
     "base_uri": "https://localhost:8080/",
     "height": 1000
    },
    "collapsed": true,
    "id": "BQJe-5JbGQQL",
    "executionInfo": {
     "status": "ok",
     "timestamp": 1753961957701,
     "user_tz": -360,
     "elapsed": 28678,
     "user": {
      "displayName": "Gazi Ashiq",
      "userId": "02384138412179728115"
     }
    },
    "outputId": "3a90ef56-167e-4a36-a023-3b6a0cfc3dce"
   },
   "outputs": [],
   "execution_count": null
  },
  {
   "metadata": {},
   "cell_type": "markdown",
   "source": "For Local Jupyter Notebook"
  },
  {
   "cell_type": "code",
   "source": [
    "from langchain_ollama import OllamaLLM\n",
    "from langchain.memory import ConversationBufferMemory, ConversationSummaryMemory\n",
    "from langchain.chains import ConversationChain\n",
    "from langchain.vectorstores import Chroma\n",
    "from langchain.embeddings import OllamaEmbeddings\n",
    "from langchain.memory import VectorStoreRetrieverMemory\n",
    "\n",
    "# Step 1: Setup LLM\n",
    "llm = OllamaLLM(model=\"gemma3:12b\")"
   ],
   "metadata": {
    "colab": {
     "base_uri": "https://localhost:8080/"
    },
    "id": "ePn6HsxNW0h7",
    "executionInfo": {
     "status": "ok",
     "timestamp": 1753961993017,
     "user_tz": -360,
     "elapsed": 1359,
     "user": {
      "displayName": "Gazi Ashiq",
      "userId": "02384138412179728115"
     }
    },
    "outputId": "4c90bbe3-0c53-4a97-c413-8befff5f3b74"
   },
   "outputs": [],
   "execution_count": null
  },
  {
   "cell_type": "code",
   "source": [
    "# Step 2: Short-Term Memory (ConversationBufferMemory)\n",
    "short_term_memory = ConversationBufferMemory()\n",
    "\n",
    "short_term_chain = ConversationChain(\n",
    "    llm=llm,\n",
    "    memory=short_term_memory,\n",
    "    verbose=True\n",
    ")"
   ],
   "metadata": {
    "colab": {
     "base_uri": "https://localhost:8080/",
     "height": 271
    },
    "id": "i-3G1_VXE9we",
    "executionInfo": {
     "status": "error",
     "timestamp": 1753962130491,
     "user_tz": -360,
     "elapsed": 77,
     "user": {
      "displayName": "Gazi Ashiq",
      "userId": "02384138412179728115"
     }
    },
    "outputId": "53f2a172-4d1f-4aa3-bfb8-83cfcbdc70a9"
   },
   "outputs": [],
   "execution_count": null
  },
  {
   "cell_type": "code",
   "source": [
    "# Interact with short-term memory\n",
    "print(\"=== Short-Term Memory Example ===\")\n",
    "short_term_chain.predict(input=\"My name is Ashiq.\")"
   ],
   "metadata": {
    "colab": {
     "base_uri": "https://localhost:8080/",
     "height": 1000
    },
    "collapsed": true,
    "id": "j3Sk5B5_OJM9",
    "executionInfo": {
     "status": "ok",
     "timestamp": 1744734869247,
     "user_tz": -360,
     "elapsed": 8410,
     "user": {
      "displayName": "Rifat Azad",
      "userId": "02042486650245068173"
     }
    },
    "outputId": "5400993c-08a2-45ee-f441-e7581f5b2ec3"
   },
   "outputs": [],
   "execution_count": null
  },
  {
   "metadata": {},
   "cell_type": "code",
   "source": "short_term_chain.predict(input=\"What's my name?\")",
   "outputs": [],
   "execution_count": null
  },
  {
   "metadata": {},
   "cell_type": "code",
   "source": [
    "# Step 3: Long-Term Memory (Using Chroma + RetrieverMemory)\n",
    "embedding = OllamaEmbeddings(model=\"nomic-embed-text\")\n",
    "vectorstore = Chroma(embedding_function=embedding, persist_directory=\"../chroma_store\")\n",
    "retriever = vectorstore.as_retriever()\n",
    "\n",
    "long_term_memory = VectorStoreRetrieverMemory(retriever=retriever)"
   ],
   "outputs": [],
   "execution_count": null
  },
  {
   "cell_type": "code",
   "source": [
    "# Retrieve memory later\n",
    "docs = retriever.get_relevant_documents(\"What color do I like?\")\n",
    "print(\"=== Long-Term Memory Retrieval ===\")\n",
    "for doc in docs:\n",
    "    print(doc.page_content)\n",
    "\n",
    "# Step 4: Optional - Use in a chain\n",
    "long_term_chain = ConversationChain(\n",
    "    llm=llm,\n",
    "    memory=long_term_memory,\n",
    "    verbose=True\n",
    ")"
   ],
   "metadata": {
    "colab": {
     "base_uri": "https://localhost:8080/"
    },
    "id": "YXc0mCmjWDc7",
    "executionInfo": {
     "status": "ok",
     "timestamp": 1744736425284,
     "user_tz": -360,
     "elapsed": 123,
     "user": {
      "displayName": "Rifat Azad",
      "userId": "02042486650245068173"
     }
    },
    "outputId": "e8c0e2c8-76db-4e8d-a2c7-53306c2c5967"
   },
   "outputs": [],
   "execution_count": null
  },
  {
   "cell_type": "code",
   "source": [
    "# Save long-term memory manually\n",
    "long_term_memory.save_context({\"input\": \"My favorite color is blue.\"},\n",
    "                              {\"output\": \"Got it, blue is your favorite.\"})"
   ],
   "metadata": {
    "colab": {
     "base_uri": "https://localhost:8080/",
     "height": 437
    },
    "id": "2gZmw94JOOQp",
    "executionInfo": {
     "status": "ok",
     "timestamp": 1744735867622,
     "user_tz": -360,
     "elapsed": 1079,
     "user": {
      "displayName": "Rifat Azad",
      "userId": "02042486650245068173"
     }
    },
    "outputId": "76c63acd-6feb-4a5e-e02d-66a69035c238"
   },
   "outputs": [],
   "execution_count": null
  },
  {
   "cell_type": "code",
   "source": [
    "# Interact\n",
    "long_term_chain.predict(input=\"Can you remind me what color I like?\")"
   ],
   "metadata": {
    "colab": {
     "base_uri": "https://localhost:8080/",
     "height": 403
    },
    "id": "uXl2lXZBWGWs",
    "executionInfo": {
     "status": "ok",
     "timestamp": 1744736261977,
     "user_tz": -360,
     "elapsed": 1198,
     "user": {
      "displayName": "Rifat Azad",
      "userId": "02042486650245068173"
     }
    },
    "outputId": "24d12ccb-7986-44ab-b715-f18b098025b2"
   },
   "outputs": [],
   "execution_count": null
  },
  {
   "cell_type": "code",
   "source": [
    "short_term_chain.predict(input=\"Can you recall my name?\")  # Should recall \"Alex\""
   ],
   "metadata": {
    "colab": {
     "base_uri": "https://localhost:8080/",
     "height": 264
    },
    "id": "6ygyI99PO8WO",
    "executionInfo": {
     "status": "ok",
     "timestamp": 1744735001353,
     "user_tz": -360,
     "elapsed": 542,
     "user": {
      "displayName": "Rifat Azad",
      "userId": "02042486650245068173"
     }
    },
    "outputId": "feeeace4-d6a0-4d67-a473-55bc5ba238ea"
   },
   "outputs": [],
   "execution_count": null
  },
  {
   "cell_type": "code",
   "source": [
    "short_term_memory.clear()"
   ],
   "metadata": {
    "id": "US3DNpGaOdK_"
   },
   "outputs": [],
   "execution_count": null
  }
 ]
}
