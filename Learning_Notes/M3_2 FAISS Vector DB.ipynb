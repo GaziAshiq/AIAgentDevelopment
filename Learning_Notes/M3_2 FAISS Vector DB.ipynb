{
 "nbformat": 4,
 "nbformat_minor": 0,
 "metadata": {
  "colab": {
   "provenance": [
    {
     "file_id": "1m1cgq1qIGA1xknEQMrQr0ZZzxrx_1Mmu",
     "timestamp": 1749662542794
    }
   ],
   "gpuType": "T4"
  },
  "kernelspec": {
   "name": "python3",
   "display_name": "Python 3"
  },
  "language_info": {
   "name": "python"
  },
  "accelerator": "GPU"
 },
 "cells": [
  {
   "cell_type": "code",
   "metadata": {
    "colab": {
     "base_uri": "https://localhost:8080/"
    },
    "id": "Ru_-5TG-jziQ",
    "executionInfo": {
     "status": "ok",
     "timestamp": 1745080062416,
     "user_tz": -360,
     "elapsed": 145812,
     "user": {
      "displayName": "Rifat Azad",
      "userId": "02042486650245068173"
     }
    },
    "outputId": "a6b0529f-d06c-4f17-de3b-8f51041c9ea3"
   },
   "source": [
    "!curl -fsSL https://ollama.com/install.sh | sh\n",
    "!nohup ollama serve > output.log 2>&1 &\n",
    "!ollama pull phi4"
   ],
   "outputs": [],
   "execution_count": null
  },
  {
   "cell_type": "code",
   "source": [
    "!pip install langchain faiss-cpu PyMuPDF requests langchain-community"
   ],
   "metadata": {
    "colab": {
     "base_uri": "https://localhost:8080/"
    },
    "id": "lXtkPcSWnRPT",
    "executionInfo": {
     "status": "ok",
     "timestamp": 1745081367346,
     "user_tz": -360,
     "elapsed": 3168,
     "user": {
      "displayName": "Rifat Azad",
      "userId": "02042486650245068173"
     }
    },
    "outputId": "76b066cc-5351-4899-ee95-fd2e4b7ca139"
   },
   "outputs": [],
   "execution_count": null
  },
  {
   "cell_type": "code",
   "source": [
    "# 📦 All-in-One PDF QA with Phi-4, FAISS, and LangChain\n",
    "\n",
    "import requests\n",
    "from langchain.document_loaders import PyMuPDFLoader\n",
    "from langchain.text_splitter import RecursiveCharacterTextSplitter\n",
    "from langchain.embeddings import OllamaEmbeddings\n",
    "from langchain.vectorstores import FAISS\n",
    "from langchain.chat_models import ChatOllama\n",
    "from langchain.chains import RetrievalQA\n",
    "import os\n",
    "\n",
    "# 1. 📥 Download sample PDF\n",
    "pdf_url = \"https://arxiv.org/pdf/2306.15595.pdf\"  # Replace with your preferred PDF URL\n",
    "pdf_path = \"sample.pdf\"\n",
    "if not os.path.exists(pdf_path):\n",
    "    response = requests.get(pdf_url)\n",
    "    with open(pdf_path, 'wb') as f:\n",
    "        f.write(response.content)\n",
    "\n",
    "# 2. 📄 Load and split PDF\n",
    "loader = PyMuPDFLoader(pdf_path)\n",
    "docs = loader.load()\n",
    "splitter = RecursiveCharacterTextSplitter(chunk_size=1000, chunk_overlap=200)\n",
    "chunks = splitter.split_documents(docs)\n",
    "\n",
    "# 3. 🧠 Embeddings + FAISS\n",
    "embeddings = OllamaEmbeddings(model=\"phi4\")\n",
    "vectorstore = FAISS.from_documents(chunks, embeddings)\n",
    "\n",
    "# 4. 💬 Retrieval-based QA\n",
    "llm = ChatOllama(model=\"phi4\")\n",
    "qa = RetrievalQA.from_chain_type(llm=llm, retriever=vectorstore.as_retriever(), chain_type=\"stuff\")\n",
    "\n",
    "# 5. ❓ Ask something!\n",
    "question = \"Summarize the paper in simple terms.\"\n",
    "answer = qa.run(question)\n",
    "print(\"Q:\", question)\n",
    "print(\"A:\", answer)\n"
   ],
   "metadata": {
    "colab": {
     "base_uri": "https://localhost:8080/"
    },
    "id": "xvPEiKbkj0zf",
    "executionInfo": {
     "status": "ok",
     "timestamp": 1745082787441,
     "user_tz": -360,
     "elapsed": 77841,
     "user": {
      "displayName": "Rifat Azad",
      "userId": "02042486650245068173"
     }
    },
    "outputId": "a63fdf0a-495a-463d-c77e-cdb3ec2bf612"
   },
   "outputs": [],
   "execution_count": null
  },
  {
   "cell_type": "code",
   "source": [
    "question = \"tell us about rangpur\"\n",
    "answer = qa.run(question)\n",
    "print(\"Q:\", question)\n",
    "print(\"A:\", answer)"
   ],
   "metadata": {
    "colab": {
     "base_uri": "https://localhost:8080/"
    },
    "id": "-1yLbibX3jVG",
    "executionInfo": {
     "status": "ok",
     "timestamp": 1745082951176,
     "user_tz": -360,
     "elapsed": 11825,
     "user": {
      "displayName": "Rifat Azad",
      "userId": "02042486650245068173"
     }
    },
    "outputId": "f908b89d-e440-4ab3-9e25-9be5a5d0b570"
   },
   "outputs": [],
   "execution_count": null
  },
  {
   "cell_type": "code",
   "source": [
    "!nohup ollama serve > output.log 2>&1 &"
   ],
   "metadata": {
    "id": "-PGco_ey9Piu"
   },
   "outputs": [],
   "execution_count": null
  }
 ]
}
