{
 "cells": [
  {
   "cell_type": "code",
   "id": "initial_id",
   "metadata": {
    "collapsed": true,
    "ExecuteTime": {
     "end_time": "2025-07-31T08:45:48.112636Z",
     "start_time": "2025-07-31T08:45:48.106636Z"
    }
   },
   "source": [
    "import os\n",
    "from dotenv import load_dotenv\n",
    "\n",
    "from langchain.tools import tool\n",
    "from langchain_openai import ChatOpenAI\n",
    "from langchain.agents import create_openai_functions_agent, AgentExecutor\n",
    "from langchain.prompts import ChatPromptTemplate, MessagesPlaceholder\n",
    "from langchain_core.messages import HumanMessage\n",
    "\n",
    "load_dotenv()\n",
    "\n",
    "API_KEY = os.getenv(\"OPENAI_API_KEY\")\n",
    "print(f\"API Key loaded successfully. {len(API_KEY)} characters.\")"
   ],
   "outputs": [
    {
     "name": "stdout",
     "output_type": "stream",
     "text": [
      "API Key loaded successfully. 164 characters.\n"
     ]
    }
   ],
   "execution_count": 3
  },
  {
   "metadata": {
    "ExecuteTime": {
     "end_time": "2025-07-31T08:47:55.002421Z",
     "start_time": "2025-07-31T08:47:54.816044Z"
    }
   },
   "cell_type": "code",
   "source": [
    "llm = ChatOpenAI(\n",
    "    model=\"gpt-4.1-nano\",\n",
    "    api_key=API_KEY,\n",
    "    temperature=0.7,\n",
    ")"
   ],
   "id": "484b7442f582ed3c",
   "outputs": [],
   "execution_count": 4
  },
  {
   "metadata": {
    "ExecuteTime": {
     "end_time": "2025-07-31T08:48:26.745265Z",
     "start_time": "2025-07-31T08:48:26.741590Z"
    }
   },
   "cell_type": "code",
   "source": [
    "# Dummy knowledge base for writing assistance\n",
    "WRITING_KNOWLEDGE_BASE = {\n",
    "    \"grammar_rules\": {\n",
    "        \"subject_verb_agreement\": \"Ensure subjects and verbs agree in number (singular/plural)\",\n",
    "        \"comma_usage\": \"Use commas to separate items in a series and before coordinating conjunctions\",\n",
    "        \"apostrophes\": \"Use apostrophes for contractions and possessive nouns\"\n",
    "    },\n",
    "    \"writing_styles\": {\n",
    "        \"academic\": \"Formal tone, complex sentences, third person, evidence-based\",\n",
    "        \"creative\": \"Expressive language, varied sentence structure, emotional engagement\",\n",
    "        \"business\": \"Clear, concise, professional tone, action-oriented\"\n",
    "    },\n",
    "    \"essay_structure\": {\n",
    "        \"introduction\": \"Hook, background, thesis statement\",\n",
    "        \"body\": \"Topic sentence, evidence, analysis, transition\",\n",
    "        \"conclusion\": \"Restate thesis, summarize main points, call to action\"\n",
    "    }\n",
    "}"
   ],
   "id": "92c21ba0f71dd99e",
   "outputs": [],
   "execution_count": 5
  },
  {
   "metadata": {
    "ExecuteTime": {
     "end_time": "2025-07-31T08:54:05.376673Z",
     "start_time": "2025-07-31T08:54:05.367914Z"
    }
   },
   "cell_type": "code",
   "source": [
    "@tool\n",
    "def knowledge_base_search(query: str) -> str:\n",
    "    \"\"\"\n",
    "    Search the writing knowledge base for relevant information.\n",
    "    \"\"\"\n",
    "    query = query.lower()\n",
    "    results = list()\n",
    "\n",
    "    for category, items in WRITING_KNOWLEDGE_BASE.items():\n",
    "        if any(keyword in query for keyword in [category, *items.keys()]):\n",
    "            results.append(f\"\\n**{category.replace('_', ' ').title()}:**\")\n",
    "            for key, value in items.items():\n",
    "                if key in query:\n",
    "                    results.append(f\"- **{key.replace('_', ' ').title()}:** {value}\")\n",
    "\n",
    "    if not results:\n",
    "        return \"No relevant information found in the knowledge base.\"\n",
    "\n",
    "    return \"\\n\".join(results)"
   ],
   "id": "b09e8e79382d59a2",
   "outputs": [],
   "execution_count": 6
  },
  {
   "metadata": {
    "ExecuteTime": {
     "end_time": "2025-07-31T08:57:32.129994Z",
     "start_time": "2025-07-31T08:57:32.122913Z"
    }
   },
   "cell_type": "code",
   "source": [
    "@tool\n",
    "def text_analyzer(text: str) -> str:\n",
    "    \"\"\"\n",
    "    Analyze the provided text for grammar, style, and structure.`\n",
    "    :param text:\n",
    "    :return:\n",
    "    \"\"\"\n",
    "    if not text.strip():\n",
    "        return \"No text provided for analysis.\"\n",
    "\n",
    "    sentences = text.split('.')\n",
    "    words = text.split()\n",
    "    paragraphs = text.split('\\n\\n')\n",
    "\n",
    "    avg_sentence_length = sum(len(sentence.split()) for sentence in sentences) / len(sentences) if sentences else 0\n",
    "\n",
    "    analysis = f\"\"\"\n",
    "**Text Analysis:**\n",
    "- **Total Words:** {len(words)}\n",
    "- **Total Sentences:** {len(sentences)}\n",
    "- **Total Paragraphs:** {len(paragraphs)}\n",
    "- **Average Sentence Length:** {avg_sentence_length:.2f} words\n",
    "- **Grammar Issues:** {len([word for word in words if word.lower() in ['the', 'and', 'is', 'to', 'of']])} common grammar issues found (e.g., overuse of common words).\n",
    "\n",
    "**Suggestions:**\n",
    "- Consider varying sentence structure to enhance readability.\n",
    "- Use more specific vocabulary to improve clarity and engagement.\n",
    "- Ensure proper paragraph structure with clear topic sentences and transitions.\n",
    "\"\"\"\n",
    "    return analysis.strip()"
   ],
   "id": "badda30f3fda4022",
   "outputs": [],
   "execution_count": 9
  },
  {
   "metadata": {
    "ExecuteTime": {
     "end_time": "2025-07-31T08:57:44.724932Z",
     "start_time": "2025-07-31T08:57:44.715821Z"
    }
   },
   "cell_type": "code",
   "source": [
    "# Create the prompt template\n",
    "prompt = ChatPromptTemplate.from_messages([\n",
    "    (\"system\", \"\"\"You are an expert AI Writing Assistant. Your role is to help users improve their writing through:\n",
    "\n",
    "1. Grammar and style guidance\n",
    "2. Structural suggestions\n",
    "3. Content development advice\n",
    "4. Text analysis and feedback\n",
    "\n",
    "Guidelines:\n",
    "- Always be encouraging and constructive\n",
    "- Provide specific, actionable advice\n",
    "- Use your tools when appropriate to access knowledge or analyze text\n",
    "- Explain your reasoning clearly\n",
    "- Adapt your tone to match the user's writing goals\n",
    "\n",
    "Available tools:\n",
    "- knowledge_base_search: For grammar rules, writing styles, and structure information\n",
    "- text_analyzer: For analyzing text metrics and readability\n",
    "\n",
    "Always strive to provide comprehensive, helpful assistance that improves the user's writing skills.\"\"\"),\n",
    "    MessagesPlaceholder(variable_name=\"chat_history\", optional=True),\n",
    "    (\"human\", \"{input}\"),\n",
    "    MessagesPlaceholder(variable_name=\"agent_scratchpad\")\n",
    "])\n",
    "\n",
    "# Create tools list\n",
    "tools = [knowledge_base_search, text_analyzer]\n",
    "\n",
    "# Create the agent\n",
    "agent = create_openai_functions_agent(llm, tools, prompt)\n",
    "\n",
    "# Create agent executor\n",
    "agent_executor = AgentExecutor(\n",
    "    agent=agent,\n",
    "    tools=tools,\n",
    "    verbose=True,\n",
    "    handle_parsing_errors=True\n",
    ")"
   ],
   "id": "8ac2d2fdb4c67d90",
   "outputs": [],
   "execution_count": 10
  },
  {
   "metadata": {
    "ExecuteTime": {
     "end_time": "2025-07-31T08:58:08.760349Z",
     "start_time": "2025-07-31T08:57:55.347311Z"
    }
   },
   "cell_type": "code",
   "source": [
    "# Test the assistant\n",
    "def run_writing_assistant(user_input: str):\n",
    "    try:\n",
    "        response = agent_executor.invoke({\"input\": user_input})\n",
    "        return response[\"output\"]\n",
    "    except Exception as e:\n",
    "        return f\"Error: {str(e)}\"\n",
    "\n",
    "# Example usage\n",
    "if __name__ == \"__main__\":\n",
    "    # Test knowledge base search\n",
    "    print(\"=== Testing Knowledge Base ===\")\n",
    "    result1 = run_writing_assistant(\"What are the rules for academic writing style?\")\n",
    "    print(result1)\n",
    "\n",
    "    print(\"\\n=== Testing Text Analysis ===\")\n",
    "    sample_text = \"This is a sample text. It contains multiple sentences. Let's see how it performs in analysis.\"\n",
    "    result2 = run_writing_assistant(f\"Please analyze this text: {sample_text}\")\n",
    "    print(result2)\n",
    "\n",
    "    print(\"\\n=== General Writing Help ===\")\n",
    "    result3 = run_writing_assistant(\"How can I improve the structure of my essay?\")\n",
    "    print(result3)"
   ],
   "id": "9603e592e1bfa43c",
   "outputs": [
    {
     "name": "stdout",
     "output_type": "stream",
     "text": [
      "=== Testing Knowledge Base ===\n",
      "\n",
      "\n",
      "\u001B[1m> Entering new AgentExecutor chain...\u001B[0m\n",
      "\u001B[32;1m\u001B[1;3m\n",
      "Invoking: `knowledge_base_search` with `{'query': 'rules for academic writing style'}`\n",
      "\n",
      "\n",
      "\u001B[0m\u001B[36;1m\u001B[1;3m\n",
      "**Writing Styles:**\n",
      "- **Academic:** Formal tone, complex sentences, third person, evidence-based\u001B[0m\u001B[32;1m\u001B[1;3mAcademic writing has several key rules designed to ensure clarity, formality, and credibility. Here are some of the most important guidelines:\n",
      "\n",
      "1. **Use Formal Language:** Avoid slang, colloquialisms, and contractions. Choose precise and professional vocabulary.\n",
      "\n",
      "2. **Maintain Objectivity:** Present ideas and arguments without personal bias. Use passive voice judiciously to emphasize the information over the author.\n",
      "\n",
      "3. **Use Third Person:** Generally, avoid first-person pronouns (\"I,\" \"we\") unless instructed otherwise. Instead, focus on the research or evidence.\n",
      "\n",
      "4. **Be Clear and Concise:** Express ideas clearly without unnecessary words. Aim for precision and clarity in your sentences.\n",
      "\n",
      "5. **Structure Your Work Properly:** Follow a logical structure with an introduction, body, and conclusion. Use headings and subheadings for organization.\n",
      "\n",
      "6. **Support Claims with Evidence:** Cite sources appropriately to back up your arguments. Use reputable references and adhere to citation styles such as APA, MLA, or Chicago.\n",
      "\n",
      "7. **Use Formal Sentence Structures:** Complex sentences are common, but they should be well-constructed to avoid confusion.\n",
      "\n",
      "8. **Avoid Personal Opinions:** Focus on evidence-based arguments rather than personal beliefs or anecdotal evidence.\n",
      "\n",
      "9. **Proper Referencing and Citations:** Give credit to original sources to avoid plagiarism and add credibility.\n",
      "\n",
      "10. **Maintain Consistent Tense and Style:** Be consistent in your use of tense and formatting throughout your document.\n",
      "\n",
      "Would you like specific advice on any of these points or tips on how to improve particular aspects of your academic writing?\u001B[0m\n",
      "\n",
      "\u001B[1m> Finished chain.\u001B[0m\n",
      "Academic writing has several key rules designed to ensure clarity, formality, and credibility. Here are some of the most important guidelines:\n",
      "\n",
      "1. **Use Formal Language:** Avoid slang, colloquialisms, and contractions. Choose precise and professional vocabulary.\n",
      "\n",
      "2. **Maintain Objectivity:** Present ideas and arguments without personal bias. Use passive voice judiciously to emphasize the information over the author.\n",
      "\n",
      "3. **Use Third Person:** Generally, avoid first-person pronouns (\"I,\" \"we\") unless instructed otherwise. Instead, focus on the research or evidence.\n",
      "\n",
      "4. **Be Clear and Concise:** Express ideas clearly without unnecessary words. Aim for precision and clarity in your sentences.\n",
      "\n",
      "5. **Structure Your Work Properly:** Follow a logical structure with an introduction, body, and conclusion. Use headings and subheadings for organization.\n",
      "\n",
      "6. **Support Claims with Evidence:** Cite sources appropriately to back up your arguments. Use reputable references and adhere to citation styles such as APA, MLA, or Chicago.\n",
      "\n",
      "7. **Use Formal Sentence Structures:** Complex sentences are common, but they should be well-constructed to avoid confusion.\n",
      "\n",
      "8. **Avoid Personal Opinions:** Focus on evidence-based arguments rather than personal beliefs or anecdotal evidence.\n",
      "\n",
      "9. **Proper Referencing and Citations:** Give credit to original sources to avoid plagiarism and add credibility.\n",
      "\n",
      "10. **Maintain Consistent Tense and Style:** Be consistent in your use of tense and formatting throughout your document.\n",
      "\n",
      "Would you like specific advice on any of these points or tips on how to improve particular aspects of your academic writing?\n",
      "\n",
      "=== Testing Text Analysis ===\n",
      "\n",
      "\n",
      "\u001B[1m> Entering new AgentExecutor chain...\u001B[0m\n",
      "\u001B[32;1m\u001B[1;3m\n",
      "Invoking: `text_analyzer` with `{'text': \"This is a sample text. It contains multiple sentences. Let's see how it performs in analysis.\"}`\n",
      "\n",
      "\n",
      "\u001B[0m\u001B[33;1m\u001B[1;3m**Text Analysis:**\n",
      "- **Total Words:** 16\n",
      "- **Total Sentences:** 4\n",
      "- **Total Paragraphs:** 1\n",
      "- **Average Sentence Length:** 4.00 words\n",
      "- **Grammar Issues:** 1 common grammar issues found (e.g., overuse of common words).\n",
      "\n",
      "**Suggestions:**\n",
      "- Consider varying sentence structure to enhance readability.\n",
      "- Use more specific vocabulary to improve clarity and engagement.\n",
      "- Ensure proper paragraph structure with clear topic sentences and transitions.\u001B[0m\u001B[32;1m\u001B[1;3mYour sample text is clear and concise, with a good mixture of sentences. To improve, you might consider varying your sentence lengths and structures to make the flow more engaging. Additionally, adding more specific details or vocabulary can enhance clarity and interest. If you'd like, I can help you revise the text or suggest ways to develop it further!\u001B[0m\n",
      "\n",
      "\u001B[1m> Finished chain.\u001B[0m\n",
      "Your sample text is clear and concise, with a good mixture of sentences. To improve, you might consider varying your sentence lengths and structures to make the flow more engaging. Additionally, adding more specific details or vocabulary can enhance clarity and interest. If you'd like, I can help you revise the text or suggest ways to develop it further!\n",
      "\n",
      "=== General Writing Help ===\n",
      "\n",
      "\n",
      "\u001B[1m> Entering new AgentExecutor chain...\u001B[0m\n",
      "\u001B[32;1m\u001B[1;3mImproving the structure of your essay is a great way to make your writing clearer and more compelling! To give you the best advice, could you share your current essay or a draft? \n",
      "\n",
      "In general, here are some key tips for strengthening your essay’s structure:\n",
      "1. **Clear Introduction:** Start with a hook, introduce your main idea or thesis statement, and outline what you will discuss.\n",
      "2. **Logical Body Paragraphs:** Each paragraph should focus on one main idea that supports your thesis. Use topic sentences to introduce each paragraph's focus.\n",
      "3. **Transitions:** Use transition words and phrases to connect ideas smoothly between paragraphs and within them.\n",
      "4. **Strong Conclusion:** Summarize your main points and restate your thesis in a new way, leaving the reader with a final thought.\n",
      "5. **Outline Before Writing:** Planning your structure with an outline can help ensure your ideas flow logically.\n",
      "\n",
      "Would you like me to analyze your current essay for specific structural suggestions? If so, please share it!\u001B[0m\n",
      "\n",
      "\u001B[1m> Finished chain.\u001B[0m\n",
      "Improving the structure of your essay is a great way to make your writing clearer and more compelling! To give you the best advice, could you share your current essay or a draft? \n",
      "\n",
      "In general, here are some key tips for strengthening your essay’s structure:\n",
      "1. **Clear Introduction:** Start with a hook, introduce your main idea or thesis statement, and outline what you will discuss.\n",
      "2. **Logical Body Paragraphs:** Each paragraph should focus on one main idea that supports your thesis. Use topic sentences to introduce each paragraph's focus.\n",
      "3. **Transitions:** Use transition words and phrases to connect ideas smoothly between paragraphs and within them.\n",
      "4. **Strong Conclusion:** Summarize your main points and restate your thesis in a new way, leaving the reader with a final thought.\n",
      "5. **Outline Before Writing:** Planning your structure with an outline can help ensure your ideas flow logically.\n",
      "\n",
      "Would you like me to analyze your current essay for specific structural suggestions? If so, please share it!\n"
     ]
    }
   ],
   "execution_count": 11
  },
  {
   "metadata": {},
   "cell_type": "code",
   "outputs": [],
   "execution_count": null,
   "source": "",
   "id": "83241d3fc9f8580c"
  }
 ],
 "metadata": {
  "kernelspec": {
   "display_name": "Python 3",
   "language": "python",
   "name": "python3"
  },
  "language_info": {
   "codemirror_mode": {
    "name": "ipython",
    "version": 2
   },
   "file_extension": ".py",
   "mimetype": "text/x-python",
   "name": "python",
   "nbconvert_exporter": "python",
   "pygments_lexer": "ipython2",
   "version": "2.7.6"
  }
 },
 "nbformat": 4,
 "nbformat_minor": 5
}
